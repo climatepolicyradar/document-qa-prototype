{
 "cells": [
  {
   "cell_type": "code",
   "execution_count": 35,
   "metadata": {},
   "outputs": [
    {
     "data": {
      "text/plain": [
       "True"
      ]
     },
     "execution_count": 35,
     "metadata": {},
     "output_type": "execute_result"
    }
   ],
   "source": [
    "import os\n",
    "import json\n",
    "import pandas as pd\n",
    "import shutil\n",
    "import re\n",
    "\n",
    "from itertools import chain\n",
    "from tqdm import tqdm\n",
    "from pathlib import Path\n",
    "from dotenv import load_dotenv, find_dotenv\n",
    "\n",
    "load_dotenv(find_dotenv())"
   ]
  },
  {
   "cell_type": "code",
   "execution_count": 36,
   "metadata": {},
   "outputs": [],
   "source": [
    "path = Path(os.environ[\"LOCAL_DOCUMENT_DIR\"])\n",
    "slug_mapping = pd.read_csv(\"../data/slug.csv\")\n",
    "target_path = Path(\"../data/documents\")\n",
    "\n",
    "links = [\n",
    "    \"national-climate-change-act-2021_aeec\",\n",
    "    \"renewable-energy-sources-act-eeg-latest-version-eeg-2022_1b40\",\n",
    "    \"nigeria-s-climate-change-act_5ef7\",\n",
    "    \"the-climate-act_dae7\",\n",
    "    \"national-climate-change-action-plan-2018-2022-nccap_a381\",\n",
    "    \"inflation-reduction-act_b723\",\n",
    "    \"the-european-green-deal_60e2\",\n",
    "    \"uganda-s-updated-ndc_20d3\",\n",
    "    \"philippine-development-plan-2017-2022_86ee\",\n",
    "    \"directive-eu-2022-2464-of-the-european-parliament-and-of-the-council-of-14-december-2022-amending-regulation-eu-no-537-2014-directive-2004-109-ec-directive-2006-43-ec-and-directive-2013-34-eu-as-regards-corporate-sustainability-reporting-corporate-sustainability-reporting-directive_3a34\",\n",
    "    \"climate-change-act-2008-4baa\",\n",
    "]"
   ]
  },
  {
   "cell_type": "code",
   "execution_count": 37,
   "metadata": {},
   "outputs": [],
   "source": [
    "def get_document_names_from_links(document_dir: Path, links: list[str]) -> list[str]:\n",
    "    family_import_ids = slug_mapping[slug_mapping['name'].isin(links)][\"family_import_id\"].tolist()\n",
    "    \n",
    "    file_paths = []\n",
    "    for file in tqdm(document_dir.glob(\"*.json\")):\n",
    "        with open(file, \"r\") as file:\n",
    "            f = json.load(file)\n",
    "            if f[\"document_metadata\"][\"family_import_id\"] in family_import_ids\\\n",
    "              or f[\"document_metadata\"][\"slug\"] in links\\\n",
    "              or f[\"document_slug\"] in links:\n",
    "                file_paths.append(file.name)\n",
    "    \n",
    "    return file_paths"
   ]
  },
  {
   "cell_type": "code",
   "execution_count": 38,
   "metadata": {},
   "outputs": [
    {
     "name": "stderr",
     "output_type": "stream",
     "text": [
      "8910it [00:21, 409.53it/s]\n"
     ]
    }
   ],
   "source": [
    "doc_names = get_document_names_from_links(path, links)"
   ]
  },
  {
   "cell_type": "code",
   "execution_count": 39,
   "metadata": {},
   "outputs": [],
   "source": [
    "def filter_translations(doc_names: list[str]) -> list[str]:\n",
    "    filtered_doc_names = []\n",
    "    all_names = [Path(n).stem for n in doc_names]\n",
    "\n",
    "    for name in doc_names:\n",
    "        if f\"{Path(name).stem}_translated_en\" in all_names:\n",
    "            continue\n",
    "        else:\n",
    "            filtered_doc_names.append(name)\n",
    "    \n",
    "    return filtered_doc_names"
   ]
  },
  {
   "cell_type": "code",
   "execution_count": 40,
   "metadata": {},
   "outputs": [
    {
     "name": "stdout",
     "output_type": "stream",
     "text": [
      "35\n",
      "24\n"
     ]
    }
   ],
   "source": [
    "print(len(doc_names))\n",
    "\n",
    "doc_names = filter_translations(doc_names)\n",
    "\n",
    "print(len(doc_names))"
   ]
  },
  {
   "cell_type": "code",
   "execution_count": 47,
   "metadata": {},
   "outputs": [],
   "source": [
    "def _num_text_blocks_from_path(path: Path) -> int:\n",
    "    with open(path, \"r\") as file:\n",
    "        f = json.load(file)\n",
    "    \n",
    "    if \"pdf_data\" in f.keys() and f[\"pdf_data\"] is not None:\n",
    "        if \"text_blocks\" in f[\"pdf_data\"].keys():\n",
    "            return len(f[\"pdf_data\"][\"text_blocks\"])\n",
    "    elif \"html_data\" in f.keys() and f[\"html_data\"] is not None:\n",
    "        if \"text_blocks\" in f[\"html_data\"].keys():\n",
    "            return len(f[\"html_data\"][\"text_blocks\"])\n",
    "\n",
    "    return 0\n",
    "\n",
    "\n",
    "def filter_within_families(doc_names: list[str]) -> list[str]:\n",
    "    pattern = re.compile(r\".*(CCLW.(?:legislative|executive).\\d{1,5})\")\n",
    "    families = set(chain(*[re.findall(pattern, n) for n in doc_names]))\n",
    "\n",
    "    filtered_doc_names = []\n",
    "    for family in families:\n",
    "        family_docs = [n for n in doc_names if family in n]\n",
    "\n",
    "        docs_to_text_block_count = {n: _num_text_blocks_from_path(n) for n in family_docs}\n",
    "\n",
    "        max_text_blocks = max(docs_to_text_block_count.values())\n",
    "\n",
    "        if max_text_blocks > 0:\n",
    "            filtered_doc_names.append(max(docs_to_text_block_count, key=docs_to_text_block_count.get))\n",
    "            print(f\"{max_text_blocks} max text blocks found for {family}\")\n",
    "        else:\n",
    "            print(f\"No text blocks found for {family}\")\n",
    "    \n",
    "    return filtered_doc_names"
   ]
  },
  {
   "cell_type": "code",
   "execution_count": 48,
   "metadata": {},
   "outputs": [
    {
     "name": "stdout",
     "output_type": "stream",
     "text": [
      "773 max text blocks found for CCLW.legislative.11041\n",
      "1843 max text blocks found for CCLW.executive.9647\n",
      "No text blocks found for CCLW.legislative.10180\n",
      "1703 max text blocks found for CCLW.legislative.10699\n",
      "2064 max text blocks found for CCLW.legislative.2072\n",
      "73 max text blocks found for CCLW.legislative.9363\n",
      "1713 max text blocks found for CCLW.legislative.1755\n",
      "906 max text blocks found for CCLW.executive.8737\n",
      "47 max text blocks found for CCLW.legislative.10390\n",
      "123 max text blocks found for CCLW.executive.9369\n"
     ]
    }
   ],
   "source": [
    "doc_names_filtered = filter_within_families(doc_names)"
   ]
  },
  {
   "cell_type": "code",
   "execution_count": 49,
   "metadata": {},
   "outputs": [
    {
     "data": {
      "text/plain": [
       "['/Users/matyasjuhasz/git/data/CCLW.legislative.11041.6337.json',\n",
       " '/Users/matyasjuhasz/git/data/CCLW.executive.9647.4059.json',\n",
       " '/Users/matyasjuhasz/git/data/CCLW.legislative.10699.5931.json',\n",
       " '/Users/matyasjuhasz/git/data/CCLW.legislative.2072.4367_translated_en.json',\n",
       " '/Users/matyasjuhasz/git/data/CCLW.legislative.9363.rtl_152_translated_en.json',\n",
       " '/Users/matyasjuhasz/git/data/CCLW.legislative.1755.rtl_71.json',\n",
       " '/Users/matyasjuhasz/git/data/CCLW.executive.8737.1424.json',\n",
       " '/Users/matyasjuhasz/git/data/CCLW.legislative.10390.0.json',\n",
       " '/Users/matyasjuhasz/git/data/CCLW.executive.9369.3236.json']"
      ]
     },
     "execution_count": 49,
     "metadata": {},
     "output_type": "execute_result"
    }
   ],
   "source": [
    "doc_names_filtered"
   ]
  },
  {
   "cell_type": "code",
   "execution_count": 44,
   "metadata": {},
   "outputs": [],
   "source": [
    "for doc in doc_names_filtered:\n",
    "    shutil.copyfile(doc, target_path / Path(doc).name)"
   ]
  },
  {
   "cell_type": "code",
   "execution_count": null,
   "metadata": {},
   "outputs": [],
   "source": []
  }
 ],
 "metadata": {
  "kernelspec": {
   "display_name": "sandbox",
   "language": "python",
   "name": "python3"
  },
  "language_info": {
   "codemirror_mode": {
    "name": "ipython",
    "version": 3
   },
   "file_extension": ".py",
   "mimetype": "text/x-python",
   "name": "python",
   "nbconvert_exporter": "python",
   "pygments_lexer": "ipython3",
   "version": "3.11.4"
  }
 },
 "nbformat": 4,
 "nbformat_minor": 2
}
