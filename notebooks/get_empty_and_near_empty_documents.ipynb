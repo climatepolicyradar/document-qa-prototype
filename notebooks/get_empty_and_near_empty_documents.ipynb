{
 "cells": [
  {
   "cell_type": "code",
   "execution_count": 30,
   "metadata": {},
   "outputs": [
    {
     "data": {
      "text/plain": [
       "True"
      ]
     },
     "execution_count": 30,
     "metadata": {},
     "output_type": "execute_result"
    }
   ],
   "source": [
    "import json\n",
    "from pathlib import Path\n",
    "import shutil\n",
    "\n",
    "import pandas as pd\n",
    "from tqdm.auto import tqdm\n",
    "import seaborn as sns\n",
    "\n",
    "from dotenv import load_dotenv, find_dotenv\n",
    "\n",
    "tqdm.pandas()\n",
    "\n",
    "load_dotenv(find_dotenv(), override=True)"
   ]
  },
  {
   "cell_type": "markdown",
   "metadata": {},
   "source": [
    "## Load document JSONs"
   ]
  },
  {
   "cell_type": "code",
   "execution_count": 2,
   "metadata": {},
   "outputs": [
    {
     "data": {
      "application/vnd.jupyter.widget-view+json": {
       "model_id": "73c36622cc804e0faff92eac89a217fc",
       "version_major": 2,
       "version_minor": 0
      },
      "text/plain": [
       "  0%|          | 0/715 [00:00<?, ?it/s]"
      ]
     },
     "metadata": {},
     "output_type": "display_data"
    }
   ],
   "source": [
    "# Note from Kalyan: I still can't get s3 to work in a notebook, so the code loads from \n",
    "# the local filesystem for now. The s3 dir below contains the data you need to get this\n",
    "# running.\n",
    "# documents_s3_path = \"s3://project-rag/data/cpr_embeddings_output\"\n",
    "\n",
    "documents_path = Path(\"/Users/kalyan/Documents/CPR/rag-labs/data/cpr_embeddings_output_final\").expanduser()\n",
    "\n",
    "assert documents_path.exists()\n",
    "\n",
    "documents_by_id = {}\n",
    "\n",
    "for path in tqdm(list(documents_path.glob(\"*.json\"))):\n",
    "    document_id = path.stem\n",
    "    try:\n",
    "        documents_by_id[document_id] = json.loads(path.read_text())\n",
    "    except Exception as e:\n",
    "        print(f\"Failed to load {document_id}: {e}\")"
   ]
  },
  {
   "cell_type": "markdown",
   "metadata": {},
   "source": [
    "## Exploratory analysis - find near-empty docs and docs with corrupted text"
   ]
  },
  {
   "cell_type": "code",
   "execution_count": 3,
   "metadata": {},
   "outputs": [],
   "source": [
    "def get_page_text(document: dict, first_n_pages: int) -> list[str]:\n",
    "    \"\"\"Get text from specific pages, or all pages if the document is an HTML document.\"\"\"\n",
    "    \n",
    "    if document[\"pdf_data\"] is not None:\n",
    "        blocks = document[\"pdf_data\"][\"text_blocks\"]\n",
    "        return [\" \".join(block[\"text\"]) for block in blocks if block[\"page_number\"] < first_n_pages]\n",
    "    elif document[\"html_data\"] is not None:\n",
    "        blocks = document[\"html_data\"][\"text_blocks\"]\n",
    "        return [\" \".join(block[\"text\"]) for block in blocks]\n",
    "    else:\n",
    "        return []\n"
   ]
  },
  {
   "cell_type": "code",
   "execution_count": 4,
   "metadata": {},
   "outputs": [
    {
     "data": {
      "text/html": [
       "<div>\n",
       "<style scoped>\n",
       "    .dataframe tbody tr th:only-of-type {\n",
       "        vertical-align: middle;\n",
       "    }\n",
       "\n",
       "    .dataframe tbody tr th {\n",
       "        vertical-align: top;\n",
       "    }\n",
       "\n",
       "    .dataframe thead th {\n",
       "        text-align: right;\n",
       "    }\n",
       "</style>\n",
       "<table border=\"1\" class=\"dataframe\">\n",
       "  <thead>\n",
       "    <tr style=\"text-align: right;\">\n",
       "      <th></th>\n",
       "      <th>document_id</th>\n",
       "      <th>all_text</th>\n",
       "    </tr>\n",
       "  </thead>\n",
       "  <tbody>\n",
       "    <tr>\n",
       "      <th>0</th>\n",
       "      <td>CCLW.legislative.8544.rtl_85</td>\n",
       "      <td>OFFICIAL JOURNAL OF THE GRAND DUCHÉ DE LUXEMBO...</td>\n",
       "    </tr>\n",
       "    <tr>\n",
       "      <th>1</th>\n",
       "      <td>UNFCCC.party.1535.0</td>\n",
       "      <td></td>\n",
       "    </tr>\n",
       "  </tbody>\n",
       "</table>\n",
       "</div>"
      ],
      "text/plain": [
       "                    document_id  \\\n",
       "0  CCLW.legislative.8544.rtl_85   \n",
       "1           UNFCCC.party.1535.0   \n",
       "\n",
       "                                            all_text  \n",
       "0  OFFICIAL JOURNAL OF THE GRAND DUCHÉ DE LUXEMBO...  \n",
       "1                                                     "
      ]
     },
     "execution_count": 4,
     "metadata": {},
     "output_type": "execute_result"
    }
   ],
   "source": [
    "document_text_df = pd.DataFrame(\n",
    "    {\n",
    "        \"document_id\": document_id,\n",
    "        \"all_text\": \" \".join(get_page_text(document_dict, 10000))\n",
    "    }\n",
    "    for document_id, document_dict in documents_by_id.items()\n",
    ")\n",
    "\n",
    "document_text_df.head(2)"
   ]
  },
  {
   "cell_type": "code",
   "execution_count": 5,
   "metadata": {},
   "outputs": [
    {
     "data": {
      "text/plain": [
       "<Axes: xlabel='text_n_words', ylabel='Count'>"
      ]
     },
     "execution_count": 5,
     "metadata": {},
     "output_type": "execute_result"
    },
    {
     "data": {
      "image/png": "[encoded data removed]",
      "text/plain": [
       "<Figure size 640x480 with 1 Axes>"
      ]
     },
     "metadata": {},
     "output_type": "display_data"
    }
   ],
   "source": [
    "from collections import Counter\n",
    "\n",
    "def alphanumeric_ratio(text: str) -> float:\n",
    "    \"\"\"Calculate the proportion of alphanumeric characters in a text.\"\"\"\n",
    "    if len(text) == 0:\n",
    "        return 0.0\n",
    "    \n",
    "    text = text.lower()\n",
    "    char_freq = Counter(text)\n",
    "    total_chars = len(text)\n",
    "\n",
    "    alphanumeric = 'abcdefghijklmnopqrstuvwxyz0123456789'\n",
    "    alpha_numeric_freq = sum(char_freq[c] for c in alphanumeric)\n",
    "    alpha_ratio = alpha_numeric_freq / total_chars\n",
    "    \n",
    "    return alpha_ratio\n",
    "\n",
    "document_text_df[\"text_n_words\"] = document_text_df[\"all_text\"].apply(lambda x: len(x.split()))\n",
    "document_text_df[\"is_empty\"] = document_text_df[\"text_n_words\"] == 0\n",
    "document_text_df[\"alpha_ratio\"] = document_text_df[\"all_text\"].apply(alphanumeric_ratio)\n",
    "\n",
    "sns.histplot(document_text_df[\"text_n_words\"], bins=100, log_scale=True)"
   ]
  },
  {
   "cell_type": "code",
   "execution_count": 6,
   "metadata": {},
   "outputs": [
    {
     "data": {
      "text/plain": [
       "<Axes: xlabel='alpha_ratio', ylabel='Count'>"
      ]
     },
     "execution_count": 6,
     "metadata": {},
     "output_type": "execute_result"
    },
    {
     "data": {
      "image/png": "[encoded data removed]",
      "text/plain": [
       "<Figure size 640x480 with 1 Axes>"
      ]
     },
     "metadata": {},
     "output_type": "display_data"
    }
   ],
   "source": [
    "sns.histplot(document_text_df.loc[document_text_df[\"is_empty\"] == False, \"alpha_ratio\"], bins=100)"
   ]
  },
  {
   "cell_type": "markdown",
   "metadata": {},
   "source": [
    "### text length\n",
    "\n",
    "`min_words == 100` seems like a good minimum threshold"
   ]
  },
  {
   "cell_type": "code",
   "execution_count": 7,
   "metadata": {},
   "outputs": [
    {
     "data": {
      "text/html": [
       "<div>\n",
       "<style scoped>\n",
       "    .dataframe tbody tr th:only-of-type {\n",
       "        vertical-align: middle;\n",
       "    }\n",
       "\n",
       "    .dataframe tbody tr th {\n",
       "        vertical-align: top;\n",
       "    }\n",
       "\n",
       "    .dataframe thead th {\n",
       "        text-align: right;\n",
       "    }\n",
       "</style>\n",
       "<table border=\"1\" class=\"dataframe\">\n",
       "  <thead>\n",
       "    <tr style=\"text-align: right;\">\n",
       "      <th></th>\n",
       "      <th>document_id</th>\n",
       "      <th>all_text</th>\n",
       "      <th>text_n_words</th>\n",
       "      <th>is_empty</th>\n",
       "      <th>alpha_ratio</th>\n",
       "    </tr>\n",
       "  </thead>\n",
       "  <tbody>\n",
       "    <tr>\n",
       "      <th>215</th>\n",
       "      <td>CCLW.document.i00000442.n0000</td>\n",
       "      <td>%PDF-1.5 %���� 23 0 obj &amp;lt;&amp;gt; throw in 31 0 obj &amp;lt;&amp;gt;/Filter/FlateDecode/ID[&amp;lt;34EA4E37C4B67E41A7771A9A9EE186D6&amp;gt;&amp;lt;34EA4E37C4B67E41A7771A9A9EE186D6&amp;gt;]/Index[23 18]/Info 22 0 R/Length 59/Prev 66785/Root 24 0 R/Size 41/Type/XRef/W[1 2 1]&amp;gt;&amp;gt;stream h�bbd``b`��@��\\tH0��D} ^\\t$�Ab�'����10 �3n�\\t` =?� endstream throw in startxref 0 %%EOF 40 0 obj &amp;lt;&amp;gt;stream h�b```f``2e`b``�� �� @ �8p:����!��B�v����� D��ui6 ��41�30p���&amp;amp;0�:��0��,���ȼH3�@� +4 endstream throw in 24 0 obj &amp;lt;&amp;gt;&amp;gt;&amp;gt; throw in 25 0 obj &amp;lt;&amp;gt; throw in 26 0 obj &amp;lt;&amp;gt;stream h޴�mO�0ǿʽ܄��8���Jy�@$bC�&amp;lt;��6�1������\\���]�wN~(����D ���F5���E����������d�c�Z��~�0 ��шL��u�$��ٜ���� �T����&amp;amp;6����MIb���h��&amp;lt;9�?i^���7�I�z0/��qyc���af��{Jq�g*�6w�i�ޕ�|m�I�t�͔v.��������wN�y���$�ܔ_+K��* ?ӹ!㣋�Y���ϊy� 6ͳ���.7@Il�|Zzq��� ��e�`�%�],ꙙ�������lY���t �� ʃO�;N�0?^[�2Y&amp;gt;�w[ ������ҝ4C���4��π�c� Wjo�db��W��#��=��O�� P^��;���Z�l��^��o|���F;��|XOwm���Y�p�Ǧ�n���ZcN:0������13]3J�~2b�Q���uwV���j����Z�l���� �7�r��nu�������E�դ�o�e\"��eB�W�&amp;gt;�o7X˭zŭ��ms� ��a���OlKҋ�դ ���ג��M\\Mo7�;d�B\\���^[X�u�h�u�{�+Kt|��������G߀Ͳu(�GY�&amp;lt;��.�5w��\\���5�h���W��\"�1��;9�mU����u��&amp;gt;W�$/L�P��J��������,� t�*| endstream throw in 27 0 obj &amp;lt;&amp;gt;stream H�tV pT���}owY�($�$��#!B�@�@��v4�����k6�DW�d~fP&amp;amp;v�V��h�JQ�,OL���D��h[J������L�b-��ݗ f�g�=�{��9�.@O�@C�&amp;amp;k�O�&amp;gt;x1�j�6?�0��G =oA�„��������O,_� ��Wꁢ��Yu���т�瀍́�::zd��Y\\�K4-{q��]\\���{bQM쾆i� k�����-k���� o&amp;lt;�3�x2��;����|�h\\���&amp;lt;�٠��ƧjK ?m70�pp5A���O�h�q7`�%.���K `�E+� �6��0E�C3�0s3N�&amp;gt;d�g�x��pg� �� ~�]b2�xeH�r��!���r,bl%^���nachrichten?���� ���&amp;quot;�3�:�l�k� ������F���pN`$rQȜ h~�d�b&amp;lt;�ۂ�qZ��ǣFc�X�:$�$���8���#xO%�b-�~+��b�����!��{� ��y\\}�q�γ�l�w�� g +�a;~�*�!�9\\3�\\��F���1�.v-�*&amp;lt;� &amp;lt;�J�����ŢT���E$�!Y� New ��c�} ��c����&amp;#39;n�����&amp;amp;N������&amp;gt;�iIm�}�~�5�՚~3}�^ho���Y�� ��/��X�1�1���ǝ��2����w�q�piQ�:ǈ 1O�;�AqD | Error</td>\n",
       "      <td>116</td>\n",
       "      <td>False</td>\n",
       "      <td>0.418329</td>\n",
       "    </tr>\n",
       "    <tr>\n",
       "      <th>513</th>\n",
       "      <td>CCLW.executive.11053.6353</td>\n",
       "      <td>Government has approved Phase-II of FAME Scheme with an outlay of Rs. 10,000 Crore for a period of 3 years commencing from 1st April 2019. Out of total budgetary support, about 86 percent of fund has been allocated for Demand Incentive so as to create demand for xEVs in the country. This phase aims to generate demand by way of supporting 7000 e-Buses, 5 lakh e-3 Wheelers, 55000 e-4 Wheeler Passenger Cars (including Strong Hybrid) and 10 lakh e-2 Wheelers. However, depending upon off-take of different category of xEVs, these numbers may vary as the provision has been made for inter as well as intra segment wise fungibility. Only advanced battery and registered vehicles will be incentivized under the scheme. With greater emphasis on providing affordable &amp; environment friendly public transportation options for the masses, scheme will be applicable mainly to vehicles used for public transport or those registered for comme... [Read More]</td>\n",
       "      <td>153</td>\n",
       "      <td>False</td>\n",
       "      <td>0.810782</td>\n",
       "    </tr>\n",
       "    <tr>\n",
       "      <th>596</th>\n",
       "      <td>CCLW.executive.10211.4813</td>\n",
       "      <td>Main guidelines: Excerpts from the Royal Speech of October 12, 2018 &amp;quot;The agricultural sector can be a more efficient provider of jobs and a more effective instrument for ensuring better living and settlement conditions in rural areas&amp;quot; “We call for the consolidation of the achievements made in the agricultural sector and the creation of new job-generating and income-generating activities, particularly for young people in rural areas” &amp;quot;Our goal is to promote the emergence of an agricultural middle class&amp;quot; &amp;quot;We are guiding the government to develop innovative mechanisms to encourage farmers to join more cooperatives and productive agricultural groups&amp;quot; &amp;quot;We call for the strengthening and facilitation of investors&amp;#39; access to land&amp;quot; “Doing justice to small farmers, especially in the marketing of their products” &amp;quot;The mobilization of agricultural land belonging to ethnic communities for the realization of agricultural investment projects, constitutes a strong lever to improve the overall socio-economic standard of living, and more particularly that of the beneficiaries&amp;quot;</td>\n",
       "      <td>157</td>\n",
       "      <td>False</td>\n",
       "      <td>0.829787</td>\n",
       "    </tr>\n",
       "    <tr>\n",
       "      <th>484</th>\n",
       "      <td>CCLW.legislative.8861.1204</td>\n",
       "      <td>Royal decree No. 2007/90 Establishing a Ministry of Environment and Climate Affairs Sultan of Oman. We are Qaboos bin Said After reviewing the Basic Law of the State issued by Royal Decree No. 96/101, Based on the public interest . We were drawn to what was coming Article One: A Ministry of Environment and Climate Affairs shall be established, and the powers, allocations and assets related to the environment shall be transferred to it from the Ministry of Regional Municipalities, Environment and Water Resources, and shall be transferred to it, with the same financial grades. All employees working in the field of environment in the aforementioned ministry. Article Two: Everything that contravenes this decree or conflicts with its provisions shall be cancelled. Article Three: This decree shall be published in the Official Gazette, and shall be effective from the date Its issuance. Issued on: Shaban 26, 1428 AH Corresponding to: September 9, 2007 AD Qaboos bin Saeed Sultan of Oman - ٨ - Official Gazette Issue (847)</td>\n",
       "      <td>167</td>\n",
       "      <td>False</td>\n",
       "      <td>0.810127</td>\n",
       "    </tr>\n",
       "    <tr>\n",
       "      <th>404</th>\n",
       "      <td>CCLW.executive.10083.4483</td>\n",
       "      <td>Ottawa, July 7, 2020 — The Government of Canada and the Federation of Canadian Municipalities are proud to launch the Municipal Energy Roadmap. This decision-support tool provides specific guidance to identify the most impactful solutions for reducing greenhouse gas (GHG) emissions. The Municipal Energy Roadmap will help municipalities discover solutions for energy efficiency in municipal, commercial, and residential buildings; learn about solutions for community sustainable energy generation; and implement strategies to drive these solutions forward. The initiative is part of the Green Municipal Fund, a $1 billion program funded by the Government of Canada and delivered by the Federation of Canadian Municipalities. It is the first in a series of five municipal sector tools that aims to help Canadian municipalities identify the most promising sustainability solutions for their local context. By working with residents, businesses and other stakeholders to create jobs, lead economic recovery, and significantly improve quality of life for residents, the roadmap is also improving the environmental footprint of municipalities and contributing to their long-term sustainability objectives.</td>\n",
       "      <td>169</td>\n",
       "      <td>False</td>\n",
       "      <td>0.840966</td>\n",
       "    </tr>\n",
       "  </tbody>\n",
       "</table>\n",
       "</div>"
      ],
      "text/plain": [
       "                       document_id  \\\n",
       "215  CCLW.document.i00000442.n0000   \n",
       "513      CCLW.executive.11053.6353   \n",
       "596      CCLW.executive.10211.4813   \n",
       "484     CCLW.legislative.8861.1204   \n",
       "404      CCLW.executive.10083.4483   \n",
       "\n",
       "                                                                                                                                                                                                                                                                                                                                                                                                                                                                                                                                                                                                                                                                                                                                                                                                                                                                                                                                                                                                                                                                                                                                                                                                                                                                                                                                                                                                                                                                                                                                                                                                                                                                                                                                                                                                                                                                                                                               all_text  \\\n",
       "215  %PDF-1.5 %���� 23 0 obj &lt;&gt; throw in 31 0 obj &lt;&gt;/Filter/FlateDecode/ID[&lt;34EA4E37C4B67E41A7771A9A9EE186D6&gt;&lt;34EA4E37C4B67E41A7771A9A9EE186D6&gt;]/Index[23 18]/Info 22 0 R/Length 59/Prev 66785/Root 24 0 R/Size 41/Type/XRef/W[1 2 1]&gt;&gt;stream h�bbd``b`��@��\\tH0��D} ^\\t$�Ab�'����10 �3n�\\t` =?� endstream throw in startxref 0 %%EOF 40 0 obj &lt;&gt;stream h�b```f``2e`b``�� �� @ �8p:����!��B�v����� D��ui6 ��41�30p���&amp;0�:��0��,���ȼH3�@� +4 endstream throw in 24 0 obj &lt;&gt;&gt;&gt; throw in 25 0 obj &lt;&gt; throw in 26 0 obj &lt;&gt;stream h޴�mO�0ǿʽ܄��8���Jy�@$bC�&lt;��6�1������\\���]�wN~(����D ���F5���E����������d�c�Z��~�0 ��шL��u�$��ٜ���� �T����&amp;6����MIb���h��&lt;9�?i^���7�I�z0/��qyc���af��{Jq�g*�6w�i�ޕ�|m�I�t�͔v.��������wN�y���$�ܔ_+K��* ?ӹ!㣋�Y���ϊy� 6ͳ���.7@Il�|Zzq��� ��e�`�%�],ꙙ�������lY���t �� ʃO�;N�0?^[�2Y&gt;�w[ ������ҝ4C���4��π�c� Wjo�db��W��#��=��O�� P^��;���Z�l��^��o|���F;��|XOwm���Y�p�Ǧ�n���ZcN:0������13]3J�~2b�Q���uwV���j����Z�l���� �7�r��nu�������E�դ�o�e\"��eB�W�&gt;�o7X˭zŭ��ms� ��a���OlKҋ�դ ���ג��M\\Mo7�;d�B\\���^[X�u�h�u�{�+Kt|��������G߀Ͳu(�GY�&lt;��.�5w��\\���5�h���W��\"�1��;9�mU����u��&gt;W�$/L�P��J��������,� t�*| endstream throw in 27 0 obj &lt;&gt;stream H�tV pT���}owY�($�$��#!B�@�@��v4�����k6�DW�d~fP&amp;v�V��h�JQ�,OL���D��h[J������L�b-��ݗ f�g�=�{��9�.@O�@C�&amp;k�O�&gt;x1�j�6?�0��G =oA�„��������O,_� ��Wꁢ��Yu���т�瀍́�::zd��Y\\�K4-{q��]\\���{bQM쾆i� k�����-k���� o&lt;�3�x2��;����|�h\\���&lt;�٠��ƧjK ?m70�pp5A���O�h�q7`�%.���K `�E+� �6��0E�C3�0s3N�&gt;d�g�x��pg� �� ~�]b2�xeH�r��!���r,bl%^���nachrichten?���� ���&quot;�3�:�l�k� ������F���pN`$rQȜ h~�d�b&lt;�ۂ�qZ��ǣFc�X�:$�$���8���#xO%�b-�~+��b�����!��{� ��y\\}�q�γ�l�w�� g +�a;~�*�!�9\\3�\\��F���1�.v-�*&lt;� &lt;�J�����ŢT���E$�!Y� New ��c�} ��c����&#39;n�����&amp;N������&gt;�iIm�}�~�5�՚~3}�^ho���Y�� ��/��X�1�1���ǝ��2����w�q�piQ�:ǈ 1O�;�AqD | Error   \n",
       "513                                                                                                                                                                                                                                                                                                                                                                                                                                                                                                                                                                                                                                                                                                                                                                                                                                                                                                                                                  Government has approved Phase-II of FAME Scheme with an outlay of Rs. 10,000 Crore for a period of 3 years commencing from 1st April 2019. Out of total budgetary support, about 86 percent of fund has been allocated for Demand Incentive so as to create demand for xEVs in the country. This phase aims to generate demand by way of supporting 7000 e-Buses, 5 lakh e-3 Wheelers, 55000 e-4 Wheeler Passenger Cars (including Strong Hybrid) and 10 lakh e-2 Wheelers. However, depending upon off-take of different category of xEVs, these numbers may vary as the provision has been made for inter as well as intra segment wise fungibility. Only advanced battery and registered vehicles will be incentivized under the scheme. With greater emphasis on providing affordable & environment friendly public transportation options for the masses, scheme will be applicable mainly to vehicles used for public transport or those registered for comme... [Read More]   \n",
       "596                                                                                                                                                                                                                                                                                                                                                                                                                                                                                                                                                                                                                                                                                                                                                            Main guidelines: Excerpts from the Royal Speech of October 12, 2018 &quot;The agricultural sector can be a more efficient provider of jobs and a more effective instrument for ensuring better living and settlement conditions in rural areas&quot; “We call for the consolidation of the achievements made in the agricultural sector and the creation of new job-generating and income-generating activities, particularly for young people in rural areas” &quot;Our goal is to promote the emergence of an agricultural middle class&quot; &quot;We are guiding the government to develop innovative mechanisms to encourage farmers to join more cooperatives and productive agricultural groups&quot; &quot;We call for the strengthening and facilitation of investors&#39; access to land&quot; “Doing justice to small farmers, especially in the marketing of their products” &quot;The mobilization of agricultural land belonging to ethnic communities for the realization of agricultural investment projects, constitutes a strong lever to improve the overall socio-economic standard of living, and more particularly that of the beneficiaries&quot;   \n",
       "484                                                                                                                                                                                                                                                                                                                                                                                                                                                                                                                                                                                                                                                                                                                                                                                                                                                                 Royal decree No. 2007/90 Establishing a Ministry of Environment and Climate Affairs Sultan of Oman. We are Qaboos bin Said After reviewing the Basic Law of the State issued by Royal Decree No. 96/101, Based on the public interest . We were drawn to what was coming Article One: A Ministry of Environment and Climate Affairs shall be established, and the powers, allocations and assets related to the environment shall be transferred to it from the Ministry of Regional Municipalities, Environment and Water Resources, and shall be transferred to it, with the same financial grades. All employees working in the field of environment in the aforementioned ministry. Article Two: Everything that contravenes this decree or conflicts with its provisions shall be cancelled. Article Three: This decree shall be published in the Official Gazette, and shall be effective from the date Its issuance. Issued on: Shaban 26, 1428 AH Corresponding to: September 9, 2007 AD Qaboos bin Saeed Sultan of Oman - ٨ - Official Gazette Issue (847)   \n",
       "404                                                                                                                                                                                                                                                                                                                                                                                                                                                                                                                                                                                                                                                                                   Ottawa, July 7, 2020 — The Government of Canada and the Federation of Canadian Municipalities are proud to launch the Municipal Energy Roadmap. This decision-support tool provides specific guidance to identify the most impactful solutions for reducing greenhouse gas (GHG) emissions. The Municipal Energy Roadmap will help municipalities discover solutions for energy efficiency in municipal, commercial, and residential buildings; learn about solutions for community sustainable energy generation; and implement strategies to drive these solutions forward. The initiative is part of the Green Municipal Fund, a $1 billion program funded by the Government of Canada and delivered by the Federation of Canadian Municipalities. It is the first in a series of five municipal sector tools that aims to help Canadian municipalities identify the most promising sustainability solutions for their local context. By working with residents, businesses and other stakeholders to create jobs, lead economic recovery, and significantly improve quality of life for residents, the roadmap is also improving the environmental footprint of municipalities and contributing to their long-term sustainability objectives.   \n",
       "\n",
       "     text_n_words  is_empty  alpha_ratio  \n",
       "215           116     False     0.418329  \n",
       "513           153     False     0.810782  \n",
       "596           157     False     0.829787  \n",
       "484           167     False     0.810127  \n",
       "404           169     False     0.840966  "
      ]
     },
     "metadata": {},
     "output_type": "display_data"
    }
   ],
   "source": [
    "min_words = 100\n",
    "\n",
    "with pd.option_context(\"display.max_colwidth\", None):\n",
    "    display(\n",
    "        document_text_df[document_text_df[\"text_n_words\"] > min_words].sort_values(\"text_n_words\").head(5)\n",
    "    )"
   ]
  },
  {
   "cell_type": "markdown",
   "metadata": {},
   "source": [
    "### alphanumeric ratio\n",
    "\n",
    "This is too fuzzy a metric to set a precise threshold, but 0.5 seems sensible."
   ]
  },
  {
   "cell_type": "code",
   "execution_count": 24,
   "metadata": {},
   "outputs": [
    {
     "data": {
      "text/html": [
       "<div>\n",
       "<style scoped>\n",
       "    .dataframe tbody tr th:only-of-type {\n",
       "        vertical-align: middle;\n",
       "    }\n",
       "\n",
       "    .dataframe tbody tr th {\n",
       "        vertical-align: top;\n",
       "    }\n",
       "\n",
       "    .dataframe thead th {\n",
       "        text-align: right;\n",
       "    }\n",
       "</style>\n",
       "<table border=\"1\" class=\"dataframe\">\n",
       "  <thead>\n",
       "    <tr style=\"text-align: right;\">\n",
       "      <th></th>\n",
       "      <th>document_id</th>\n",
       "      <th>all_text</th>\n",
       "      <th>text_n_words</th>\n",
       "      <th>is_empty</th>\n",
       "      <th>alpha_ratio</th>\n",
       "    </tr>\n",
       "  </thead>\n",
       "  <tbody>\n",
       "    <tr>\n",
       "      <th>334</th>\n",
       "      <td>CCLW.executive.10393.5088</td>\n",
       "      <td>å›½åŠ¡é™¢åŠžå…¬åŽ…å…³äºŽå °å &amp;#39;è¦ ç´ å¸‚åœºåŒ–é… ç½® ç»¼å ˆæ”¹é ©è¯•ç‚¹æ€»ä½“æ–¹æ¡ˆçš„é€šçŸ¥ å›½åŠžå &amp;#39;ã€”2021ã€•51yr · å „çœ ã€ è‡ªæ²»åŒºã€ ç›´è¾–å¸‚äººæ°&amp;#39;æ”¿åºœï¼Œå›½åŠ¡é™¢å „éƒ¨å§”ã€ å „ç›´å±žæœºæž„ ï¼š ã€Šè¦ ç´ å¸‚åœºåŒ–é… ç½®ç»¼å ˆæ”¹é ©è¯•ç‚¹æ€»ä½“æ–¹æ¡ˆã€‹å·²ç» å›½åŠ¡é™¢ å Œæ„ ï¼ŒçŽ°å °å &amp;#39;ç»™ä½ ä»¬ï¼Œè¯·è®¤çœŸç»„ç»‡å®žæ–½ã€‚ å›½åŠ¡é™¢åŠžå…¬åŽ 2021å¹´12æ21æ¥ ï¼ˆæ¤ä»¶å…¬å¼€å &amp;#39;å¸ƒï¼‰ è¦ ç´ å¸‚åœºåŒ–é… ç½®ç»¼å ˆæ”¹é ©è¯•ç‚¹æ€»ä½“æ–¹æ¡ˆ ä¸ºæ·±å…¥è´¯å½»è ½å®žã€Šä¸å…±ä¸å¤®ã€€å›½åŠ¡é™¢å…³äºŽæž„å»ºæ›´åŠ å® Œå–„çš„è¦ ç´ å¸‚åœºåŒ–é… ç½®ä½“åˆ¶æœºåˆ¶çš„æ„ è§ ã€‹ï¼ŒçŽ°å°±ç§¯æž ç¨³å¦¥å¼€å ±•è¦ ç´ å¸‚åœºåŒ–é… ç½®ç»¼å ˆæ”¹é ©è¯•ç‚¹å·¥ä½œåˆ¶å®šæœ¬æ–¹æ¡ˆã€‚ ä¸€ã€ æ€»ä½“è¦ æ±‚ ï¼ˆä¸€ï¼‰æŒ‡å¯¼æ€ æƒ³ã€‚ä»¥ä¹ è¿&amp;#39;å¹³æ–°æ—¶ä»£ä¸å›½ç‰¹è‰²ç¤¾ä¼šä¸»ä¹‰æ€ æƒ³ä¸ºæŒ ‡å¯¼ï¼Œå…¨é ¢è´¯å½»è ½å®žå…šçš„å ä¹ å¤§å&amp;#39;Œå ä¹ å±ŠåŽ†æ¬¡å…¨ä¼šç²¾ç¥žï¼Œå¼˜æ‰¬ä¼Ÿå¤§å »ºå…šç²¾ç¥žï¼Œå šæŒ ç¨³ä¸æ±‚è¿›å·¥ä½œæ€»åŸºè°ƒï¼Œå®Œæ•´ã€ å‡†ç¡®ã€ å…¨é ¢è´¯å½» æ–°å &amp;#39;å±•ç †å¿µï¼ŒåŠ å¿«æž„å»ºæ–°å &amp;#39;å±•æ ...</td>\n",
       "      <td>1587</td>\n",
       "      <td>False</td>\n",
       "      <td>0.022782</td>\n",
       "    </tr>\n",
       "    <tr>\n",
       "      <th>658</th>\n",
       "      <td>CCLW.legislative.1315.4615</td>\n",
       "      <td>å›½èƒ½å &amp;#39;æ–°èƒ½ã€”2021ã€•25å · å›½å®¶èƒ½æº å±€å…³äºŽ2021å¹´é£Žç”µã€ å…‰ä¼ å &amp;#39;ç”µå¼€å &amp;#39;å»ºè®¾æœ‰å…³äº‹é¡¹çš„é€šçŸ¥ å ›½èƒ½å &amp;#39;æ–°èƒ½ã€”2021ã€•25å · å›½å®¶èƒ½æº å±€å…³äºŽ2021å¹´é£Žç”µã€ å…‰ä¼ å &amp;#39;ç”µ å¼€å &amp;#39;å»ºè®¾æœ‰å…³äº‹é¡¹çš„é€šçŸ¥ å›½èƒ½å &amp;#39;æ–°èƒ½ã€”2021ã€•25å · å „çœ ï¼ˆè‡ªæ²»åŒºã€ ç›´è¾–å¸‚ï¼‰èƒ½æº å±€ï¼Œæœ‰å…³çœ ï¼ˆè‡ªæ²»åŒºã€ ç›´è¾–å¸‚ï¼‰å Šæ–°ç– †ç”Ÿäº§å»ºè®¾å…µå›¢å &amp;#39;å±•æ”¹é ©å§”ï¼Œå „æ´¾å‡ºæœºæž„ï¼Œå›½å®¶ç”µç½&amp;#39;ã€ å —æ–¹ç ”µç½&amp;#39;ã€ å†…è&amp;#39;™å ¤ç”µåŠ›å…¬å ¸ã€ ç”µè§„æ€»é™¢ã€ æ°´ç”µæ€»é™¢ï¼Œå „ æœ‰å…³ä¼ ä¸šï¼Œå „æœ‰å…³è¡Œä¸šå ä¼šï¼ˆå¦ä¼šã€ å•†ä¼šï¼‰ï¼š ã€€ã€€2021å¹´æ˜¯â€œå å››äº”â€ å¼€å±€ä¹‹å¹´ï¼Œé£Žç”µã€ å…‰ä¼ å &amp;#39;ç”µè¿›å…¥ æ–°å &amp;#39;å±•é˜¶æ®µã€‚ä¸ºæŒ ç»æŽ¨åŠ¨é£Žç”µã€ å…‰ä¼ å &amp;#39;ç”µé«˜è´¨é‡ å &amp;#39;å ±•ï¼ŒçŽ°å°±2021å¹´é£Žç”µã€ å…‰ä¼ å &amp;#39;ç”µå¼€å &amp;#39;å»ºè®¾æœ‰å…³äº‹é¡¹é€šçŸ¥å¦‚ä¸‹ï¼š ã€€ã€€ä¸€ã€ æ€»ä½“è¦ æ±‚ ã€€ã€€æ·±å…¥å¦ä¹ è´¯å½»ä¹ è¿&amp;#39;å¹³ç”Ÿæ€ æ–‡æ˜Žæ€ æƒ³å&amp;#39;Œä¹ è¿&amp;#39;å¹³æ€»ä¹¦è®°å …³äºŽèƒ½æº å®‰å…¨æ–°æˆ˜ç•¥çš„é‡ è¦ è®ºè¿°ï¼Œè...</td>\n",
       "      <td>622</td>\n",
       "      <td>False</td>\n",
       "      <td>0.048554</td>\n",
       "    </tr>\n",
       "    <tr>\n",
       "      <th>481</th>\n",
       "      <td>CCLW.executive.10099.4639</td>\n",
       "      <td>å…³äºŽå®Œå–„æ–°èƒ½æº æ±½è½¦æŽ¨å¹¿åº”ç”¨è´¢æ”¿è¡¥è´´æ”¿ç–çš„é€šçŸ¥ è´¢å»ºã€”2020ã€•86å · å „çœ ã€ è‡ªæ²»åŒºã€ ç›´è¾–å¸‚ã€ è®¡åˆ&amp;#39;å •åˆ—å¸‚è´¢æ”¿åŽ…ï¼ˆå±€ï¼‰ã€ å· ¥ä¸šå&amp;#39;Œä¿¡æ ¯åŒ–ä¸»ç®¡éƒ¨é—¨ã€ ç§&amp;#39;æŠ€åŽ…ï¼ˆå±€ã€ ç§&amp;#39;å§”ï¼‰ã€ å &amp;#39;å ±•æ”¹é ©å§”ï¼š ä¸ºæ”¯æŒ æ–°èƒ½æº æ±½è½¦äº§ä¸šé«˜è´¨é‡ å &amp;#39;å±•ï¼Œå šå¥½æ–°èƒ½æº æ±½è½¦æŽ¨å¹¿åº”ç” ¨å·¥ä½œï¼Œä¿ƒè¿›æ–°èƒ½æº æ±½è½¦æ¶ˆè´¹ï¼ŒçŽ°å°†æ–°èƒ½æº æ±½è½¦æŽ¨å¹¿åº”ç”¨è´¢æ”¿è ¡¥è´´æ”¿ç–æœ‰å…³äº‹é¡¹é€šçŸ¥å¦‚ä¸‹ï¼š ä¸€ã€ å»¶é•¿è¡¥è´´æœŸé™ ï¼Œå¹³ç¼“è¡¥è´´é€€å ¡åŠ›åº¦å&amp;#39;ŒèŠ‚å¥ ç»¼å ˆæŠ€æœ¯è¿›æ¥ã€ è§„æ¨¡æ•ˆåº”ç‰å› ç´ ï¼Œå°†æ–°èƒ½æº æ±½è½¦æŽ¨å¹¿åº”ç”¨ è´¢æ”¿è¡¥è´´æ”¿ç–å®žæ–½æœŸé™ å»¶é•¿è‡³2022å¹´åº•ã€‚å¹³ç¼“è¡¥è´´é€€å ¡åŠ›åº¦å&amp;#39;ŒèŠ‚å¥ ï¼ŒåŽŸåˆ™ä¸Š2020 -2022å¹´è¡¥è´´æ ‡å‡†åˆ†åˆ«åœ¨ä¸Šä¸€å¹´åŸºç¡€ä¸Šé€ €å ¡10%ã€ 20%ã€ 30%ï¼ˆ2020å¹´è¡¥è´´æ ‡å‡†è§ é™„ä»¶ï¼‰ã€‚ä¸ºåŠ å¿«å…¬å… ±äº¤é€šç‰é¢†åŸŸæ±½è½¦ç”µåŠ¨åŒ–ï¼ŒåŸŽå¸‚å…¬äº¤ã€ é “è·¯å®¢è¿ ã€ å‡ºç§Ÿï¼ˆå «ç½&amp;#39; çº¦è½¦ï¼‰ã€ çŽ¯å «ã€ åŸŽå¸‚ç‰©æµ é… é€ ã€ é‚®æ”¿å¿«é€&amp;#39;ã€ æ°&amp;#39;èˆªæœºåœºä»¥å Šå...</td>\n",
       "      <td>354</td>\n",
       "      <td>False</td>\n",
       "      <td>0.052184</td>\n",
       "    </tr>\n",
       "    <tr>\n",
       "      <th>588</th>\n",
       "      <td>CCLW.executive.10485.5340</td>\n",
       "      <td>ä¸€å›¾è¯»æ‡‚ | æ°¢èƒ½äº§ä¸šå &amp;#39;å±•ä¸é•¿æœŸè§„åˆ&amp;#39;ï¼ˆ2021-2035å¹´ï¼‰ å &amp;#39;å¸ƒæ—¶é—´ï¼š2022/03/23 æ ¥æº ï¼šé«˜æŠ€æœ¯å ¸ [ æ‰“å ° ]</td>\n",
       "      <td>14</td>\n",
       "      <td>False</td>\n",
       "      <td>0.161765</td>\n",
       "    </tr>\n",
       "    <tr>\n",
       "      <th>215</th>\n",
       "      <td>CCLW.document.i00000442.n0000</td>\n",
       "      <td>%PDF-1.5 %���� 23 0 obj &amp;lt;&amp;gt; throw in 31 0 obj &amp;lt;&amp;gt;/Filter/FlateDecode/ID[&amp;lt;34EA4E37C4B67E41A7771A9A9EE186D6&amp;gt;&amp;lt;34EA4E37C4B67E41A7771A9A9EE186D6&amp;gt;]/Index[23 18]/Info 22 0 R/Length 59/Prev 66785/Root 24 0 R/Size 41/Type/XRef/W[1 2 1]&amp;gt;&amp;gt;stream h�bbd``b`��@��\\tH0��D} ^\\t$�Ab�'����10 �3n�\\t` =?� endstream throw in startxref 0 %%EOF 40 0 obj &amp;lt;&amp;gt;stream h�b```f``2e`b``�� �� @ �8p:����!��B�v����� D��ui6 ��41�30p���&amp;amp;0�:��0��,���ȼH3�@� +4 endstream throw in 24 0 obj &amp;lt;&amp;gt;&amp;gt;&amp;gt; throw in 25 0 obj &amp;lt;&amp;gt; throw in 26 0 obj &amp;lt;&amp;gt;stream h޴�mO�0ǿʽ܄��8���Jy�@$bC�&amp;lt;��6�1������\\���]�wN~(����D ���F5���E����������d�c�Z��~�0 ��шL��u�$��ٜ���� �T����&amp;amp;6����MIb���h��&amp;lt;9�?i^���7�I�z0/��qyc���af��{Jq�g*�6w�i�ޕ�|m�I�t�͔v.��������wN�y���$�ܔ_+K��* ?ӹ!㣋�Y���ϊy� 6ͳ���.7@Il�|Zzq��� ��e�`�%�],ꙙ�������lY���t �� ʃO�;N�0?^[�2Y&amp;gt;�w[ ������ҝ4C���4��π�c� Wjo�db��W��#��=��O�� P^��;���Z�l��^��o|���F;��|XOwm���Y�p�Ǧ�n���ZcN:0������13]3J�~2b�Q���uwV���j����Z�l���� �7�r��nu���...</td>\n",
       "      <td>116</td>\n",
       "      <td>False</td>\n",
       "      <td>0.418329</td>\n",
       "    </tr>\n",
       "    <tr>\n",
       "      <th>326</th>\n",
       "      <td>UNFCCC.party.108.0</td>\n",
       "      <td>महित शंब्रिटनम, वन ७ ऊनवायू शांतिवऊन अज्ञवानर अवधिकार्बो वाश्नाटफ मज़काड़ Dear Ms. Patricia Espinosa, AR 61164 ay ** मज़कांब Secretary Ministry of Environment, Forest and Climate Change Govt. of the People's Republic of Bangladesh Bangladesh Secretariat, Dhaka-1000 Good afternoon and Happy New Year from Bangladesh. Please find herewith the attached Updated NDC of Bangladesh for making Entry in the NDC Registry. Looking forward to your cooperation. Thanking you, X 31.12.2020 Ziaul Hasan ndc शनित्तम, तन ७ जनवाडू शतितऊन पळवानर, वार्नाटफ महिलानिश, तन न१-८, (58 ऊना), जका-४००० फोन: + bb-०२-०₹808b), काब्ध : bb-०२-०८४०२०० ₹-टर्न : secretary@moef.gov.bd उटरवमारे : www.moef.gov.bd</td>\n",
       "      <td>98</td>\n",
       "      <td>False</td>\n",
       "      <td>0.553756</td>\n",
       "    </tr>\n",
       "  </tbody>\n",
       "</table>\n",
       "</div>"
      ],
      "text/plain": [
       "                       document_id  \\\n",
       "334      CCLW.executive.10393.5088   \n",
       "658     CCLW.legislative.1315.4615   \n",
       "481      CCLW.executive.10099.4639   \n",
       "588      CCLW.executive.10485.5340   \n",
       "215  CCLW.document.i00000442.n0000   \n",
       "326             UNFCCC.party.108.0   \n",
       "\n",
       "                                                                                                                                                                                                                                                                                                                                                                                                                                                                                                                                                                                                                                                                                                                                                                                                                                                                                                                                                                                                                                    all_text  \\\n",
       "334  å›½åŠ¡é™¢åŠžå…¬åŽ…å…³äºŽå °å &#39;è¦ ç´ å¸‚åœºåŒ–é… ç½® ç»¼å ˆæ”¹é ©è¯•ç‚¹æ€»ä½“æ–¹æ¡ˆçš„é€šçŸ¥ å›½åŠžå &#39;ã€”2021ã€•51yr · å „çœ ã€ è‡ªæ²»åŒºã€ ç›´è¾–å¸‚äººæ°&#39;æ”¿åºœï¼Œå›½åŠ¡é™¢å „éƒ¨å§”ã€ å „ç›´å±žæœºæž„ ï¼š ã€Šè¦ ç´ å¸‚åœºåŒ–é… ç½®ç»¼å ˆæ”¹é ©è¯•ç‚¹æ€»ä½“æ–¹æ¡ˆã€‹å·²ç» å›½åŠ¡é™¢ å Œæ„ ï¼ŒçŽ°å °å &#39;ç»™ä½ ä»¬ï¼Œè¯·è®¤çœŸç»„ç»‡å®žæ–½ã€‚ å›½åŠ¡é™¢åŠžå…¬åŽ 2021å¹´12æ21æ¥ ï¼ˆæ¤ä»¶å…¬å¼€å &#39;å¸ƒï¼‰ è¦ ç´ å¸‚åœºåŒ–é… ç½®ç»¼å ˆæ”¹é ©è¯•ç‚¹æ€»ä½“æ–¹æ¡ˆ ä¸ºæ·±å…¥è´¯å½»è ½å®žã€Šä¸å…±ä¸å¤®ã€€å›½åŠ¡é™¢å…³äºŽæž„å»ºæ›´åŠ å® Œå–„çš„è¦ ç´ å¸‚åœºåŒ–é… ç½®ä½“åˆ¶æœºåˆ¶çš„æ„ è§ ã€‹ï¼ŒçŽ°å°±ç§¯æž ç¨³å¦¥å¼€å ±•è¦ ç´ å¸‚åœºåŒ–é… ç½®ç»¼å ˆæ”¹é ©è¯•ç‚¹å·¥ä½œåˆ¶å®šæœ¬æ–¹æ¡ˆã€‚ ä¸€ã€ æ€»ä½“è¦ æ±‚ ï¼ˆä¸€ï¼‰æŒ‡å¯¼æ€ æƒ³ã€‚ä»¥ä¹ è¿&#39;å¹³æ–°æ—¶ä»£ä¸å›½ç‰¹è‰²ç¤¾ä¼šä¸»ä¹‰æ€ æƒ³ä¸ºæŒ ‡å¯¼ï¼Œå…¨é ¢è´¯å½»è ½å®žå…šçš„å ä¹ å¤§å&#39;Œå ä¹ å±ŠåŽ†æ¬¡å…¨ä¼šç²¾ç¥žï¼Œå¼˜æ‰¬ä¼Ÿå¤§å »ºå…šç²¾ç¥žï¼Œå šæŒ ç¨³ä¸æ±‚è¿›å·¥ä½œæ€»åŸºè°ƒï¼Œå®Œæ•´ã€ å‡†ç¡®ã€ å…¨é ¢è´¯å½» æ–°å &#39;å±•ç †å¿µï¼ŒåŠ å¿«æž„å»ºæ–°å &#39;å±•æ ...   \n",
       "658  å›½èƒ½å &#39;æ–°èƒ½ã€”2021ã€•25å · å›½å®¶èƒ½æº å±€å…³äºŽ2021å¹´é£Žç”µã€ å…‰ä¼ å &#39;ç”µå¼€å &#39;å»ºè®¾æœ‰å…³äº‹é¡¹çš„é€šçŸ¥ å ›½èƒ½å &#39;æ–°èƒ½ã€”2021ã€•25å · å›½å®¶èƒ½æº å±€å…³äºŽ2021å¹´é£Žç”µã€ å…‰ä¼ å &#39;ç”µ å¼€å &#39;å»ºè®¾æœ‰å…³äº‹é¡¹çš„é€šçŸ¥ å›½èƒ½å &#39;æ–°èƒ½ã€”2021ã€•25å · å „çœ ï¼ˆè‡ªæ²»åŒºã€ ç›´è¾–å¸‚ï¼‰èƒ½æº å±€ï¼Œæœ‰å…³çœ ï¼ˆè‡ªæ²»åŒºã€ ç›´è¾–å¸‚ï¼‰å Šæ–°ç– †ç”Ÿäº§å»ºè®¾å…µå›¢å &#39;å±•æ”¹é ©å§”ï¼Œå „æ´¾å‡ºæœºæž„ï¼Œå›½å®¶ç”µç½&#39;ã€ å —æ–¹ç ”µç½&#39;ã€ å†…è&#39;™å ¤ç”µåŠ›å…¬å ¸ã€ ç”µè§„æ€»é™¢ã€ æ°´ç”µæ€»é™¢ï¼Œå „ æœ‰å…³ä¼ ä¸šï¼Œå „æœ‰å…³è¡Œä¸šå ä¼šï¼ˆå¦ä¼šã€ å•†ä¼šï¼‰ï¼š ã€€ã€€2021å¹´æ˜¯â€œå å››äº”â€ å¼€å±€ä¹‹å¹´ï¼Œé£Žç”µã€ å…‰ä¼ å &#39;ç”µè¿›å…¥ æ–°å &#39;å±•é˜¶æ®µã€‚ä¸ºæŒ ç»æŽ¨åŠ¨é£Žç”µã€ å…‰ä¼ å &#39;ç”µé«˜è´¨é‡ å &#39;å ±•ï¼ŒçŽ°å°±2021å¹´é£Žç”µã€ å…‰ä¼ å &#39;ç”µå¼€å &#39;å»ºè®¾æœ‰å…³äº‹é¡¹é€šçŸ¥å¦‚ä¸‹ï¼š ã€€ã€€ä¸€ã€ æ€»ä½“è¦ æ±‚ ã€€ã€€æ·±å…¥å¦ä¹ è´¯å½»ä¹ è¿&#39;å¹³ç”Ÿæ€ æ–‡æ˜Žæ€ æƒ³å&#39;Œä¹ è¿&#39;å¹³æ€»ä¹¦è®°å …³äºŽèƒ½æº å®‰å…¨æ–°æˆ˜ç•¥çš„é‡ è¦ è®ºè¿°ï¼Œè...   \n",
       "481  å…³äºŽå®Œå–„æ–°èƒ½æº æ±½è½¦æŽ¨å¹¿åº”ç”¨è´¢æ”¿è¡¥è´´æ”¿ç–çš„é€šçŸ¥ è´¢å»ºã€”2020ã€•86å · å „çœ ã€ è‡ªæ²»åŒºã€ ç›´è¾–å¸‚ã€ è®¡åˆ&#39;å •åˆ—å¸‚è´¢æ”¿åŽ…ï¼ˆå±€ï¼‰ã€ å· ¥ä¸šå&#39;Œä¿¡æ ¯åŒ–ä¸»ç®¡éƒ¨é—¨ã€ ç§&#39;æŠ€åŽ…ï¼ˆå±€ã€ ç§&#39;å§”ï¼‰ã€ å &#39;å ±•æ”¹é ©å§”ï¼š ä¸ºæ”¯æŒ æ–°èƒ½æº æ±½è½¦äº§ä¸šé«˜è´¨é‡ å &#39;å±•ï¼Œå šå¥½æ–°èƒ½æº æ±½è½¦æŽ¨å¹¿åº”ç” ¨å·¥ä½œï¼Œä¿ƒè¿›æ–°èƒ½æº æ±½è½¦æ¶ˆè´¹ï¼ŒçŽ°å°†æ–°èƒ½æº æ±½è½¦æŽ¨å¹¿åº”ç”¨è´¢æ”¿è ¡¥è´´æ”¿ç–æœ‰å…³äº‹é¡¹é€šçŸ¥å¦‚ä¸‹ï¼š ä¸€ã€ å»¶é•¿è¡¥è´´æœŸé™ ï¼Œå¹³ç¼“è¡¥è´´é€€å ¡åŠ›åº¦å&#39;ŒèŠ‚å¥ ç»¼å ˆæŠ€æœ¯è¿›æ¥ã€ è§„æ¨¡æ•ˆåº”ç‰å› ç´ ï¼Œå°†æ–°èƒ½æº æ±½è½¦æŽ¨å¹¿åº”ç”¨ è´¢æ”¿è¡¥è´´æ”¿ç–å®žæ–½æœŸé™ å»¶é•¿è‡³2022å¹´åº•ã€‚å¹³ç¼“è¡¥è´´é€€å ¡åŠ›åº¦å&#39;ŒèŠ‚å¥ ï¼ŒåŽŸåˆ™ä¸Š2020 -2022å¹´è¡¥è´´æ ‡å‡†åˆ†åˆ«åœ¨ä¸Šä¸€å¹´åŸºç¡€ä¸Šé€ €å ¡10%ã€ 20%ã€ 30%ï¼ˆ2020å¹´è¡¥è´´æ ‡å‡†è§ é™„ä»¶ï¼‰ã€‚ä¸ºåŠ å¿«å…¬å… ±äº¤é€šç‰é¢†åŸŸæ±½è½¦ç”µåŠ¨åŒ–ï¼ŒåŸŽå¸‚å…¬äº¤ã€ é “è·¯å®¢è¿ ã€ å‡ºç§Ÿï¼ˆå «ç½&#39; çº¦è½¦ï¼‰ã€ çŽ¯å «ã€ åŸŽå¸‚ç‰©æµ é… é€ ã€ é‚®æ”¿å¿«é€&#39;ã€ æ°&#39;èˆªæœºåœºä»¥å Šå...   \n",
       "588                                                                                                                                                                                                                                                                                                                                                                                                                                                                                                                                                                                                                                                                                                                                                                                                                                                                                                 ä¸€å›¾è¯»æ‡‚ | æ°¢èƒ½äº§ä¸šå &#39;å±•ä¸é•¿æœŸè§„åˆ&#39;ï¼ˆ2021-2035å¹´ï¼‰ å &#39;å¸ƒæ—¶é—´ï¼š2022/03/23 æ ¥æº ï¼šé«˜æŠ€æœ¯å ¸ [ æ‰“å ° ]   \n",
       "215  %PDF-1.5 %���� 23 0 obj &lt;&gt; throw in 31 0 obj &lt;&gt;/Filter/FlateDecode/ID[&lt;34EA4E37C4B67E41A7771A9A9EE186D6&gt;&lt;34EA4E37C4B67E41A7771A9A9EE186D6&gt;]/Index[23 18]/Info 22 0 R/Length 59/Prev 66785/Root 24 0 R/Size 41/Type/XRef/W[1 2 1]&gt;&gt;stream h�bbd``b`��@��\\tH0��D} ^\\t$�Ab�'����10 �3n�\\t` =?� endstream throw in startxref 0 %%EOF 40 0 obj &lt;&gt;stream h�b```f``2e`b``�� �� @ �8p:����!��B�v����� D��ui6 ��41�30p���&amp;0�:��0��,���ȼH3�@� +4 endstream throw in 24 0 obj &lt;&gt;&gt;&gt; throw in 25 0 obj &lt;&gt; throw in 26 0 obj &lt;&gt;stream h޴�mO�0ǿʽ܄��8���Jy�@$bC�&lt;��6�1������\\���]�wN~(����D ���F5���E����������d�c�Z��~�0 ��шL��u�$��ٜ���� �T����&amp;6����MIb���h��&lt;9�?i^���7�I�z0/��qyc���af��{Jq�g*�6w�i�ޕ�|m�I�t�͔v.��������wN�y���$�ܔ_+K��* ?ӹ!㣋�Y���ϊy� 6ͳ���.7@Il�|Zzq��� ��e�`�%�],ꙙ�������lY���t �� ʃO�;N�0?^[�2Y&gt;�w[ ������ҝ4C���4��π�c� Wjo�db��W��#��=��O�� P^��;���Z�l��^��o|���F;��|XOwm���Y�p�Ǧ�n���ZcN:0������13]3J�~2b�Q���uwV���j����Z�l���� �7�r��nu���...   \n",
       "326                                                                                                                                                                                                                                                                                                                                  महित शंब्रिटनम, वन ७ ऊनवायू शांतिवऊन अज्ञवानर अवधिकार्बो वाश्नाटफ मज़काड़ Dear Ms. Patricia Espinosa, AR 61164 ay ** मज़कांब Secretary Ministry of Environment, Forest and Climate Change Govt. of the People's Republic of Bangladesh Bangladesh Secretariat, Dhaka-1000 Good afternoon and Happy New Year from Bangladesh. Please find herewith the attached Updated NDC of Bangladesh for making Entry in the NDC Registry. Looking forward to your cooperation. Thanking you, X 31.12.2020 Ziaul Hasan ndc शनित्तम, तन ७ जनवाडू शतितऊन पळवानर, वार्नाटफ महिलानिश, तन न१-८, (58 ऊना), जका-४००० फोन: + bb-०२-०₹808b), काब्ध : bb-०२-०८४०२०० ₹-टर्न : secretary@moef.gov.bd उटरवमारे : www.moef.gov.bd   \n",
       "\n",
       "     text_n_words  is_empty  alpha_ratio  \n",
       "334          1587     False     0.022782  \n",
       "658           622     False     0.048554  \n",
       "481           354     False     0.052184  \n",
       "588            14     False     0.161765  \n",
       "215           116     False     0.418329  \n",
       "326            98     False     0.553756  "
      ]
     },
     "metadata": {},
     "output_type": "display_data"
    }
   ],
   "source": [
    "min_alphanumeric_ratio = 0.6\n",
    "\n",
    "document_text_df_nonempty = document_text_df[document_text_df[\"is_empty\"] == False]\n",
    "\n",
    "# display documents with a ratio below the minimum to see what's excluded\n",
    "with pd.option_context(\"display.max_colwidth\", 1000):\n",
    "    display(\n",
    "        document_text_df_nonempty[document_text_df_nonempty[\"alpha_ratio\"] < min_alphanumeric_ratio].sort_values(\"alpha_ratio\").head(10)\n",
    "    )"
   ]
  },
  {
   "cell_type": "markdown",
   "metadata": {},
   "source": [
    "## Get document IDs to drop, create new directory with dropped document ids"
   ]
  },
  {
   "cell_type": "code",
   "execution_count": 29,
   "metadata": {},
   "outputs": [
    {
     "name": "stdout",
     "output_type": "stream",
     "text": [
      "Excluding 165/715 documents. Keeping 550.\n"
     ]
    }
   ],
   "source": [
    "document_ids_empty = set(document_text_df[document_text_df[\"is_empty\"] == True][\"document_id\"])\n",
    "document_ids_short = set(document_text_df[document_text_df[\"text_n_words\"] < min_words][\"document_id\"])\n",
    "document_ids_corrupted_text = set(document_text_df[document_text_df[\"alpha_ratio\"] < min_alphanumeric_ratio][\"document_id\"])\n",
    "\n",
    "document_ids_to_exclude = document_ids_empty | document_ids_short | document_ids_corrupted_text\n",
    "document_ids_to_keep = set(document_text_df[\"document_id\"]) - document_ids_to_exclude\n",
    "\n",
    "print(f\"Excluding {len(document_ids_to_exclude)}/{len(document_text_df)} documents. Keeping {len(document_ids_to_keep)}.\")"
   ]
  },
  {
   "cell_type": "code",
   "execution_count": 32,
   "metadata": {},
   "outputs": [
    {
     "data": {
      "application/vnd.jupyter.widget-view+json": {
       "model_id": "9f43397c8e164e659ffc23021c4e230a",
       "version_major": 2,
       "version_minor": 0
      },
      "text/plain": [
       "  0%|          | 0/550 [00:00<?, ?it/s]"
      ]
     },
     "metadata": {},
     "output_type": "display_data"
    }
   ],
   "source": [
    "NEW_DIR = Path(\"/Users/kalyan/Documents/CPR/rag-labs/data/cpr_embeddings_output_final_valid_documents\").expanduser()\n",
    "\n",
    "if not NEW_DIR.exists():\n",
    "    NEW_DIR.mkdir()\n",
    "\n",
    "# copy all documents in the initial dir starting with any of the document ids to keep\n",
    "paths_in_old_dir = list(documents_path.glob(\"*\"))\n",
    "\n",
    "for document_id in tqdm(document_ids_to_keep):\n",
    "    for path in paths_in_old_dir:\n",
    "        if document_id in path.name:\n",
    "            shutil.copy(path, NEW_DIR / path.name)"
   ]
  },
  {
   "cell_type": "code",
   "execution_count": 34,
   "metadata": {},
   "outputs": [],
   "source": [
    "assert len(list(NEW_DIR.glob(\"*.json\"))) == len(document_ids_to_keep)"
   ]
  },
  {
   "cell_type": "code",
   "execution_count": null,
   "metadata": {},
   "outputs": [],
   "source": []
  }
 ],
 "metadata": {
  "kernelspec": {
   "display_name": "rag-labs-e1ZYywk6-py3.9",
   "language": "python",
   "name": "python3"
  },
  "language_info": {
   "codemirror_mode": {
    "name": "ipython",
    "version": 3
   },
   "file_extension": ".py",
   "mimetype": "text/x-python",
   "name": "python",
   "nbconvert_exporter": "python",
   "pygments_lexer": "ipython3",
   "version": "3.9.10"
  }
 },
 "nbformat": 4,
 "nbformat_minor": 2
}
