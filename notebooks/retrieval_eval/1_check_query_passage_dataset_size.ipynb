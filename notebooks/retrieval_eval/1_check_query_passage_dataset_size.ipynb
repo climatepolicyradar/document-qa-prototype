{
 "cells": [
  {
   "cell_type": "markdown",
   "metadata": {},
   "source": [
    "## Checking the size of the query-document dataset\n",
    "\n",
    "For CPR documents only. Do we need to generate more data?\n",
    "\n",
    "**Answer:** there are 5 queries per document for 415 UNECE and CPR documents (2,075 total unique queries). This seems like plenty!"
   ]
  },
  {
   "cell_type": "code",
   "execution_count": 1,
   "metadata": {},
   "outputs": [],
   "source": [
    "from pathlib import Path\n",
    "import pandas as pd "
   ]
  },
  {
   "cell_type": "code",
   "execution_count": 12,
   "metadata": {},
   "outputs": [
    {
     "name": "stdout",
     "output_type": "stream",
     "text": [
      "(3330, 8)\n"
     ]
    },
    {
     "data": {
      "text/html": [
       "<div>\n",
       "<style scoped>\n",
       "    .dataframe tbody tr th:only-of-type {\n",
       "        vertical-align: middle;\n",
       "    }\n",
       "\n",
       "    .dataframe tbody tr th {\n",
       "        vertical-align: top;\n",
       "    }\n",
       "\n",
       "    .dataframe thead th {\n",
       "        text-align: right;\n",
       "    }\n",
       "</style>\n",
       "<table border=\"1\" class=\"dataframe\">\n",
       "  <thead>\n",
       "    <tr style=\"text-align: right;\">\n",
       "      <th></th>\n",
       "      <th>text</th>\n",
       "      <th>type</th>\n",
       "      <th>timestamp</th>\n",
       "      <th>document_id</th>\n",
       "      <th>prompt_template</th>\n",
       "      <th>user</th>\n",
       "      <th>model</th>\n",
       "      <th>uuid</th>\n",
       "    </tr>\n",
       "  </thead>\n",
       "  <tbody>\n",
       "    <tr>\n",
       "      <th>0</th>\n",
       "      <td>What is the purpose of this document?</td>\n",
       "      <td>synthetic</td>\n",
       "      <td>2024-05-30 16:57:41.967231</td>\n",
       "      <td>CCLW.legislative.8544.rtl_85</td>\n",
       "      <td>query_from_product_queries.txt</td>\n",
       "      <td>NaN</td>\n",
       "      <td>gpt-4-32k</td>\n",
       "      <td>1c6ba46d140ad7b98821c8976d31b444</td>\n",
       "    </tr>\n",
       "    <tr>\n",
       "      <th>1</th>\n",
       "      <td>What is the total budget for 2018?</td>\n",
       "      <td>synthetic</td>\n",
       "      <td>2024-05-30 16:57:41.967441</td>\n",
       "      <td>CCLW.legislative.8544.rtl_85</td>\n",
       "      <td>query_from_product_queries.txt</td>\n",
       "      <td>NaN</td>\n",
       "      <td>gpt-4-32k</td>\n",
       "      <td>617f7e809d86979067c42c61534965ce</td>\n",
       "    </tr>\n",
       "  </tbody>\n",
       "</table>\n",
       "</div>"
      ],
      "text/plain": [
       "                                    text       type  \\\n",
       "0  What is the purpose of this document?  synthetic   \n",
       "1     What is the total budget for 2018?  synthetic   \n",
       "\n",
       "                   timestamp                   document_id  \\\n",
       "0 2024-05-30 16:57:41.967231  CCLW.legislative.8544.rtl_85   \n",
       "1 2024-05-30 16:57:41.967441  CCLW.legislative.8544.rtl_85   \n",
       "\n",
       "                  prompt_template  user      model  \\\n",
       "0  query_from_product_queries.txt   NaN  gpt-4-32k   \n",
       "1  query_from_product_queries.txt   NaN  gpt-4-32k   \n",
       "\n",
       "                               uuid  \n",
       "0  1c6ba46d140ad7b98821c8976d31b444  \n",
       "1  617f7e809d86979067c42c61534965ce  "
      ]
     },
     "execution_count": 12,
     "metadata": {},
     "output_type": "execute_result"
    }
   ],
   "source": [
    "queries_path = Path(\"../../data/queries/unece_queries.jsonl\")\n",
    "df = pd.read_json(queries_path, lines=True)\n",
    "print(df.shape)\n",
    "\n",
    "df.head(2)"
   ]
  },
  {
   "cell_type": "code",
   "execution_count": 14,
   "metadata": {},
   "outputs": [
    {
     "data": {
      "text/plain": [
       "(2075, 8)"
      ]
     },
     "execution_count": 14,
     "metadata": {},
     "output_type": "execute_result"
    }
   ],
   "source": [
    "df = df[df[\"document_id\"].str.contains(\"UNECE\") | df[\"document_id\"].str.contains(\"CCLW\")]\n",
    "df.shape"
   ]
  },
  {
   "cell_type": "code",
   "execution_count": 15,
   "metadata": {},
   "outputs": [
    {
     "name": "stdout",
     "output_type": "stream",
     "text": [
      "Number of unique documents:  415\n"
     ]
    }
   ],
   "source": [
    "print(\"Number of unique documents: \", len(df.document_id.unique()))"
   ]
  },
  {
   "cell_type": "code",
   "execution_count": 16,
   "metadata": {},
   "outputs": [
    {
     "data": {
      "text/plain": [
       "document_id\n",
       "CCLW.document.i00000012.n0000    5\n",
       "CCLW.document.i00000030.n0000    5\n",
       "CCLW.document.i00000032.n0000    5\n",
       "CCLW.document.i00000056.n0000    5\n",
       "CCLW.document.i00000141.n0000    5\n",
       "                                ..\n",
       "CCLW.party.1773.0                5\n",
       "CCLW.party.1775.0                5\n",
       "CCLW.party.1777.0                5\n",
       "CCLW.party.1778.0                5\n",
       "CCLW.party.1784.0                5\n",
       "Name: text, Length: 415, dtype: int64"
      ]
     },
     "execution_count": 16,
     "metadata": {},
     "output_type": "execute_result"
    }
   ],
   "source": [
    "df.groupby(\"document_id\").nunique()[\"text\"]"
   ]
  },
  {
   "cell_type": "code",
   "execution_count": null,
   "metadata": {},
   "outputs": [],
   "source": []
  }
 ],
 "metadata": {
  "kernelspec": {
   "display_name": "rag-labs-4_BbfzMU-py3.9",
   "language": "python",
   "name": "python3"
  },
  "language_info": {
   "codemirror_mode": {
    "name": "ipython",
    "version": 3
   },
   "file_extension": ".py",
   "mimetype": "text/x-python",
   "name": "python",
   "nbconvert_exporter": "python",
   "pygments_lexer": "ipython3",
   "version": "3.9.10"
  }
 },
 "nbformat": 4,
 "nbformat_minor": 2
}
