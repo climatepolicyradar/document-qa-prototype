{
 "cells": [
  {
   "cell_type": "markdown",
   "metadata": {},
   "source": [
    "# Designing an automatic retrieval evaluator"
   ]
  },
  {
   "cell_type": "code",
   "execution_count": 57,
   "metadata": {},
   "outputs": [],
   "source": [
    "import os\n",
    "import argilla as rg\n",
    "from argilla.client.feedback.schemas.remote.records import RemoteFeedbackRecord\n",
    "from openai import OpenAI\n",
    "from pydantic import BaseModel\n",
    "from tqdm.auto import tqdm\n",
    "import hashlib\n",
    "import pandas as pd"
   ]
  },
  {
   "cell_type": "code",
   "execution_count": 176,
   "metadata": {},
   "outputs": [],
   "source": [
    "class VespaTextBlock(BaseModel):\n",
    "    \"\"\"Attributes of text blocks in Vespa\"\"\"\n",
    "\n",
    "    text_block_id: str\n",
    "    text_block: str\n",
    "    text_block_window: str\n",
    "\n",
    "\n",
    "class VespaRankingResult(BaseModel):\n",
    "    \"\"\"\n",
    "    One result returned by Vespa.\n",
    "\n",
    "    Rank is 0-indexed.\n",
    "    \"\"\"\n",
    "\n",
    "    text_block: VespaTextBlock\n",
    "    score: float\n",
    "    rank: int\n",
    "    ranking_features: dict = {}\n"
   ]
  },
  {
   "cell_type": "markdown",
   "metadata": {},
   "source": [
    "## Load annotations in from argilla"
   ]
  },
  {
   "cell_type": "code",
   "execution_count": 177,
   "metadata": {},
   "outputs": [
    {
     "name": "stderr",
     "output_type": "stream",
     "text": [
      "/var/folders/nt/2c78pgv94312v7_mmz24h6kc0000gn/T/ipykernel_77233/3661854430.py:4: UserWarning: Loaded dataset is a `FeedbackDataset`. It's recommended to use `rg.FeedbackDataset.from_argilla(name='rag_retrieval_evaluation', workspace='rag_relevance_evaluation')` instead\n",
      "  rg_dataset = rg.load(name=dataset_name, workspace=workspace_name)\n"
     ]
    },
    {
     "data": {
      "text/plain": [
       "200"
      ]
     },
     "execution_count": 177,
     "metadata": {},
     "output_type": "execute_result"
    }
   ],
   "source": [
    "workspace_name = \"rag_relevance_evaluation\"\n",
    "dataset_name = \"rag_retrieval_evaluation\"\n",
    "\n",
    "rg_dataset = rg.load(name=dataset_name, workspace=workspace_name)\n",
    "len(rg_dataset)"
   ]
  },
  {
   "cell_type": "code",
   "execution_count": 178,
   "metadata": {},
   "outputs": [
    {
     "data": {
      "text/plain": [
       "{'id': UUID('6910860d-9b76-4ae3-b76c-4832262043c6'),\n",
       " 'client': <httpx.Client at 0x137f95fd0>,\n",
       " 'fields': {'query': 'How does the document discuss the role of the military in promoting economic development?',\n",
       "  'text_block': 'The present global political, economic and security order requires an levels, promoting development through',\n",
       "  'text_block_window': 'STRENGTHEN INTERNATIONAL RELATIONS\\nThe present global political, economic and security order requires an levels, promoting development through\\nthe bilateral, regional and multilateral'},\n",
       " 'metadata': {'document_id': 'CCLW.executive.10183.4768',\n",
       "  'rank_profile': 'dense_bge_base',\n",
       "  'score': 0.7203098000671228,\n",
       "  'rank': 6},\n",
       " 'vectors': {},\n",
       " 'responses': [RemoteResponseSchema(id=None, client=None, user_id=UUID('551fd111-dac1-4daa-8ce7-ef2b74f32463'), values={}, status=<ResponseStatus.discarded: 'discarded'>, inserted_at=datetime.datetime(2024, 7, 9, 11, 0, 55, 340207), updated_at=datetime.datetime(2024, 7, 9, 11, 0, 55, 340207)),\n",
       "  RemoteResponseSchema(id=None, client=None, user_id=UUID('8688ece7-15e7-43fb-8088-383cb3ac2d48'), values={'relevance': ValueSchema(value='1'), 'used-window-for-relevance': ValueSchema(value='YES')}, status=<ResponseStatus.submitted: 'submitted'>, inserted_at=datetime.datetime(2024, 7, 9, 12, 13, 47, 237743), updated_at=datetime.datetime(2024, 7, 9, 12, 13, 47, 237743)),\n",
       "  RemoteResponseSchema(id=None, client=None, user_id=UUID('38ac9824-1776-4fa2-a71c-7cf05890e9da'), values={'relevance': ValueSchema(value='0'), 'used-window-for-relevance': ValueSchema(value='YES')}, status=<ResponseStatus.submitted: 'submitted'>, inserted_at=datetime.datetime(2024, 7, 9, 16, 34, 0, 918407), updated_at=datetime.datetime(2024, 7, 9, 16, 34, 0, 918407))],\n",
       " 'suggestions': (),\n",
       " 'external_id': None,\n",
       " 'question_name_to_id': {'relevance': UUID('4e4dcf2a-409e-431c-a8c7-1e4029d36255'),\n",
       "  'used-window-for-relevance': UUID('89dabfc5-4ba1-41fb-b18b-9d521d15aafb')}}"
      ]
     },
     "execution_count": 178,
     "metadata": {},
     "output_type": "execute_result"
    }
   ],
   "source": [
    "rg_dataset[0].__dict__"
   ]
  },
  {
   "cell_type": "markdown",
   "metadata": {},
   "source": [
    "## Find proportion of time the text block window was used, per annotator"
   ]
  },
  {
   "cell_type": "code",
   "execution_count": 179,
   "metadata": {},
   "outputs": [],
   "source": [
    "from collections import defaultdict\n",
    "\n",
    "window_used_by_annotator = defaultdict(list)\n",
    "\n",
    "for record in rg_dataset:\n",
    "    for response in record.responses:\n",
    "        if response.status == \"submitted\":\n",
    "            \n",
    "            used_window = \"used-window-for-relevance\" in response.values and response.values[\"used-window-for-relevance\"].value == \"YES\"\n",
    "            \n",
    "            window_used_by_annotator[str(response.user_id)].append(used_window)"
   ]
  },
  {
   "cell_type": "code",
   "execution_count": 180,
   "metadata": {},
   "outputs": [
    {
     "data": {
      "text/plain": [
       "{'8688ece7-15e7-43fb-8088-383cb3ac2d48': 0.40782122905027934,\n",
       " '38ac9824-1776-4fa2-a71c-7cf05890e9da': 0.4585635359116022,\n",
       " '551fd111-dac1-4daa-8ce7-ef2b74f32463': 0.06338028169014084}"
      ]
     },
     "execution_count": 180,
     "metadata": {},
     "output_type": "execute_result"
    }
   ],
   "source": [
    "{user_id: sum(used_windows) / len(used_windows) for user_id, used_windows in window_used_by_annotator.items()}"
   ]
  },
  {
   "cell_type": "code",
   "execution_count": 181,
   "metadata": {},
   "outputs": [],
   "source": [
    "USERS_EXCLUDE = {\n",
    "    \"551fd111-dac1-4daa-8ce7-ef2b74f32463\" # kalyan\n",
    "} "
   ]
  },
  {
   "cell_type": "code",
   "execution_count": 182,
   "metadata": {},
   "outputs": [
    {
     "data": {
      "text/plain": [
       "('How does the document discuss the role of the military in promoting economic development?',\n",
       " [VespaRankingResult(text_block=VespaTextBlock(text_block_id='a4abae87dcfaf7a9477e104f70f84987', text_block='The present global political, economic and security order requires an levels, promoting development through', text_block_window='STRENGTHEN INTERNATIONAL RELATIONS\\nThe present global political, economic and security order requires an levels, promoting development through\\nthe bilateral, regional and multilateral'), score=1.0, rank=-1, ranking_features={}),\n",
       "  VespaRankingResult(text_block=VespaTextBlock(text_block_id='a4abae87dcfaf7a9477e104f70f84987', text_block='The present global political, economic and security order requires an levels, promoting development through', text_block_window='STRENGTHEN INTERNATIONAL RELATIONS\\nThe present global political, economic and security order requires an levels, promoting development through\\nthe bilateral, regional and multilateral'), score=0.0, rank=-1, ranking_features={})])"
      ]
     },
     "execution_count": 182,
     "metadata": {},
     "output_type": "execute_result"
    }
   ],
   "source": [
    "def _get_hash(text: str) -> str:\n",
    "    return hashlib.md5(text.encode()).hexdigest()\n",
    "\n",
    "def argilla_record_to_vespa_ranking_results(rg_item: RemoteFeedbackRecord) -> tuple[str, list[VespaRankingResult]]:\n",
    "    \"\"\"Returns (query, VespaRankingResult) tuples for a given RemoteFeedbackRecord.\"\"\"\n",
    "    results = []\n",
    "    query = rg_item.fields[\"query\"]\n",
    "    \n",
    "    for response in rg_item.responses:\n",
    "        score = None\n",
    "        \n",
    "        if str(response.user_id) in USERS_EXCLUDE:\n",
    "            continue\n",
    "        \n",
    "        if response.status == \"submitted\":\n",
    "            score=int(response.values[\"relevance\"].value)\n",
    "        elif response.status == \"discarded\":\n",
    "            score = -1\n",
    "            \n",
    "        if score is not None:\n",
    "            results.append(\n",
    "                VespaRankingResult(\n",
    "                    text_block=VespaTextBlock(\n",
    "                        # TODO: text_block_id is not stored in Argilla so we use block text here\n",
    "                        text_block_id=_get_hash(rg_item.fields[\"text_block\"]),\n",
    "                        text_block=rg_item.fields[\"text_block\"],\n",
    "                        text_block_window=rg_item.fields[\"text_block_window\"]\n",
    "                    ),\n",
    "                    score=score,\n",
    "                    rank=-1,\n",
    "                )\n",
    "            )\n",
    "            \n",
    "    return query, results\n",
    "\n",
    "argilla_record_to_vespa_ranking_results(rg_dataset[0])"
   ]
  },
  {
   "cell_type": "code",
   "execution_count": 183,
   "metadata": {},
   "outputs": [],
   "source": [
    "argilla_results_converted = [argilla_record_to_vespa_ranking_results(rg_item) for rg_item in rg_dataset]"
   ]
  },
  {
   "cell_type": "code",
   "execution_count": 184,
   "metadata": {},
   "outputs": [
    {
     "data": {
      "text/plain": [
       "200"
      ]
     },
     "execution_count": 184,
     "metadata": {},
     "output_type": "execute_result"
    }
   ],
   "source": [
    "len(argilla_results_converted)"
   ]
  },
  {
   "cell_type": "code",
   "execution_count": 185,
   "metadata": {},
   "outputs": [
    {
     "data": {
      "text/plain": [
       "Counter({2: 200})"
      ]
     },
     "execution_count": 185,
     "metadata": {},
     "output_type": "execute_result"
    }
   ],
   "source": [
    "from collections import Counter\n",
    "\n",
    "Counter([len(v) for k, v in argilla_results_converted])"
   ]
  },
  {
   "cell_type": "markdown",
   "metadata": {},
   "source": [
    "## Set up scorer"
   ]
  },
  {
   "cell_type": "code",
   "execution_count": 314,
   "metadata": {},
   "outputs": [],
   "source": [
    "openai_client = OpenAI(\n",
    "    api_key=os.environ[\"OPENAI_API_KEY\"],\n",
    ")\n",
    "\n",
    "def get_relevance_judgement(query, passage) -> int:\n",
    "    \"\"\"Copied from the Vespa example https://blog.vespa.ai/improving-retrieval-with-llm-as-a-judge/\"\"\"\n",
    "    \n",
    "    prompt = f\"\"\"Given a query and a passage, you must provide a score on an integer scale of 0 to 2 with the following meanings:\n",
    "    0 = represents that the passage is irrelevant to the query,\n",
    "    1 = represents that the passage is somewhat relevant to the query, i.e. it contains any information that could help a user find an answer to a query,\n",
    "    2 = represents that the passage is is highly relevant to the query, i.e. it contains information that either answers the question in the query, or would fully support it with some more context.\n",
    "    Important Instruction: Assign score 1 if the passage is somewhat related to the query, score 2 if passage is highly relevant. Score 1 if the passage contains any information that could help a user find an answer to a query. If none of the above satisfies give it score 0. If a passage contains *any* information that could help a user find an answer to a query in a neighbouring passage in the same document, you must not give it a score of 0. However, the information must support answering the query or directly provide information that would be useful to contextualise a response. Just containing keywords relevant to a query is not sufficient for a judgement of 1 or 2. If the passage looks like a section heading or table/figure caption that refers to further information, then this should be a 2. Note in some cases, the passage might be missing starts or ends of sentences that are useful to make a relevance judgement. In this case, try to predict the relevance based on the information that is available and what could be in the missing part of the sentence.\n",
    "    Examples:\n",
    "    Query: What are the specific steps for implementing a fossil fuel-free electricity sector?\n",
    "    Passage: The government's commitment to a fossil fuel-free energy system extends to the transport sector, starting with public buses and light duty/passenger vehicles. \n",
    "    Effective April 2021, the government's procurement policy is to prioritize the purchase of electric or hybrid vehicles, where possible.\n",
    "    ##final score: 2\n",
    "    Query: What are the penalties for tampering with electric meters?\n",
    "    Passage: so as to abstract or consume or use electricity shall be punishable with imprisonment for a term which may extend to three years or with fine or with both:\n",
    "    ##final score: 2\n",
    "    Query: Does this document mention any funding or financial support needed for climate change adaptation?\t\n",
    "    Passage: The amount of energy demand\n",
    "    financial support\n",
    "    18,000,000\n",
    "    ##final score: 1\n",
    "    Query: What is the Bahamas' National Energy Policy target for renewables in the energy mix by 2030?\n",
    "    Passage: Intention to use market-based mechanisms to meet contribution. The Government of The Bahamas is willing to explore the potential benefits of market mechanisms and other mechanisms under the UNFCCC process, with a regional approach, that equitably benefit Caribbean countries; that demonstrate environmental integrity, result in real, permanent, additional, verified mitigation outcomes and prevent double counting. The Bahamas unfortunately even though being a signatory to the Kyoto Protocol has limited experience with existing market mechanisms.\n",
    "    ##final score: 0\n",
    "    Query: What are the powers of the Director of the Department of Geological Hazards?\n",
    "    Passage: 18\\nPART 5 FUNCTIONS AND POWERS OF THE DIRECTOR OF GEOLOGICAL HAZARDS\\nPART 5 FUNCTIONS AND POWERS OF THE DIRECTOR OF GEOLOGICAL HAZARDS\n",
    "    ##final score: 2\n",
    "    Query: What are the main barriers to implementing adaptation measures in Guinea-Bissau?\t\n",
    "    Passage: Implementing both mitigation and adaptation measures in Guinea-Bissau is challenging due to a number of barriers. These include a lack of financial resources, limited technical capacity, and a lack of awareness of the importance of climate change adaptation.\n",
    "    ##final score: 2\n",
    "    Split this problem into steps:\n",
    "    Consider the key concepts and intention in the search query.\n",
    "    Measure how relevant the passage is to the query, given content of the query and the instructions above.\n",
    "    Final score must be an integer value only.\n",
    "    Do not provide any code or reasoning in result. Just provide the score.\n",
    "    Query: {query}\n",
    "    Passage: {passage}\n",
    "    ##final score: \n",
    "    \"\"\"\n",
    "    response = openai_client.chat.completions.create(\n",
    "      model=\"gpt-4o\",\n",
    "      temperature=0,\n",
    "      max_tokens=15,\n",
    "      messages=[\n",
    "        {\"role\": \"system\", \"content\": \"You are the world's foremost climate policy expert that is tasked with judging the relevance of a passage to a query.\"},\n",
    "        {\"role\": \"user\", \"content\": prompt}\n",
    "      ]\n",
    "    )\n",
    "    result = response.choices[0].message.content\n",
    "    try:\n",
    "        final_score = int(result.strip())\n",
    "    except ValueError:\n",
    "        raise ValueError(f\"Could not parse score from response: {result}\")\n",
    "    return final_score\n"
   ]
  },
  {
   "cell_type": "code",
   "execution_count": 315,
   "metadata": {},
   "outputs": [
    {
     "data": {
      "text/plain": [
       "2"
      ]
     },
     "execution_count": 315,
     "metadata": {},
     "output_type": "execute_result"
    }
   ],
   "source": [
    "query = \"What are the requirements for a person or entity to register as a verifier?\"\n",
    "response = \"\"\"(b) meets the verifier accreditation criteria, requirements and technical capacity under the UNFCCC and the Paris Agreement; and\"\"\"\n",
    "\n",
    "get_relevance_judgement(query, response)"
   ]
  },
  {
   "cell_type": "code",
   "execution_count": 316,
   "metadata": {},
   "outputs": [
    {
     "name": "stdout",
     "output_type": "stream",
     "text": [
      "Query: What are the powers of the Director of the Department of Geological Hazards?\n",
      "Response: 18\n",
      "PART 5 FUNCTIONS AND POWERS OF THE DIRECTOR OF GEOLOGICAL HAZARDS\n",
      "PART 5 FUNCTIONS AND POWERS OF THE DIRECTOR OF GEOLOGICAL HAZARDS\n",
      "Human score: 2\n",
      "\n",
      "Relevance judgement: 2\n",
      "\n"
     ]
    }
   ],
   "source": [
    "difficult_examples = [\n",
    "    {\n",
    "        \"query\": \"What are the powers of the Director of the Department of Geological Hazards?\",\n",
    "        \"response_with_window\": \"18\\nPART 5 FUNCTIONS AND POWERS OF THE DIRECTOR OF GEOLOGICAL HAZARDS\\nPART 5 FUNCTIONS AND POWERS OF THE DIRECTOR OF GEOLOGICAL HAZARDS\",\n",
    "        \"max_human_score\": 2,\n",
    "    },\n",
    "    \n",
    "]\n",
    "\n",
    "for example in difficult_examples:\n",
    "    query = example[\"query\"]\n",
    "    response = example[\"response_with_window\"]\n",
    "    max_human_score = example[\"max_human_score\"]\n",
    "    print(f\"Query: {query}\\nResponse: {response}\\nHuman score: {max_human_score}\\n\")\n",
    "    print(f\"Relevance judgement: {get_relevance_judgement(query, response)}\\n\")"
   ]
  },
  {
   "cell_type": "markdown",
   "metadata": {},
   "source": [
    "## Run scorer against all queries and text blocks in Argilla\n",
    "\n",
    "This involved some correcting of the Argilla labels as the relevance guidance was written after the annotation task (in the prompt above).\n",
    "\n",
    "These corrections are imported from 2 CSVs, the code to generate which has been left commented below."
   ]
  },
  {
   "cell_type": "code",
   "execution_count": 317,
   "metadata": {},
   "outputs": [
    {
     "data": {
      "application/vnd.jupyter.widget-view+json": {
       "model_id": "09437f3ecc54469aada1f56c8819afb7",
       "version_major": 2,
       "version_minor": 0
      },
      "text/plain": [
       "  0%|          | 0/200 [00:00<?, ?it/s]"
      ]
     },
     "metadata": {},
     "output_type": "display_data"
    }
   ],
   "source": [
    "judge_and_human_scores = []\n",
    "\n",
    "for query, judgements in tqdm(argilla_results_converted):\n",
    "    if len(judgements) == 0:\n",
    "        continue\n",
    "    \n",
    "    max_human_score = max([judgement.score for judgement in judgements])\n",
    "    all_human_scores = [judgement.score for judgement in judgements]\n",
    "    # gpt_judge_score_text_block = get_relevance_judgement(query, judgements[0].text_block.text_block)\n",
    "    gpt_judge_score_text_block_window = get_relevance_judgement(query, judgements[0].text_block.text_block_window)\n",
    "    \n",
    "    judge_and_human_scores.append(\n",
    "        {\n",
    "            \"query\": query,\n",
    "            \"response\": judgements[0].text_block.text_block,\n",
    "            \"response_with_window\": judgements[0].text_block.text_block_window,\n",
    "            \"max_human_score\": max_human_score,\n",
    "            \"all_human_scores\": all_human_scores,\n",
    "            # \"gpt_judge_score_text_block\": gpt_judge_score_text_block,\n",
    "            \"gpt_judge_score_text_block_window\": gpt_judge_score_text_block_window,\n",
    "        }\n",
    "    )"
   ]
  },
  {
   "cell_type": "code",
   "execution_count": 318,
   "metadata": {},
   "outputs": [],
   "source": [
    "# plot confusion matrix of human vs GPT scores\n",
    "import matplotlib.pyplot as plt\n",
    "import seaborn as sns\n",
    "from sklearn.metrics import confusion_matrix\n",
    "\n",
    "df = pd.DataFrame(judge_and_human_scores)\n",
    "df = df[df[\"max_human_score\"] != -1]\n",
    "df[\"min_human_score\"] = df[\"all_human_scores\"].apply(lambda i: min(j for j in i if j != -1))\n",
    "\n",
    "# TODO: enable me for comparison with window data - but the line in the last cell needs to be uncommented too \n",
    "# cm = confusion_matrix(df[\"max_human_score\"], df[\"gpt_judge_score_text_block\"])\n",
    "# plt.figure(figsize=(10, 7))\n",
    "# sns.heatmap(cm, annot=True, fmt=\"d\", cmap=\"viridis\")\n",
    "# plt.xlabel(\"GPT-4o Judge Score (text block)\")\n",
    "# plt.ylabel(\"Max Human Score\")\n",
    "# plt.title(\"Confusion Matrix of Human vs GPT Scores\")"
   ]
  },
  {
   "cell_type": "code",
   "execution_count": 319,
   "metadata": {},
   "outputs": [
    {
     "data": {
      "text/plain": [
       "0.4948453608247423"
      ]
     },
     "execution_count": 319,
     "metadata": {},
     "output_type": "execute_result"
    }
   ],
   "source": [
    "n_agreements = df[\"all_human_scores\"].apply(lambda i: len(set(i)) == 1).sum()\n",
    "\n",
    "n_agreements / len(df)"
   ]
  },
  {
   "cell_type": "code",
   "execution_count": 320,
   "metadata": {},
   "outputs": [],
   "source": [
    "# Once-run code to generate data to review – left here for reference\n",
    "\n",
    "# # Where GPT-4o judge score is 0 and max human score is 1\n",
    "# df_to_review = df[(df[\"max_human_score\"] == 1) & (df[\"gpt_judge_score_text_block_window\"] == 0)]\n",
    "\n",
    "# questions_to_remove = {\n",
    "#     \"What changes does this document propose compared to previous years?\",\n",
    "#     \"What is the purpose of this Act?\",\n",
    "# }\n",
    "\n",
    "# df_to_review = df_to_review[~df_to_review[\"query\"].isin(questions_to_remove)]\n",
    "\n",
    "# df_to_review.to_csv(\"../data/retrieval_eval/retrieval_gpt4_alignment_spot_check.csv\", index=False)\n",
    "\n",
    "# # Where GPT-4o judge score is 1 and max human score is 2\n",
    "# df_to_review_2 = df[(df[\"max_human_score\"] == 2) & (df[\"gpt_judge_score_text_block_window\"] == 1)]\n",
    "# df_to_review_2.to_csv(\"../data/retrieval_eval/retrieval_gpt4_alignment_spot_check_2.csv\", index=False)\n",
    "\n",
    "# # Where GPT-4o judge score is 0 and max human score is 2\n",
    "df_to_review_3 = df[(df[\"max_human_score\"] == 2) & (df[\"gpt_judge_score_text_block_window\"] == 0)]\n",
    "df_to_review_3.to_csv(\"../data/retrieval_eval/retrieval_gpt4_alignment_spot_check_3.csv\", index=False)\n"
   ]
  },
  {
   "cell_type": "code",
   "execution_count": 321,
   "metadata": {},
   "outputs": [],
   "source": [
    "reviewed_data_1 = pd.read_csv(\"../data/retrieval_eval/retrieval_gpt4_alignment_spot_check_results.csv\")\n",
    "reviewed_data_2 = pd.read_csv(\"../data/retrieval_eval/retrieval_gpt4_alignment_spot_check_2_results.csv\")\n",
    "reviewed_data_3 = pd.read_csv(\"../data/retrieval_eval/retrieval_gpt4_alignment_spot_check_3_results.csv\")\n",
    "\n",
    "reviewed_data = pd.concat([reviewed_data_1, reviewed_data_2, reviewed_data_3])\n"
   ]
  },
  {
   "cell_type": "code",
   "execution_count": 322,
   "metadata": {},
   "outputs": [],
   "source": [
    "# replace rows in the original dataframe with the reviewed data\n",
    "for idx, row in reviewed_data.iterrows():\n",
    "    query = row[\"query\"]\n",
    "    response = row[\"response\"]\n",
    "    \n",
    "    \n",
    "    df.loc[(df[\"query\"] == query) & (df[\"response\"] == response), \"max_human_score\"] = row[\"score (0-2)\"]"
   ]
  },
  {
   "cell_type": "code",
   "execution_count": 323,
   "metadata": {},
   "outputs": [
    {
     "data": {
      "image/png": "[encoded data removed]",
      "text/plain": [
       "<Figure size 1000x700 with 2 Axes>"
      ]
     },
     "metadata": {},
     "output_type": "display_data"
    }
   ],
   "source": [
    "def plot_confusion_matrix(df):\n",
    "    fig, axs = plt.subplots(1, 1, figsize=(10, 7))\n",
    "\n",
    "    cm = confusion_matrix(df[\"max_human_score\"], df[\"gpt_judge_score_text_block_window\"])\n",
    "    sns.heatmap(cm, annot=True, fmt=\"d\", cmap=\"viridis\", ax=axs)\n",
    "    axs.set_xlabel(\"GPT-4o Judge Score (text block window)\")\n",
    "    axs.set_ylabel(\"Max Human Score\")\n",
    "    axs.set_title(\"Max Human vs GPT Scores - using text block window\")\n",
    "    \n",
    "    return axs\n",
    "\n",
    "_ = plot_confusion_matrix(df)"
   ]
  },
  {
   "cell_type": "markdown",
   "metadata": {},
   "source": [
    "### Binary relevance\n",
    "\n",
    "The `0-2` relevance scale is a bit confusing, as we don't really want passages with a relevance of 1 in our RAG prompts.\n",
    "\n",
    "So, what happens if we reduce the relevance scale to binary, mapping `{0,1} -> 0` and `2 -> 1`?"
   ]
  },
  {
   "cell_type": "code",
   "execution_count": 324,
   "metadata": {},
   "outputs": [],
   "source": [
    "df_binary_relevance = df.copy(deep=True)\n",
    "df_binary_relevance[\"max_human_score\"] = df_binary_relevance[\"max_human_score\"].apply(lambda i: 1 if i > 1 else 0)\n",
    "df_binary_relevance[\"gpt_judge_score_text_block_window\"] = df_binary_relevance[\"gpt_judge_score_text_block_window\"].apply(lambda i: 1 if i > 1 else 0)"
   ]
  },
  {
   "cell_type": "code",
   "execution_count": 325,
   "metadata": {},
   "outputs": [
    {
     "data": {
      "image/png": "[encoded data removed]",
      "text/plain": [
       "<Figure size 1000x700 with 2 Axes>"
      ]
     },
     "metadata": {},
     "output_type": "display_data"
    }
   ],
   "source": [
    "_ = plot_confusion_matrix(df_binary_relevance)"
   ]
  },
  {
   "cell_type": "code",
   "execution_count": 326,
   "metadata": {},
   "outputs": [
    {
     "data": {
      "text/plain": [
       "(0.8285714285714286, 0.6904761904761905, 0.7532467532467533)"
      ]
     },
     "execution_count": 326,
     "metadata": {},
     "output_type": "execute_result"
    }
   ],
   "source": [
    "precision = df_binary_relevance[df_binary_relevance[\"gpt_judge_score_text_block_window\"] == 1][\"max_human_score\"].mean()\n",
    "recall = df_binary_relevance[df_binary_relevance[\"max_human_score\"] == 1][\"gpt_judge_score_text_block_window\"].mean()\n",
    "\n",
    "f1 = 2 * (precision * recall) / (precision + recall)\n",
    "\n",
    "precision, recall, f1"
   ]
  },
  {
   "cell_type": "code",
   "execution_count": 327,
   "metadata": {},
   "outputs": [
    {
     "data": {
      "text/html": [
       "<div>\n",
       "<style scoped>\n",
       "    .dataframe tbody tr th:only-of-type {\n",
       "        vertical-align: middle;\n",
       "    }\n",
       "\n",
       "    .dataframe tbody tr th {\n",
       "        vertical-align: top;\n",
       "    }\n",
       "\n",
       "    .dataframe thead th {\n",
       "        text-align: right;\n",
       "    }\n",
       "</style>\n",
       "<table border=\"1\" class=\"dataframe\">\n",
       "  <thead>\n",
       "    <tr style=\"text-align: right;\">\n",
       "      <th></th>\n",
       "      <th>query</th>\n",
       "      <th>response_with_window</th>\n",
       "    </tr>\n",
       "  </thead>\n",
       "  <tbody>\n",
       "    <tr>\n",
       "      <th>27</th>\n",
       "      <td>What are the specific steps for implementing a fossil fuel-free electricity sector?</td>\n",
       "      <td>BARBADOS 2021 UPDATE OF THE FIRST NATIONALLY DETERMINED CONTRIBUTION\\nThe government's commitment to a fossil fuel-free energy system extends to the transport sector, starting with public buses and light duty/passenger vehicles.\\nEffective April 2021, the government's procurement policy is to prioritize the purchase of electric or hybrid vehicles, where possible. The government-owned transport fleet is currently operating 35 EV buses. The Barbados Transport Board's intention is to operate a fully-electrified fleet by 2030. The Transport Board competes with other private operators using minibuses and minivans on the same routes and for the same users. Public transportation is also supported with private taxis, used mostly by the tourism sector.</td>\n",
       "    </tr>\n",
       "    <tr>\n",
       "      <th>35</th>\n",
       "      <td>Does this document include estimates for all carbon pools in the Amazon biome?</td>\n",
       "      <td>The REDD+ decisions under the UNFCCC value the continuous update and improvement of relevant data and information over time. Brazil values consistency and transparency of the data submitted as fundamental and gives the highest priority to these. Nonetheless, Brazil continues its efforts to improve the accuracy of the estimates for all carbon pools included in the FREL. Brazil's data is presented in a transparent and verifiable manner, allowing the reconstruction of the FREL C.\\n3. RESULTS IN TONNES OF CO2 PER YEAR, CONSISTENT WITH THE ASSESSED FOREST REFERENCE EMISSION LEVEL FOR THE AMAZON BIOME\\nDecision 14/ CP.19, paragraph 3, \"decides that the data and information used by Parties in the estimation of anthropogenic forest-related emissions by sources and removals by sinks, forest carbon stocks, and forest carbon stock and forest-area changes, as appropriate to the activities referred to in decision 1/CP.16, paragraph 70, undertaken by Parties, should be transparent, and consistent over time and with the established forest reference emission levels and/or forest reference levels in accordance with decision 1/CP.16, paragraph 71(b) and (c) and section II of decision 12/CP.17\".</td>\n",
       "    </tr>\n",
       "    <tr>\n",
       "      <th>38</th>\n",
       "      <td>What are the specific steps for implementing a fossil fuel-free electricity sector?</td>\n",
       "      <td>BARBADOS 2021 UPDATE OF THE FIRST NATIONALLY DETERMINED CONTRIBUTION\\n. In 2019, the Fair Trading Commission established feed-in-tariffs (FITs) for renewable energy technologies up to 1 MW, and in 2020, established FITs for RE technologies up to 10 MW to replace a temporary tariff arrangement with the utility and provide stable and predictable price signals to potential investors.\\n. Until 2018, the CHENACT project, initiated by the Caribbean Tourism Organization, the Caribbean Hotel and Tourism Association and the IDB supported energy audits and efficiency measures in small and medium-sized hotels enabling savings of up to 50% of water usage and 30-50 % of energy bills.</td>\n",
       "    </tr>\n",
       "    <tr>\n",
       "      <th>60</th>\n",
       "      <td>What is the process for obtaining a license for electricity generation?</td>\n",
       "      <td>C- 1- If the business or an asset of an electricity company is transferred to another company which does not hold a licence, the transferee shall be deemed to hold an interim licence for a period not exceeding eighteen months from the date of the contract signed between them on the same terms and conditions as those of the licence of the licensee.\\n2- The company holding an interim license in accordance with this paragraph shall apply for a final licence at least three months before the expiry of the term of the interim licence.\\nArticle (30) :</td>\n",
       "    </tr>\n",
       "    <tr>\n",
       "      <th>64</th>\n",
       "      <td>What are the strategic objectives of the Floresta+ Program?</td>\n",
       "      <td>Art. 1 The National Program of Payments for Environmental Services - Floresta+ is instituted within the scope of the Ministry of the Environment.\\nArt. 2nd The Floresta+ Program will encourage:\\nI - the private market for payments for environmental services in areas maintained with native vegetation cover; It is</td>\n",
       "    </tr>\n",
       "    <tr>\n",
       "      <th>123</th>\n",
       "      <td>What are the plans for carbon capture, utilization and storage (CCUS)?</td>\n",
       "      <td>行政院農業委員會 COUNCIL OF AGRICULTURE, EXECUTIVE YUAN\\nDevelop carbon sinks and establish a benefit- sharing mechanism\\nProtect the rights of residents and all people as wetland, ocean and forest resources are protected.</td>\n",
       "    </tr>\n",
       "    <tr>\n",
       "      <th>139</th>\n",
       "      <td>What is the role of the United States Government in the Electrify Africa Act of 2015?</td>\n",
       "      <td>(11) A description of plans to ensure that small and medium enterprises based in sub-Saharan Africa can fairly compete for energy development and energy access opportunities associ- ated with this Act.\\n(12) A description of how United States investments to increase access to energy in sub-Saharan Africa may reduce the need for foreign aid and development assistance in the future.\\n(13) A description of policies or regulations, both domesti- cally and internationally, that create barriers to private financing of the projects undertaken in this Act.</td>\n",
       "    </tr>\n",
       "    <tr>\n",
       "      <th>143</th>\n",
       "      <td>What are the powers of the police officer for investigating offences under this Act?</td>\n",
       "      <td>Provided that only such officer of the licensee or supplier, as authorised for the purpose by the Appropriate Commission or any other officer of the licensee or supplier, as the case may be, of the rank higher than the rank so - authorised shall disconnect the supply line of electricity:\\nProvided further that such officer of the licensee or supplier, as the case may be, shall lodge a complaint in writing relating to the commission of such offence in police station having jurisdiction within twenty-four hours from the time of such disconnection:\\nProvided also that the licensee or supplier, as the case may be, on deposit or payment of the assessed amount or electricity charges in accordance with the provisions of this Act, shall, without prejudice to the obligation to lodge the complaint as referred to in the second proviso to this clause, restore the supply line of electricity within forty-eight hours of such deposit or payment.\";</td>\n",
       "    </tr>\n",
       "    <tr>\n",
       "      <th>149</th>\n",
       "      <td>Does this document mention any specific projects related to renewable energy?</td>\n",
       "      <td>Developing, improving and rehabilitating pastures\\n5 SUDEP involves improving the capacities of local authorities to develop and implement sustainable energy efficiency practices and renewable demonstration actions 6 1 dunum= 0.1 hectare\\n9</td>\n",
       "    </tr>\n",
       "    <tr>\n",
       "      <th>156</th>\n",
       "      <td>What are the main barriers to implementing adaptation measures in Guinea-Bissau?</td>\n",
       "      <td>Adaptation and risk reduction are priorities. Nevertheless, the country has identified\\nadditional mitigation actions that may constitute contributions (INDC). The implementation of these measures, both for adaptation and mitigation purposes requires financial resources, access to technology and capacity building, to be provided by external partners.\\nThe Guinean state has the organization and legal framework to meet challenges regarding environmental issues: Law 1/2011 of 2 March approved the Basic Environment Law.</td>\n",
       "    </tr>\n",
       "    <tr>\n",
       "      <th>161</th>\n",
       "      <td>What are the main adaptation priorities outlined in the NDC?</td>\n",
       "      <td>Below are guiding principles and sectoral adaptation priorities which, together, aim to preserve and restore the natural capital and enhance and protect the built capital, as well as livelihoods, to ensure sustainable growth and resilience to climate change.\\nMoreover, these principles and priorities are in line with the relevant national sectoral strategies and will inform Lebanon's National Adaptation Plan (NAP), w. Furthermore, the most relevant SDGs are listed per sectoral priority; Lebanon considers the SDGs 5 (gender equality), 13 (climate action), 16 (peace, justice and strong institutions) and 17 (partnerships for the goals) to be inherent in the successful achievement of the adaptation priorities and are therefore considered relevant to all actions.\\nThe achievement of the different adaptation priorities is highly interactive. Moreover, the implementation of the above-mentioned Climate Action Enablers is crucial to the achievement of the adaptation priorities.</td>\n",
       "    </tr>\n",
       "    <tr>\n",
       "      <th>164</th>\n",
       "      <td>What are the potential sources of funding for the Floresta+ Program?</td>\n",
       "      <td>IX - implement the pilot project for payments for environmental services &amp;quot;Floresta+&amp;quot; in the Legal Amazon with resources from Payments for REDD+ results.\\nArt. 6th The Floresta+ Program will be coordinated by the Secretariat of Forests and Sustainable Development of the Ministry of the Environment, which will seek to articulate and develop partnerships with other government agencies, the private sector and civil society for the implementation of its strategic objectives, as well as the establishment of own rules regarding the terms and conditions of the Program.\\nArt. 7 Technical meetings, public consultations or working groups may be set up to support and subsidy the proposal and implementation of actions related to the Program&amp;#39;s strategic objectives.</td>\n",
       "    </tr>\n",
       "    <tr>\n",
       "      <th>175</th>\n",
       "      <td>What are the incentives offered for the production of renewable energy?</td>\n",
       "      <td>and the TEIAŞ (Turkish Electricity Transmission Company Inc.,). Connection capacities and transformer centers for years after 31/12/2015 shall be determined and published each year by the Ministry, with the first being on 1/4/2014.\\n(3) At the stage of making up an opinion for connectivity during evaluation of license applications by the EMRA (Energy Market Regulatory Authority), production facilities based on Renewable Energy Resources within this scope will be given priority.\\n(4) A measurement compliant with the relevant standards is a must in license applications based on solar power. In license applications made for the establishment of electricity production facilities based on solar power, no additional applications can be made for the same area in the event that the owner of the facility area applies for licensing. In the event of several applications for the same region and/or transformer center, in order to determine the one to be connected to the system with a capacity equal to that of the announced capacity from among the applications, the TEIAS (Turkish Electricity Transmission Company Inc.,) shall organize a competition by underbidding of prices projected in Schedule I for application throughout the time periods set in this Law. Principles and procedures regarding the competition shall be organized in the regulation to be issued by the TEIAS (Turkish Electricity Transmission Company Inc.,) after obtaining the opinions of the Ministry, EMRA (Energy Market Regulatory Authority) and EIEI (Electrical Works Survey Administration).</td>\n",
       "    </tr>\n",
       "  </tbody>\n",
       "</table>\n",
       "</div>"
      ],
      "text/plain": [
       "                                                                                     query                                                                                                                                                                                                                                                                                                                                                                                                                                                                                                                                                                                                                                                                                                                                                                                                                                                                                                                                                                                                                                                                                                                                                                                                                                                                                                                                                                                                                                                                                                                                                                                                           response_with_window\n",
       "27     What are the specific steps for implementing a fossil fuel-free electricity sector?                                                                                                                                                                                                                                                                                                                                                                                                                                                                                                                                                                                                                                                                                                                                                                                                                                              BARBADOS 2021 UPDATE OF THE FIRST NATIONALLY DETERMINED CONTRIBUTION\\nThe government's commitment to a fossil fuel-free energy system extends to the transport sector, starting with public buses and light duty/passenger vehicles.\\nEffective April 2021, the government's procurement policy is to prioritize the purchase of electric or hybrid vehicles, where possible. The government-owned transport fleet is currently operating 35 EV buses. The Barbados Transport Board's intention is to operate a fully-electrified fleet by 2030. The Transport Board competes with other private operators using minibuses and minivans on the same routes and for the same users. Public transportation is also supported with private taxis, used mostly by the tourism sector.\n",
       "35          Does this document include estimates for all carbon pools in the Amazon biome?                                                                                                                                                                                                                                                                                                                                                                                    The REDD+ decisions under the UNFCCC value the continuous update and improvement of relevant data and information over time. Brazil values consistency and transparency of the data submitted as fundamental and gives the highest priority to these. Nonetheless, Brazil continues its efforts to improve the accuracy of the estimates for all carbon pools included in the FREL. Brazil's data is presented in a transparent and verifiable manner, allowing the reconstruction of the FREL C.\\n3. RESULTS IN TONNES OF CO2 PER YEAR, CONSISTENT WITH THE ASSESSED FOREST REFERENCE EMISSION LEVEL FOR THE AMAZON BIOME\\nDecision 14/ CP.19, paragraph 3, \"decides that the data and information used by Parties in the estimation of anthropogenic forest-related emissions by sources and removals by sinks, forest carbon stocks, and forest carbon stock and forest-area changes, as appropriate to the activities referred to in decision 1/CP.16, paragraph 70, undertaken by Parties, should be transparent, and consistent over time and with the established forest reference emission levels and/or forest reference levels in accordance with decision 1/CP.16, paragraph 71(b) and (c) and section II of decision 12/CP.17\".\n",
       "38     What are the specific steps for implementing a fossil fuel-free electricity sector?                                                                                                                                                                                                                                                                                                                                                                                                                                                                                                                                                                                                                                                                                                                                                                                                                                                                                                                        BARBADOS 2021 UPDATE OF THE FIRST NATIONALLY DETERMINED CONTRIBUTION\\n. In 2019, the Fair Trading Commission established feed-in-tariffs (FITs) for renewable energy technologies up to 1 MW, and in 2020, established FITs for RE technologies up to 10 MW to replace a temporary tariff arrangement with the utility and provide stable and predictable price signals to potential investors.\\n. Until 2018, the CHENACT project, initiated by the Caribbean Tourism Organization, the Caribbean Hotel and Tourism Association and the IDB supported energy audits and efficiency measures in small and medium-sized hotels enabling savings of up to 50% of water usage and 30-50 % of energy bills.\n",
       "60                 What is the process for obtaining a license for electricity generation?                                                                                                                                                                                                                                                                                                                                                                                                                                                                                                                                                                                                                                                                                                                                                                                                                                                                                                                                                                                                                                                         C- 1- If the business or an asset of an electricity company is transferred to another company which does not hold a licence, the transferee shall be deemed to hold an interim licence for a period not exceeding eighteen months from the date of the contract signed between them on the same terms and conditions as those of the licence of the licensee.\\n2- The company holding an interim license in accordance with this paragraph shall apply for a final licence at least three months before the expiry of the term of the interim licence.\\nArticle (30) :\n",
       "64                             What are the strategic objectives of the Floresta+ Program?                                                                                                                                                                                                                                                                                                                                                                                                                                                                                                                                                                                                                                                                                                                                                                                                                                                                                                                                                                                                                                                                                                                                                                                                                                                                                                      Art. 1 The National Program of Payments for Environmental Services - Floresta+ is instituted within the scope of the Ministry of the Environment.\\nArt. 2nd The Floresta+ Program will encourage:\\nI - the private market for payments for environmental services in areas maintained with native vegetation cover; It is\n",
       "123                 What are the plans for carbon capture, utilization and storage (CCUS)?                                                                                                                                                                                                                                                                                                                                                                                                                                                                                                                                                                                                                                                                                                                                                                                                                                                                                                                                                                                                                                                                                                                                                                                                                                                                                                                                                                                                         行政院農業委員會 COUNCIL OF AGRICULTURE, EXECUTIVE YUAN\\nDevelop carbon sinks and establish a benefit- sharing mechanism\\nProtect the rights of residents and all people as wetland, ocean and forest resources are protected.\n",
       "139  What is the role of the United States Government in the Electrify Africa Act of 2015?                                                                                                                                                                                                                                                                                                                                                                                                                                                                                                                                                                                                                                                                                                                                                                                                                                                                                                                                                                                                                                                     (11) A description of plans to ensure that small and medium enterprises based in sub-Saharan Africa can fairly compete for energy development and energy access opportunities associ- ated with this Act.\\n(12) A description of how United States investments to increase access to energy in sub-Saharan Africa may reduce the need for foreign aid and development assistance in the future.\\n(13) A description of policies or regulations, both domesti- cally and internationally, that create barriers to private financing of the projects undertaken in this Act.\n",
       "143   What are the powers of the police officer for investigating offences under this Act?                                                                                                                                                                                                                                                                                                                                                                                                                                                                                                                                                                                                                                              Provided that only such officer of the licensee or supplier, as authorised for the purpose by the Appropriate Commission or any other officer of the licensee or supplier, as the case may be, of the rank higher than the rank so - authorised shall disconnect the supply line of electricity:\\nProvided further that such officer of the licensee or supplier, as the case may be, shall lodge a complaint in writing relating to the commission of such offence in police station having jurisdiction within twenty-four hours from the time of such disconnection:\\nProvided also that the licensee or supplier, as the case may be, on deposit or payment of the assessed amount or electricity charges in accordance with the provisions of this Act, shall, without prejudice to the obligation to lodge the complaint as referred to in the second proviso to this clause, restore the supply line of electricity within forty-eight hours of such deposit or payment.\";\n",
       "149          Does this document mention any specific projects related to renewable energy?                                                                                                                                                                                                                                                                                                                                                                                                                                                                                                                                                                                                                                                                                                                                                                                                                                                                                                                                                                                                                                                                                                                                                                                                                                                                                                                                                                               Developing, improving and rehabilitating pastures\\n5 SUDEP involves improving the capacities of local authorities to develop and implement sustainable energy efficiency practices and renewable demonstration actions 6 1 dunum= 0.1 hectare\\n9\n",
       "156       What are the main barriers to implementing adaptation measures in Guinea-Bissau?                                                                                                                                                                                                                                                                                                                                                                                                                                                                                                                                                                                                                                                                                                                                                                                                                                                                                                                                                                                                                                                                                      Adaptation and risk reduction are priorities. Nevertheless, the country has identified\\nadditional mitigation actions that may constitute contributions (INDC). The implementation of these measures, both for adaptation and mitigation purposes requires financial resources, access to technology and capacity building, to be provided by external partners.\\nThe Guinean state has the organization and legal framework to meet challenges regarding environmental issues: Law 1/2011 of 2 March approved the Basic Environment Law.\n",
       "161                           What are the main adaptation priorities outlined in the NDC?                                                                                                                                                                                                                                                                                                                                                                                                                                                                                                                                                                                                        Below are guiding principles and sectoral adaptation priorities which, together, aim to preserve and restore the natural capital and enhance and protect the built capital, as well as livelihoods, to ensure sustainable growth and resilience to climate change.\\nMoreover, these principles and priorities are in line with the relevant national sectoral strategies and will inform Lebanon's National Adaptation Plan (NAP), w. Furthermore, the most relevant SDGs are listed per sectoral priority; Lebanon considers the SDGs 5 (gender equality), 13 (climate action), 16 (peace, justice and strong institutions) and 17 (partnerships for the goals) to be inherent in the successful achievement of the adaptation priorities and are therefore considered relevant to all actions.\\nThe achievement of the different adaptation priorities is highly interactive. Moreover, the implementation of the above-mentioned Climate Action Enablers is crucial to the achievement of the adaptation priorities.\n",
       "164                   What are the potential sources of funding for the Floresta+ Program?                                                                                                                                                                                                                                                                                                                                                                                                                                                                                                                                                                                                                                                                                                                                                                                                                        IX - implement the pilot project for payments for environmental services &quot;Floresta+&quot; in the Legal Amazon with resources from Payments for REDD+ results.\\nArt. 6th The Floresta+ Program will be coordinated by the Secretariat of Forests and Sustainable Development of the Ministry of the Environment, which will seek to articulate and develop partnerships with other government agencies, the private sector and civil society for the implementation of its strategic objectives, as well as the establishment of own rules regarding the terms and conditions of the Program.\\nArt. 7 Technical meetings, public consultations or working groups may be set up to support and subsidy the proposal and implementation of actions related to the Program&#39;s strategic objectives.\n",
       "175                What are the incentives offered for the production of renewable energy?  and the TEIAŞ (Turkish Electricity Transmission Company Inc.,). Connection capacities and transformer centers for years after 31/12/2015 shall be determined and published each year by the Ministry, with the first being on 1/4/2014.\\n(3) At the stage of making up an opinion for connectivity during evaluation of license applications by the EMRA (Energy Market Regulatory Authority), production facilities based on Renewable Energy Resources within this scope will be given priority.\\n(4) A measurement compliant with the relevant standards is a must in license applications based on solar power. In license applications made for the establishment of electricity production facilities based on solar power, no additional applications can be made for the same area in the event that the owner of the facility area applies for licensing. In the event of several applications for the same region and/or transformer center, in order to determine the one to be connected to the system with a capacity equal to that of the announced capacity from among the applications, the TEIAS (Turkish Electricity Transmission Company Inc.,) shall organize a competition by underbidding of prices projected in Schedule I for application throughout the time periods set in this Law. Principles and procedures regarding the competition shall be organized in the regulation to be issued by the TEIAS (Turkish Electricity Transmission Company Inc.,) after obtaining the opinions of the Ministry, EMRA (Energy Market Regulatory Authority) and EIEI (Electrical Works Survey Administration)."
      ]
     },
     "metadata": {},
     "output_type": "display_data"
    }
   ],
   "source": [
    "with pd.option_context(\"display.max_colwidth\", None):\n",
    "    display(df_binary_relevance[(df_binary_relevance[\"max_human_score\"] == 1) & (df_binary_relevance[\"gpt_judge_score_text_block_window\"] == 0)][[\"query\", \"response_with_window\"]])"
   ]
  },
  {
   "cell_type": "code",
   "execution_count": null,
   "metadata": {},
   "outputs": [],
   "source": []
  }
 ],
 "metadata": {
  "kernelspec": {
   "display_name": "rag-labs-4_BbfzMU-py3.9",
   "language": "python",
   "name": "python3"
  },
  "language_info": {
   "codemirror_mode": {
    "name": "ipython",
    "version": 3
   },
   "file_extension": ".py",
   "mimetype": "text/x-python",
   "name": "python",
   "nbconvert_exporter": "python",
   "pygments_lexer": "ipython3",
   "version": "3.9.10"
  }
 },
 "nbformat": 4,
 "nbformat_minor": 2
}
