{
 "cells": [
  {
   "cell_type": "markdown",
   "metadata": {},
   "source": [
    "# Checking available documents in Vespa\n",
    "\n",
    "Once indexing in Vespa, this is a notebook to get high level stats of the docs in the Vespa index."
   ]
  },
  {
   "cell_type": "code",
   "execution_count": 1,
   "metadata": {},
   "outputs": [
    {
     "data": {
      "text/plain": [
       "True"
      ]
     },
     "execution_count": 1,
     "metadata": {},
     "output_type": "execute_result"
    }
   ],
   "source": [
    "import os\n",
    "from pathlib import Path\n",
    "import shutil\n",
    "\n",
    "from vespa.application import Vespa\n",
    "from vespa.io import VespaQueryResponse\n",
    "from vespa.exceptions import VespaError\n",
    "from sentence_transformers import SentenceTransformer\n",
    "from tqdm.auto import tqdm\n",
    "\n",
    "from dotenv import load_dotenv, find_dotenv\n",
    "\n",
    "load_dotenv(find_dotenv(), override=True)"
   ]
  },
  {
   "cell_type": "code",
   "execution_count": 2,
   "metadata": {},
   "outputs": [
    {
     "name": "stdout",
     "output_type": "stream",
     "text": [
      "Using mTLS (key,cert) Authentication against endpoint https://a6a329f3.acc2de3b.z.vespa-app.cloud/ApplicationStatus\n"
     ]
    },
    {
     "data": {
      "text/plain": [
       "<Response [200]>"
      ]
     },
     "execution_count": 2,
     "metadata": {},
     "output_type": "execute_result"
    }
   ],
   "source": [
    "app = Vespa(\n",
    "    url=os.environ[\"VESPA_URL\"],\n",
    "    cert=os.environ[\"VESPA_CERT_LOCATION\"],\n",
    "    key=os.environ[\"VESPA_KEY_LOCATION\"],\n",
    ")\n",
    "\n",
    "app.get_application_status()"
   ]
  },
  {
   "cell_type": "code",
   "execution_count": 3,
   "metadata": {},
   "outputs": [],
   "source": [
    "yql = \"\"\"select * from sources document_passage where true limit 0 | all(group(document_import_id) each(output(count())));\"\"\"\n",
    "        \n",
    "        \n",
    "with app.syncio() as session:\n",
    "    response: VespaQueryResponse = session.query(\n",
    "        yql=yql,\n",
    "        hits=10,\n",
    "    )\n",
    "\n",
    "res = response.json\n"
   ]
  },
  {
   "cell_type": "code",
   "execution_count": 4,
   "metadata": {},
   "outputs": [
    {
     "name": "stdout",
     "output_type": "stream",
     "text": [
      "Smallest docs in the index. You might want to check these\n"
     ]
    },
    {
     "data": {
      "text/plain": [
       "[('CCLW.executive.9967.4478', 6),\n",
       " ('CCLW.executive.9724.4203', 7),\n",
       " ('CCLW.document.i00000160.n0000', 8),\n",
       " ('UNFCCC.party.1221.0', 8),\n",
       " ('CCLW.executive.10211.4813', 9),\n",
       " ('CCLW.executive.11049.6349', 10),\n",
       " ('UNFCCC.party.1572.0', 10),\n",
       " ('UNFCCC.party.1038.0', 13),\n",
       " ('CCLW.document.i00000437.n0000', 13),\n",
       " ('CCLW.executive.10524.5502', 13)]"
      ]
     },
     "execution_count": 4,
     "metadata": {},
     "output_type": "execute_result"
    }
   ],
   "source": [
    "document_ids_and_passage_counts_in_vespa = [(i[\"value\"], i[\"fields\"][\"count()\"]) for i in res[\"root\"][\"children\"][0][\"children\"][0][\"children\"]]\n",
    "\n",
    "print(\"Smallest docs in the index. You might want to check these\")\n",
    "sorted(document_ids_and_passage_counts_in_vespa, key=lambda x: x[1], reverse=False)[:10]"
   ]
  },
  {
   "cell_type": "code",
   "execution_count": 5,
   "metadata": {},
   "outputs": [
    {
     "name": "stdout",
     "output_type": "stream",
     "text": [
      "Num docs in vespa: 552\n",
      "Num docs in local dir: 715\n"
     ]
    }
   ],
   "source": [
    "unique_doc_ids_in_vespa = {i[0] for i in document_ids_and_passage_counts_in_vespa}\n",
    "\n",
    "doc_ids_for_loading = set(fname.stem for fname in Path(\"../data/documents_unece/cpr_embeddings_output\").glob(\"*.json\"))\n",
    "\n",
    "print(f\"Num docs in vespa: {len(unique_doc_ids_in_vespa)}\")\n",
    "print(f\"Num docs in local dir: {len(doc_ids_for_loading)}\")"
   ]
  },
  {
   "cell_type": "code",
   "execution_count": 21,
   "metadata": {},
   "outputs": [
    {
     "name": "stdout",
     "output_type": "stream",
     "text": [
      "163 docs are missing\n"
     ]
    }
   ],
   "source": [
    "missing_docs = doc_ids_for_loading - unique_doc_ids_in_vespa\n",
    "\n",
    "print(f\"{len(missing_docs)} docs are missing\")"
   ]
  },
  {
   "cell_type": "markdown",
   "metadata": {},
   "source": [
    "## Checking docs missing in `document_passage` schema\n",
    "\n",
    "All of the docs missing in the `document_passage` schema should be empty or have `html_data.has_valid_text == False`"
   ]
  },
  {
   "cell_type": "code",
   "execution_count": 19,
   "metadata": {},
   "outputs": [
    {
     "name": "stdout",
     "output_type": "stream",
     "text": [
      "0\n"
     ]
    }
   ],
   "source": [
    "# check whether doc ids in docs are the same as their titles\n",
    "import json \n",
    "\n",
    "def _is_empty(doc: dict) -> bool:\n",
    "    if doc[\"pdf_data\"] is None and doc[\"html_data\"] is None:\n",
    "        return True\n",
    "    \n",
    "    if doc[\"html_data\"] is None and doc[\"pdf_data\"][\"text_blocks\"] == []:\n",
    "        return True\n",
    "    \n",
    "    if doc[\"pdf_data\"] is None and doc[\"html_data\"][\"text_blocks\"] == []:\n",
    "        return True\n",
    "    \n",
    "    if doc[\"pdf_data\"] is None and doc[\"html_data\"][\"has_valid_text\"] == False:\n",
    "        return True\n",
    "    \n",
    "    return False\n",
    "\n",
    "docs_to_check = []\n",
    "\n",
    "for doc in missing_docs:\n",
    "    doc_text = Path(f\"../data/documents_unece/cpr_embeddings_output/{doc}.json\").read_text()\n",
    "    doc_json = json.loads(doc_text)\n",
    "    assert doc_json[\"document_id\"] == doc\n",
    "    if not _is_empty(doc_json):\n",
    "        docs_to_check.append(doc_json)\n",
    "        \n",
    "print(len(docs_to_check))"
   ]
  },
  {
   "cell_type": "code",
   "execution_count": null,
   "metadata": {},
   "outputs": [],
   "source": []
  }
 ],
 "metadata": {
  "kernelspec": {
   "display_name": "rag-labs-4_BbfzMU-py3.9",
   "language": "python",
   "name": "python3"
  },
  "language_info": {
   "codemirror_mode": {
    "name": "ipython",
    "version": 3
   },
   "file_extension": ".py",
   "mimetype": "text/x-python",
   "name": "python",
   "nbconvert_exporter": "python",
   "pygments_lexer": "ipython3",
   "version": "3.9.10"
  }
 },
 "nbformat": 4,
 "nbformat_minor": 2
}
