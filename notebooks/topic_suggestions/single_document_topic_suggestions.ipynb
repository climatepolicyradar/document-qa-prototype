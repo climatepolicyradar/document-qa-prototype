{
 "cells": [
  {
   "cell_type": "markdown",
   "metadata": {},
   "source": [
    "# Single document topic suggestions\n",
    "\n",
    "This notebook looks at topic suggestion for documents, trying both the first few pages of a document and its description.\n",
    "\n",
    "**The first few pages** is better, as for UNFCCC documents descriptions are prefilled.\n"
   ]
  },
  {
   "cell_type": "code",
   "execution_count": 1,
   "metadata": {},
   "outputs": [],
   "source": [
    "%load_ext autoreload\n",
    "%autoreload 2"
   ]
  },
  {
   "cell_type": "code",
   "execution_count": 22,
   "metadata": {},
   "outputs": [],
   "source": [
    "import json\n",
    "import os\n",
    "import sys\n",
    "from collections import Counter\n",
    "from string import Template\n",
    "from pathlib import Path\n",
    "\n",
    "import psycopg2\n",
    "import boto3\n",
    "import pandas as pd\n",
    "from tqdm.auto import tqdm\n",
    "\n",
    "from dotenv import load_dotenv, find_dotenv\n",
    "\n",
    "tqdm.pandas()\n",
    "\n",
    "sys.path.append(\"../..\")\n",
    "\n",
    "from src.online.inference import get_llm\n",
    "from src.controllers.LibraryManager import LibraryManager"
   ]
  },
  {
   "cell_type": "code",
   "execution_count": 3,
   "metadata": {},
   "outputs": [
    {
     "data": {
      "text/plain": [
       "True"
      ]
     },
     "execution_count": 3,
     "metadata": {},
     "output_type": "execute_result"
    }
   ],
   "source": [
    "load_dotenv(find_dotenv(), override=True)"
   ]
  },
  {
   "cell_type": "code",
   "execution_count": 8,
   "metadata": {},
   "outputs": [],
   "source": [
    "if \"LABS_RDS_DB_CREDS\" in os.environ:\n",
    "    secret = os.environ['LABS_RDS_DB_CREDS']\n",
    "else:\n",
    "    # getting the secrets from the parameter store relating to the RDS database\n",
    "    session = boto3.Session()\n",
    "    ssm = session.client('ssm')\n",
    "    response = ssm.get_parameter(Name=\"/RAG/LABS_RDS_DB_CREDS\", WithDecryption=True)\n",
    "    secret = response['Parameter']['Value']\n",
    "    \n",
    "conn = psycopg2.connect(**json.loads(secret))\n"
   ]
  },
  {
   "cell_type": "code",
   "execution_count": 9,
   "metadata": {},
   "outputs": [
    {
     "name": "stdout",
     "output_type": "stream",
     "text": [
      "('rag-labs', 'public', 'dbquery', 'BASE TABLE', None, None, None, None, None, 'YES', 'NO', None)\n",
      "('rag-labs', 'public', 'feedback', 'BASE TABLE', None, None, None, None, None, 'YES', 'NO', None)\n",
      "('rag-labs', 'public', 'qapair', 'BASE TABLE', None, None, None, None, None, 'YES', 'NO', None)\n",
      "('rag-labs', 'public', 'notebook', 'BASE TABLE', None, None, None, None, None, 'YES', 'NO', None)\n"
     ]
    }
   ],
   "source": [
    "# having a look at the tables in the database\n",
    "\n",
    "cur = conn.cursor()\n",
    "\n",
    "cur.execute(\"\"\"SELECT * FROM information_schema.tables WHERE table_schema = 'public';\"\"\")\n",
    "\n",
    "tables = cur.fetchall()\n",
    "\n",
    "for table in tables:\n",
    "    print(table)"
   ]
  },
  {
   "cell_type": "markdown",
   "metadata": {},
   "source": [
    "checking the table headers for both of these:"
   ]
  },
  {
   "cell_type": "code",
   "execution_count": 10,
   "metadata": {},
   "outputs": [
    {
     "name": "stdout",
     "output_type": "stream",
     "text": [
      "Number of documents in the database: 649\n"
     ]
    }
   ],
   "source": [
    "cur.execute(\"\"\"SELECT DISTINCT document_id FROM dbquery;\"\"\")\n",
    "\n",
    "generation_db_response = cur.fetchall()\n",
    "\n",
    "documents_in_db = [i[0] for i in generation_db_response]\n",
    "\n",
    "print(f\"Number of documents in the database: {len(documents_in_db)}\")"
   ]
  },
  {
   "cell_type": "markdown",
   "metadata": {},
   "source": [
    "## Load documents from s3 bucket"
   ]
  },
  {
   "cell_type": "code",
   "execution_count": 11,
   "metadata": {},
   "outputs": [],
   "source": [
    "# Note from Kalyan: I still can't get s3 to work in a notebook, so the code loads from \n",
    "# the local filesystem for now. The s3 dir below contains the data you need to get this\n",
    "# running.\n",
    "# documents_s3_path = \"s3://project-rag/data/cpr_embeddings_output\"\n",
    "\n",
    "documents_path = Path(\"~/Documents/cpr/data/s3-buckets-prod/opensearch_input_05_20_2024/\").expanduser()\n",
    "\n",
    "assert documents_path.exists()"
   ]
  },
  {
   "cell_type": "code",
   "execution_count": 12,
   "metadata": {},
   "outputs": [
    {
     "data": {
      "application/vnd.jupyter.widget-view+json": {
       "model_id": "ec63849b32b840ac9a7be5f1632ac209",
       "version_major": 2,
       "version_minor": 0
      },
      "text/plain": [
       "  0%|          | 0/649 [00:00<?, ?it/s]"
      ]
     },
     "metadata": {},
     "output_type": "display_data"
    }
   ],
   "source": [
    "documents_by_id = {}\n",
    "\n",
    "for document_id in tqdm(documents_in_db):\n",
    "    try:\n",
    "        documents_by_id[document_id] = json.loads((documents_path / f\"{document_id}.json\").read_text())\n",
    "    except Exception as e:\n",
    "        print(f\"Failed to load {document_id}: {e}\")"
   ]
  },
  {
   "cell_type": "code",
   "execution_count": 13,
   "metadata": {},
   "outputs": [
    {
     "data": {
      "text/plain": [
       "['FEDERAL MINISTRY OF ENVIRONMENT DEPARTMENT OF CLIMATE CHANGE',\n",
       " 'NATIONAL CLIMATE CHANGE POLICY',\n",
       " 'FOR NIGERIA',\n",
       " '2021 - 2030',\n",
       " 'FORWARD',\n",
       " 'Climate change is perhaps the biggest challenge facing humanity. It is complex and dynamic and requires dimensional and multi-sectoral mitigation and adaptation initiatives within a dynamic policy framework to properly tackle it. Government recognizes this and is committee to tackling any presumed threat to its national sustainable development.',\n",
       " 'Since the development of the National Climate Change Policy and Response Strategy (NCCPRS) in 2012, the global discourse on climate change has evolved leading to the adoption of new initiatives that have been domesticated to guide national response to reducing the impact and adapting to the challenge.',\n",
       " 'Dr. Mohammad Mahmood Abubakar Honourable Minister Federal Ministry of Environment',\n",
       " \"Specifically, a major milestone for Nigeria's effective response to the challenges of climate change, is the signing of the 2015 Paris Agreement to which the country ratified in March 2017. This Agreement constitutes a major role in promoting the transition to a low carbon economy. Thus, the purpose of this revised National Policy on Climate Change is to define a new holistic framework to guide the country's response to the development challenge of climate change. As a framework document, it prescribes sectoral and cross-sectoral strategic policy statements and actions for the management of climate change within the country's pursuit for climate resilient sustainable development.\",\n",
       " 'The National Climate Change Policy (NCCP) review process was conducted within a national participatory process through the engagement and consistent consultation with relevant Ministries, Departments and Agencies at Federal and State levels, private sector operators and the community, using workshops and questionnaires as a tool to reach out and collate information. This approach was undertaken in order to put in place a well-defined national climate change implementation framework and programmatic action plan that incorporates short, medium and long term mitigation and adaptation strategies to assist build a climate resilient nation.',\n",
       " \"Nigeria welcomes financial and technical support from private sectors and multilateral development partnership towards the implementation of the NCCP. This supportive effort, enables the country adapt effectively to the impact of climate change as well as meet Nigeria's GHG emission reduction target and its global commitment under the United Nations Framework Convention on Climate Change (UNFCCC).\",\n",
       " '2',\n",
       " 'ACKNOWLEDGEMENT',\n",
       " 'The Federal Government would like to recognize, the valuable contribution of the Inter- Ministerial Committee on Climate Change (ICCC) made up of Ministries, Departments and Agencies of government, individuals, corporate entities, development partners and relevant stakeholders who contributed immensely to the revision of the National Climate Change Policy.',\n",
       " 'Special thanks to the national consultants engaged to work at various stages of the revision process to produce a draft document, much appreciation for their technical advisory role and input into the NCCP document.',\n",
       " 'Profound gratitude is extended to the United Nations Development Programme (UNDP) for their financial and strategic support provided on the various stages of the revision process and final production of the NCCP.',\n",
       " 'Finally, acknowledgment and recognition to the staff of the Department of Climate Change of the Federal Ministry of Environment for their commitment and dedication in ensuring that the entire revision process, production and FEC approval of the NCCP was a success.',\n",
       " '3']"
      ]
     },
     "execution_count": 13,
     "metadata": {},
     "output_type": "execute_result"
    }
   ],
   "source": [
    "def get_description(document: dict) -> str:\n",
    "    return document[\"document_metadata\"][\"description\"]\n",
    "\n",
    "def get_page_text(document: dict, pages: list[int]) -> list[str]:\n",
    "    \"\"\"Get text from specific pages, or all pages if the document is an HTML document.\"\"\"\n",
    "    \n",
    "    if document[\"pdf_data\"] is not None:\n",
    "        blocks = document[\"pdf_data\"][\"text_blocks\"]\n",
    "        return [\" \".join(block[\"text\"]) for block in blocks if block[\"page_number\"] in pages]\n",
    "    elif document[\"html_data\"] is not None:\n",
    "        blocks = document[\"html_data\"][\"text_blocks\"]\n",
    "        return [\" \".join(block[\"text\"]) for block in blocks]\n",
    "    else:\n",
    "        return []\n",
    "    \n",
    "    \n",
    "get_page_text(documents_by_id[documents_in_db[0]], [0, 1, 2])    "
   ]
  },
  {
   "cell_type": "code",
   "execution_count": 34,
   "metadata": {},
   "outputs": [
    {
     "data": {
      "text/html": [
       "<div>\n",
       "<style scoped>\n",
       "    .dataframe tbody tr th:only-of-type {\n",
       "        vertical-align: middle;\n",
       "    }\n",
       "\n",
       "    .dataframe tbody tr th {\n",
       "        vertical-align: top;\n",
       "    }\n",
       "\n",
       "    .dataframe thead th {\n",
       "        text-align: right;\n",
       "    }\n",
       "</style>\n",
       "<table border=\"1\" class=\"dataframe\">\n",
       "  <thead>\n",
       "    <tr style=\"text-align: right;\">\n",
       "      <th></th>\n",
       "      <th>document_id</th>\n",
       "      <th>description</th>\n",
       "      <th>start_text</th>\n",
       "    </tr>\n",
       "  </thead>\n",
       "  <tbody>\n",
       "    <tr>\n",
       "      <th>0</th>\n",
       "      <td>CCLW.executive.1515.5045</td>\n",
       "      <td>The National Policy on Climate Change is a str...</td>\n",
       "      <td>FEDERAL MINISTRY OF ENVIRONMENT DEPARTMENT OF ...</td>\n",
       "    </tr>\n",
       "    <tr>\n",
       "      <th>1</th>\n",
       "      <td>CCLW.executive.1280.2594</td>\n",
       "      <td>Grenada's National Energy Policy (GNEP) lays d...</td>\n",
       "      <td>GRENADA THE NATIONAL ENERGY POLICY OF GRENADA ...</td>\n",
       "    </tr>\n",
       "    <tr>\n",
       "      <th>2</th>\n",
       "      <td>CCLW.executive.1793.4130</td>\n",
       "      <td>This document was implemented through Decision...</td>\n",
       "      <td></td>\n",
       "    </tr>\n",
       "    <tr>\n",
       "      <th>3</th>\n",
       "      <td>CCLW.executive.10532.6491</td>\n",
       "      <td>The Millennium Challenge Corporation Climate A...</td>\n",
       "      <td>Climate Action Plan Tina Neumann Chief Sustain...</td>\n",
       "    </tr>\n",
       "    <tr>\n",
       "      <th>4</th>\n",
       "      <td>CCLW.executive.4924.2051</td>\n",
       "      <td>This decree sets the methods for managing poll...</td>\n",
       "      <td>DECREE Nº01 -397/P-RM OF SEPT 06, 2001 SETTING...</td>\n",
       "    </tr>\n",
       "  </tbody>\n",
       "</table>\n",
       "</div>"
      ],
      "text/plain": [
       "                 document_id  \\\n",
       "0   CCLW.executive.1515.5045   \n",
       "1   CCLW.executive.1280.2594   \n",
       "2   CCLW.executive.1793.4130   \n",
       "3  CCLW.executive.10532.6491   \n",
       "4   CCLW.executive.4924.2051   \n",
       "\n",
       "                                         description  \\\n",
       "0  The National Policy on Climate Change is a str...   \n",
       "1  Grenada's National Energy Policy (GNEP) lays d...   \n",
       "2  This document was implemented through Decision...   \n",
       "3  The Millennium Challenge Corporation Climate A...   \n",
       "4  This decree sets the methods for managing poll...   \n",
       "\n",
       "                                          start_text  \n",
       "0  FEDERAL MINISTRY OF ENVIRONMENT DEPARTMENT OF ...  \n",
       "1  GRENADA THE NATIONAL ENERGY POLICY OF GRENADA ...  \n",
       "2                                                     \n",
       "3  Climate Action Plan Tina Neumann Chief Sustain...  \n",
       "4  DECREE Nº01 -397/P-RM OF SEPT 06, 2001 SETTING...  "
      ]
     },
     "execution_count": 34,
     "metadata": {},
     "output_type": "execute_result"
    }
   ],
   "source": [
    "document_text_data = [\n",
    "    {\n",
    "    \"document_id\": document_id,\n",
    "    \"description\": get_description(documents_by_id[document_id]),\n",
    "    \"start_text\": \" \".join(get_page_text(documents_by_id[document_id], [0, 1, 2])) \n",
    "    }\n",
    "    for document_id in documents_in_db\n",
    "]\n",
    "\n",
    "document_text_df = pd.DataFrame(document_text_data)\n",
    "\n",
    "document_text_df.head()"
   ]
  },
  {
   "cell_type": "code",
   "execution_count": 15,
   "metadata": {},
   "outputs": [
    {
     "name": "stdout",
     "output_type": "stream",
     "text": [
      "Number of documents with empty text: 119/649\n",
      "Keeping 530 nonempty documents.\n",
      "Number of documents with less than 100 words in the first few pages: 59\n",
      "Keeping 471 documents with 100 words in the first few pages.\n"
     ]
    }
   ],
   "source": [
    "empty_text = (document_text_df[\"start_text\"].apply(len) == 0).sum()\n",
    "print(f\"Number of documents with empty text: {empty_text}/{len(document_text_df)}\")\n",
    "\n",
    "document_text_df = document_text_df[document_text_df[\"start_text\"].apply(len) > 0]\n",
    "print(f\"Keeping {len(document_text_df)} nonempty documents.\")\n",
    "\n",
    "document_text_df[\"start_text_n_words\"] = document_text_df[\"start_text\"].apply(lambda x: len(x.split()))\n",
    "MIN_WORDS_IN_FIRST_PAGES = 100\n",
    "print(f\"Number of documents with less than {MIN_WORDS_IN_FIRST_PAGES} words in the first few pages: {(document_text_df['start_text_n_words'] < MIN_WORDS_IN_FIRST_PAGES).sum()}\")\n",
    "\n",
    "document_text_df = document_text_df[document_text_df[\"start_text_n_words\"] >= MIN_WORDS_IN_FIRST_PAGES]\n",
    "print(f\"Keeping {len(document_text_df)} documents with {MIN_WORDS_IN_FIRST_PAGES} words in the first few pages.\")"
   ]
  },
  {
   "cell_type": "markdown",
   "metadata": {},
   "source": [
    "## Come up with a method for generating topics from response text and try it in a template\n",
    "\n",
    "`climate_specific` below is the best template"
   ]
  },
  {
   "cell_type": "code",
   "execution_count": 35,
   "metadata": {},
   "outputs": [],
   "source": [
    "PROMPT_TEMPLATES = {\n",
    "    # \"simple\": Template(\"Provide two of the main topics in this text which are interesting to provoke further research. Each topic should be a maximum of $max_words words. Return the topics with a newline character between them. Return the topics only. TEXT: $text\"),\n",
    "    # \"climate_policy\": Template(\"Provide two of the main topics in this text related to climate policy. Each topic should be a maximum of $max_words words. Return the topics with a newline character between them. Return the topics only. TEXT: $text\"),\n",
    "    \"climate_specific\": Template(\"Provide two of the main topics in this text related to climate policy. The topics should be specific to the text, and more specific than general terms like 'climate policy'. Each topic should be a maximum of $max_words words. Return the topics with a newline character between them. Return the topics only. TEXT: $text\"),\n",
    "}"
   ]
  },
  {
   "cell_type": "code",
   "execution_count": 36,
   "metadata": {},
   "outputs": [
    {
     "name": "stderr",
     "output_type": "stream",
     "text": [
      "WARNING: All log messages before absl::InitializeLog() is called are written to STDERR\n",
      "I0000 00:00:1724772952.074019 102953146 check_gcp_environment_no_op.cc:29] ALTS: Platforms other than Linux and Windows are not supported\n",
      "I0000 00:00:1724772952.338828 102953146 check_gcp_environment_no_op.cc:29] ALTS: Platforms other than Linux and Windows are not supported\n",
      "/Users/kalyan/Library/Caches/pypoetry/virtualenvs/rag-labs-e1ZYywk6-py3.9/lib/python3.9/site-packages/langchain_core/_api/deprecation.py:141: LangChainDeprecationWarning: The method `BaseLLM.__call__` was deprecated in langchain-core 0.1.7 and will be removed in 1.0. Use invoke instead.\n",
      "  warn_deprecated(\n",
      "I0000 00:00:1724772952.604536 102953146 check_gcp_environment_no_op.cc:29] ALTS: Platforms other than Linux and Windows are not supported\n",
      "I0000 00:00:1724772952.605394 102953146 check_gcp_environment_no_op.cc:29] ALTS: Platforms other than Linux and Windows are not supported\n"
     ]
    },
    {
     "data": {
      "text/plain": [
       "' Paris'"
      ]
     },
     "execution_count": 36,
     "metadata": {},
     "output_type": "execute_result"
    }
   ],
   "source": [
    "nemo_model = get_llm(\n",
    "    type=\"vertexai\",\n",
    "    model=\"mistral-nemo\",\n",
    "    unfiltered=False,\n",
    ")\n",
    "\n",
    "nemo_model(\"What is the capital of France?\")"
   ]
  },
  {
   "cell_type": "code",
   "execution_count": 37,
   "metadata": {},
   "outputs": [
    {
     "data": {
      "text/html": [
       "<div>\n",
       "<style scoped>\n",
       "    .dataframe tbody tr th:only-of-type {\n",
       "        vertical-align: middle;\n",
       "    }\n",
       "\n",
       "    .dataframe tbody tr th {\n",
       "        vertical-align: top;\n",
       "    }\n",
       "\n",
       "    .dataframe thead th {\n",
       "        text-align: right;\n",
       "    }\n",
       "</style>\n",
       "<table border=\"1\" class=\"dataframe\">\n",
       "  <thead>\n",
       "    <tr style=\"text-align: right;\">\n",
       "      <th></th>\n",
       "      <th>document_id</th>\n",
       "      <th>description</th>\n",
       "      <th>start_text</th>\n",
       "    </tr>\n",
       "  </thead>\n",
       "  <tbody>\n",
       "    <tr>\n",
       "      <th>636</th>\n",
       "      <td>CCLW.executive.9540.rtl_169</td>\n",
       "      <td>These Regulations establish a regime for limit...</td>\n",
       "      <td>CANADA CONSOLIDATION Regulations Limiting Carb...</td>\n",
       "    </tr>\n",
       "    <tr>\n",
       "      <th>220</th>\n",
       "      <td>CCLW.executive.11100.6443</td>\n",
       "      <td>&lt;p&gt;This plan notably tackles the adverse impac...</td>\n",
       "      <td>Ministry of Environment, Energy and Climate Ch...</td>\n",
       "    </tr>\n",
       "  </tbody>\n",
       "</table>\n",
       "</div>"
      ],
      "text/plain": [
       "                     document_id  \\\n",
       "636  CCLW.executive.9540.rtl_169   \n",
       "220    CCLW.executive.11100.6443   \n",
       "\n",
       "                                           description  \\\n",
       "636  These Regulations establish a regime for limit...   \n",
       "220  <p>This plan notably tackles the adverse impac...   \n",
       "\n",
       "                                            start_text  \n",
       "636  CANADA CONSOLIDATION Regulations Limiting Carb...  \n",
       "220  Ministry of Environment, Energy and Climate Ch...  "
      ]
     },
     "execution_count": 37,
     "metadata": {},
     "output_type": "execute_result"
    }
   ],
   "source": [
    "SAMPLE_SIZE = 50\n",
    "test_sample = document_text_df.sample(SAMPLE_SIZE, random_state=42)\n",
    "\n",
    "test_sample.head(2)"
   ]
  },
  {
   "cell_type": "code",
   "execution_count": 38,
   "metadata": {},
   "outputs": [
    {
     "name": "stdout",
     "output_type": "stream",
     "text": [
      "Processing start_text...\n"
     ]
    },
    {
     "data": {
      "application/vnd.jupyter.widget-view+json": {
       "model_id": "9d5eb92f5c6641d4af1c77bfadb5ec03",
       "version_major": 2,
       "version_minor": 0
      },
      "text/plain": [
       "  0%|          | 0/50 [00:00<?, ?it/s]"
      ]
     },
     "metadata": {},
     "output_type": "display_data"
    },
    {
     "name": "stdout",
     "output_type": "stream",
     "text": [
      "Processing description...\n"
     ]
    },
    {
     "data": {
      "application/vnd.jupyter.widget-view+json": {
       "model_id": "4947f0952b434a5d825cece04249f654",
       "version_major": 2,
       "version_minor": 0
      },
      "text/plain": [
       "  0%|          | 0/50 [00:00<?, ?it/s]"
      ]
     },
     "metadata": {},
     "output_type": "display_data"
    }
   ],
   "source": [
    "MAX_WORDS = 4\n",
    "\n",
    "def get_nemo_response(text: str, template: Template, max_words: int = 4) -> str:\n",
    "    max_words_in_text = 2000\n",
    "    if len(text) > max_words_in_text:\n",
    "        text = \" \".join(text.split()[:max_words_in_text])\n",
    "    \n",
    "    try:\n",
    "        return nemo_model(template.substitute(text=text, max_words=max_words))\n",
    "    except:\n",
    "        return \"\"\n",
    "\n",
    "for column_name in {\"description\", \"start_text\"}:\n",
    "    print(f\"Processing {column_name}...\")\n",
    "    for template_name, template in PROMPT_TEMPLATES.items():\n",
    "        test_sample[f\"nemo_response_{column_name}_{template_name}\"] = test_sample[column_name].progress_apply(\n",
    "            lambda x: get_nemo_response(x, template, MAX_WORDS)\n",
    "        )"
   ]
  },
  {
   "cell_type": "code",
   "execution_count": 39,
   "metadata": {},
   "outputs": [
    {
     "ename": "KeyError",
     "evalue": "'start_text_n_words'",
     "output_type": "error",
     "traceback": [
      "\u001b[0;31m---------------------------------------------------------------------------\u001b[0m",
      "\u001b[0;31mKeyError\u001b[0m                                  Traceback (most recent call last)",
      "\u001b[0;32m/var/folders/nt/2c78pgv94312v7_mmz24h6kc0000gn/T/ipykernel_73829/3402202186.py\u001b[0m in \u001b[0;36m?\u001b[0;34m()\u001b[0m\n\u001b[1;32m      1\u001b[0m \u001b[0;32mwith\u001b[0m \u001b[0mpd\u001b[0m\u001b[0;34m.\u001b[0m\u001b[0moption_context\u001b[0m\u001b[0;34m(\u001b[0m\u001b[0;34m\"display.max_colwidth\"\u001b[0m\u001b[0;34m,\u001b[0m \u001b[0;36m100\u001b[0m\u001b[0;34m)\u001b[0m\u001b[0;34m:\u001b[0m\u001b[0;34m\u001b[0m\u001b[0;34m\u001b[0m\u001b[0m\n\u001b[0;32m----> 2\u001b[0;31m     \u001b[0mdisplay\u001b[0m\u001b[0;34m(\u001b[0m\u001b[0mtest_sample\u001b[0m\u001b[0;34m.\u001b[0m\u001b[0msort_values\u001b[0m\u001b[0;34m(\u001b[0m\u001b[0;34m\"start_text_n_words\"\u001b[0m\u001b[0;34m)\u001b[0m\u001b[0;34m)\u001b[0m\u001b[0;34m\u001b[0m\u001b[0;34m\u001b[0m\u001b[0m\n\u001b[0m",
      "\u001b[0;32m~/Library/Caches/pypoetry/virtualenvs/rag-labs-e1ZYywk6-py3.9/lib/python3.9/site-packages/pandas/util/_decorators.py\u001b[0m in \u001b[0;36m?\u001b[0;34m(*args, **kwargs)\u001b[0m\n\u001b[1;32m    327\u001b[0m                     \u001b[0mmsg\u001b[0m\u001b[0;34m.\u001b[0m\u001b[0mformat\u001b[0m\u001b[0;34m(\u001b[0m\u001b[0marguments\u001b[0m\u001b[0;34m=\u001b[0m\u001b[0m_format_argument_list\u001b[0m\u001b[0;34m(\u001b[0m\u001b[0mallow_args\u001b[0m\u001b[0;34m)\u001b[0m\u001b[0;34m)\u001b[0m\u001b[0;34m,\u001b[0m\u001b[0;34m\u001b[0m\u001b[0;34m\u001b[0m\u001b[0m\n\u001b[1;32m    328\u001b[0m                     \u001b[0mFutureWarning\u001b[0m\u001b[0;34m,\u001b[0m\u001b[0;34m\u001b[0m\u001b[0;34m\u001b[0m\u001b[0m\n\u001b[1;32m    329\u001b[0m                     \u001b[0mstacklevel\u001b[0m\u001b[0;34m=\u001b[0m\u001b[0mfind_stack_level\u001b[0m\u001b[0;34m(\u001b[0m\u001b[0;34m)\u001b[0m\u001b[0;34m,\u001b[0m\u001b[0;34m\u001b[0m\u001b[0;34m\u001b[0m\u001b[0m\n\u001b[1;32m    330\u001b[0m                 )\n\u001b[0;32m--> 331\u001b[0;31m             \u001b[0;32mreturn\u001b[0m \u001b[0mfunc\u001b[0m\u001b[0;34m(\u001b[0m\u001b[0;34m*\u001b[0m\u001b[0margs\u001b[0m\u001b[0;34m,\u001b[0m \u001b[0;34m**\u001b[0m\u001b[0mkwargs\u001b[0m\u001b[0;34m)\u001b[0m\u001b[0;34m\u001b[0m\u001b[0;34m\u001b[0m\u001b[0m\n\u001b[0m",
      "\u001b[0;32m~/Library/Caches/pypoetry/virtualenvs/rag-labs-e1ZYywk6-py3.9/lib/python3.9/site-packages/pandas/core/frame.py\u001b[0m in \u001b[0;36m?\u001b[0;34m(self, by, axis, ascending, inplace, kind, na_position, ignore_index, key)\u001b[0m\n\u001b[1;32m   6908\u001b[0m         \u001b[0;32melif\u001b[0m \u001b[0mlen\u001b[0m\u001b[0;34m(\u001b[0m\u001b[0mby\u001b[0m\u001b[0;34m)\u001b[0m\u001b[0;34m:\u001b[0m\u001b[0;34m\u001b[0m\u001b[0;34m\u001b[0m\u001b[0m\n\u001b[1;32m   6909\u001b[0m             \u001b[0;31m# len(by) == 1\u001b[0m\u001b[0;34m\u001b[0m\u001b[0;34m\u001b[0m\u001b[0m\n\u001b[1;32m   6910\u001b[0m \u001b[0;34m\u001b[0m\u001b[0m\n\u001b[1;32m   6911\u001b[0m             \u001b[0mby\u001b[0m \u001b[0;34m=\u001b[0m \u001b[0mby\u001b[0m\u001b[0;34m[\u001b[0m\u001b[0;36m0\u001b[0m\u001b[0;34m]\u001b[0m\u001b[0;34m\u001b[0m\u001b[0;34m\u001b[0m\u001b[0m\n\u001b[0;32m-> 6912\u001b[0;31m             \u001b[0mk\u001b[0m \u001b[0;34m=\u001b[0m \u001b[0mself\u001b[0m\u001b[0;34m.\u001b[0m\u001b[0m_get_label_or_level_values\u001b[0m\u001b[0;34m(\u001b[0m\u001b[0mby\u001b[0m\u001b[0;34m,\u001b[0m \u001b[0maxis\u001b[0m\u001b[0;34m=\u001b[0m\u001b[0maxis\u001b[0m\u001b[0;34m)\u001b[0m\u001b[0;34m\u001b[0m\u001b[0;34m\u001b[0m\u001b[0m\n\u001b[0m\u001b[1;32m   6913\u001b[0m \u001b[0;34m\u001b[0m\u001b[0m\n\u001b[1;32m   6914\u001b[0m             \u001b[0;31m# need to rewrap column in Series to apply key function\u001b[0m\u001b[0;34m\u001b[0m\u001b[0;34m\u001b[0m\u001b[0m\n\u001b[1;32m   6915\u001b[0m             \u001b[0;32mif\u001b[0m \u001b[0mkey\u001b[0m \u001b[0;32mis\u001b[0m \u001b[0;32mnot\u001b[0m \u001b[0;32mNone\u001b[0m\u001b[0;34m:\u001b[0m\u001b[0;34m\u001b[0m\u001b[0;34m\u001b[0m\u001b[0m\n",
      "\u001b[0;32m~/Library/Caches/pypoetry/virtualenvs/rag-labs-e1ZYywk6-py3.9/lib/python3.9/site-packages/pandas/core/generic.py\u001b[0m in \u001b[0;36m?\u001b[0;34m(self, key, axis)\u001b[0m\n\u001b[1;32m   1846\u001b[0m                 \u001b[0;34m.\u001b[0m\u001b[0mget_level_values\u001b[0m\u001b[0;34m(\u001b[0m\u001b[0mkey\u001b[0m\u001b[0;34m)\u001b[0m  \u001b[0;31m# type: ignore[assignment]\u001b[0m\u001b[0;34m\u001b[0m\u001b[0;34m\u001b[0m\u001b[0m\n\u001b[1;32m   1847\u001b[0m                 \u001b[0;34m.\u001b[0m\u001b[0m_values\u001b[0m\u001b[0;34m\u001b[0m\u001b[0;34m\u001b[0m\u001b[0m\n\u001b[1;32m   1848\u001b[0m             )\n\u001b[1;32m   1849\u001b[0m         \u001b[0;32melse\u001b[0m\u001b[0;34m:\u001b[0m\u001b[0;34m\u001b[0m\u001b[0;34m\u001b[0m\u001b[0m\n\u001b[0;32m-> 1850\u001b[0;31m             \u001b[0;32mraise\u001b[0m \u001b[0mKeyError\u001b[0m\u001b[0;34m(\u001b[0m\u001b[0mkey\u001b[0m\u001b[0;34m)\u001b[0m\u001b[0;34m\u001b[0m\u001b[0;34m\u001b[0m\u001b[0m\n\u001b[0m\u001b[1;32m   1851\u001b[0m \u001b[0;34m\u001b[0m\u001b[0m\n\u001b[1;32m   1852\u001b[0m         \u001b[0;31m# Check for duplicates\u001b[0m\u001b[0;34m\u001b[0m\u001b[0;34m\u001b[0m\u001b[0m\n\u001b[1;32m   1853\u001b[0m         \u001b[0;32mif\u001b[0m \u001b[0mvalues\u001b[0m\u001b[0;34m.\u001b[0m\u001b[0mndim\u001b[0m \u001b[0;34m>\u001b[0m \u001b[0;36m1\u001b[0m\u001b[0;34m:\u001b[0m\u001b[0;34m\u001b[0m\u001b[0;34m\u001b[0m\u001b[0m\n",
      "\u001b[0;31mKeyError\u001b[0m: 'start_text_n_words'"
     ]
    }
   ],
   "source": [
    "with pd.option_context(\"display.max_colwidth\", 100):\n",
    "    display(test_sample.sort_values(\"start_text_n_words\"))"
   ]
  },
  {
   "cell_type": "markdown",
   "metadata": {},
   "source": [
    "### See what proportion of samples returned a valid response"
   ]
  },
  {
   "cell_type": "code",
   "execution_count": null,
   "metadata": {},
   "outputs": [
    {
     "name": "stdout",
     "output_type": "stream",
     "text": [
      "nemo_response_start_text_climate_specific_valid\n",
      "True     49\n",
      "False     1\n",
      "Name: nemo_response_start_text_climate_specific_valid, dtype: int64\n",
      "nemo_response_description_climate_specific_valid\n",
      "True    50\n",
      "Name: nemo_response_description_climate_specific_valid, dtype: int64\n"
     ]
    }
   ],
   "source": [
    "nemo_response_cols = [col for col in test_sample.columns if \"nemo_response\" in col]\n",
    "\n",
    "def response_is_valid(response: str) -> bool:\n",
    "    return len(response.strip().split(\"\\n\")) == 2\n",
    "\n",
    "for col in nemo_response_cols:\n",
    "    test_sample[f\"{col}_valid\"] = test_sample[col].apply(lambda x: response_is_valid(x))\n",
    "\n",
    "valid_cols = [col for col in test_sample.columns if \"_valid\" in col]\n",
    "for col in valid_cols:\n",
    "    print(col)\n",
    "    print(test_sample[col].value_counts())"
   ]
  },
  {
   "cell_type": "code",
   "execution_count": null,
   "metadata": {},
   "outputs": [
    {
     "data": {
      "text/html": [
       "<div>\n",
       "<style scoped>\n",
       "    .dataframe tbody tr th:only-of-type {\n",
       "        vertical-align: middle;\n",
       "    }\n",
       "\n",
       "    .dataframe tbody tr th {\n",
       "        vertical-align: top;\n",
       "    }\n",
       "\n",
       "    .dataframe thead th {\n",
       "        text-align: right;\n",
       "    }\n",
       "</style>\n",
       "<table border=\"1\" class=\"dataframe\">\n",
       "  <thead>\n",
       "    <tr style=\"text-align: right;\">\n",
       "      <th></th>\n",
       "      <th>document_id</th>\n",
       "      <th>description</th>\n",
       "      <th>start_text</th>\n",
       "      <th>start_text_n_words</th>\n",
       "      <th>nemo_response_start_text_climate_specific</th>\n",
       "      <th>nemo_response_description_climate_specific</th>\n",
       "      <th>nemo_response_start_text_climate_specific_valid</th>\n",
       "      <th>nemo_response_description_climate_specific_valid</th>\n",
       "    </tr>\n",
       "  </thead>\n",
       "  <tbody>\n",
       "    <tr>\n",
       "      <th>239</th>\n",
       "      <td>CCLW.executive.10393.5088</td>\n",
       "      <td>This plan defines the government's plan for th...</td>\n",
       "      <td>å›½åŠ¡é™¢åŠžå…¬åŽ…å…³äºŽå °å &amp;#39;è¦ ç´ å¸‚åœº...</td>\n",
       "      <td>1587</td>\n",
       "      <td></td>\n",
       "      <td>Carbon pricing\\nGreen accounting</td>\n",
       "      <td>False</td>\n",
       "      <td>True</td>\n",
       "    </tr>\n",
       "  </tbody>\n",
       "</table>\n",
       "</div>"
      ],
      "text/plain": [
       "                   document_id  \\\n",
       "239  CCLW.executive.10393.5088   \n",
       "\n",
       "                                           description  \\\n",
       "239  This plan defines the government's plan for th...   \n",
       "\n",
       "                                            start_text  start_text_n_words  \\\n",
       "239  å›½åŠ¡é™¢åŠžå…¬åŽ…å…³äºŽå °å &#39;è¦ ç´ å¸‚åœº...                1587   \n",
       "\n",
       "    nemo_response_start_text_climate_specific  \\\n",
       "239                                             \n",
       "\n",
       "    nemo_response_description_climate_specific  \\\n",
       "239           Carbon pricing\\nGreen accounting   \n",
       "\n",
       "     nemo_response_start_text_climate_specific_valid  \\\n",
       "239                                            False   \n",
       "\n",
       "     nemo_response_description_climate_specific_valid  \n",
       "239                                              True  "
      ]
     },
     "execution_count": 18,
     "metadata": {},
     "output_type": "execute_result"
    }
   ],
   "source": [
    "test_sample[test_sample[\"nemo_response_start_text_climate_specific_valid\"] == False]"
   ]
  },
  {
   "cell_type": "code",
   "execution_count": 40,
   "metadata": {},
   "outputs": [
    {
     "data": {
      "text/plain": [
       "[('Carbon pricing', 15),\n",
       " ('Climate finance', 9),\n",
       " ('Renewable energy', 5),\n",
       " ('Energy efficiency', 4),\n",
       " ('Climate change', 4),\n",
       " ('Disaster risk reduction', 2),\n",
       " ('Carbon dioxide emissions', 1),\n",
       " ('Natural gas-fired generation', 1),\n",
       " ('Coastal management', 1),\n",
       " ('Disaster resilience', 1)]"
      ]
     },
     "execution_count": 40,
     "metadata": {},
     "output_type": "execute_result"
    }
   ],
   "source": [
    "all_suggestions = test_sample[\"nemo_response_start_text_climate_specific\"].apply(lambda t: t.strip().split(\"\\n\")).tolist()\n",
    "\n",
    "all_suggestions = [item for sublist in all_suggestions for item in sublist]\n",
    "\n",
    "Counter(all_suggestions).most_common(10)"
   ]
  },
  {
   "cell_type": "code",
   "execution_count": null,
   "metadata": {},
   "outputs": [],
   "source": []
  }
 ],
 "metadata": {
  "kernelspec": {
   "display_name": ".venv",
   "language": "python",
   "name": "python3"
  },
  "language_info": {
   "codemirror_mode": {
    "name": "ipython",
    "version": 3
   },
   "file_extension": ".py",
   "mimetype": "text/x-python",
   "name": "python",
   "nbconvert_exporter": "python",
   "pygments_lexer": "ipython3",
   "version": "3.9.10"
  }
 },
 "nbformat": 4,
 "nbformat_minor": 2
}
