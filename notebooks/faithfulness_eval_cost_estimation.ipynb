{
 "cells": [
  {
   "cell_type": "markdown",
   "metadata": {},
   "source": [
    "## Cost estimation\n",
    "\n",
    "We want an estimate for how much the faithfulness experiment might cost if we're running it with OpenAI.\n",
    "Using the current pricing, calculating the token count of the examples in the dataset and setting an upper bound on the output tokens we gain an estimate for running this experiment with the different OAI models, yielding the below:\n",
    "<br><br>\n",
    "|model                   | price    |\n",
    "|:-----------------------|:---------|\n",
    "| chatgpt-4o-latest      | $166.48  |\n",
    "| gpt-4-turbo            | $335.74  |\n",
    "| gpt-4-turbo-2024-04-09 | $335.74  |\n",
    "| gpt-4                  | $1005.84 |\n",
    "| gpt-4-32k              | $2011.69 |"
   ]
  },
  {
   "cell_type": "code",
   "execution_count": 79,
   "metadata": {},
   "outputs": [],
   "source": [
    "import psycopg2\n",
    "import boto3\n",
    "import json\n",
    "import pandas as pd\n",
    "import tiktoken\n",
    "import sys\n",
    "import jinja2\n",
    "import matplotlib.pyplot as plt\n",
    "\n",
    "from tqdm import tqdm\n",
    "from pathlib import Path\n",
    "\n",
    "sys.path.append(Path(\".\").absolute().parent.as_posix())"
   ]
  },
  {
   "cell_type": "code",
   "execution_count": 2,
   "metadata": {},
   "outputs": [
    {
     "data": {
      "text/plain": [
       "True"
      ]
     },
     "execution_count": 2,
     "metadata": {},
     "output_type": "execute_result"
    }
   ],
   "source": [
    "load_dotenv(find_dotenv())"
   ]
  },
  {
   "cell_type": "code",
   "execution_count": 3,
   "metadata": {},
   "outputs": [],
   "source": [
    "session = boto3.Session()\n",
    "ssm = session.client('ssm')\n",
    "response = ssm.get_parameter(Name=\"/RAG/LABS_RDS_DB_CREDS\", WithDecryption=True)\n",
    "secret = response['Parameter']['Value']"
   ]
  },
  {
   "cell_type": "code",
   "execution_count": 4,
   "metadata": {},
   "outputs": [],
   "source": [
    "conn = psycopg2.connect(**json.loads(secret))"
   ]
  },
  {
   "cell_type": "code",
   "execution_count": 5,
   "metadata": {},
   "outputs": [
    {
     "data": {
      "text/plain": [
       "15403"
      ]
     },
     "execution_count": 5,
     "metadata": {},
     "output_type": "execute_result"
    }
   ],
   "source": [
    "cur = conn.cursor()\n",
    "\n",
    "cur.execute(\"\"\"\n",
    "    SELECT DISTINCT * \n",
    "    FROM qapair \n",
    "    WHERE pipeline_id = 'g_eval_comparison_experiment_2';\n",
    "\"\"\")\n",
    "\n",
    "rows = cur.fetchall()\n",
    "\n",
    "len(rows)"
   ]
  },
  {
   "cell_type": "code",
   "execution_count": 6,
   "metadata": {},
   "outputs": [],
   "source": [
    "df = pd.DataFrame(rows, columns=[desc[0] for desc in cur.description])"
   ]
  },
  {
   "cell_type": "markdown",
   "metadata": {},
   "source": [
    "### Pricing data:\n",
    "\n",
    " |Model |Input |Output |\n",
    " |---|---|---|\n",
    " chatgpt-4o-latest |$5.00 / 1M tokens |$15.00 / 1M tokens |\n",
    " gpt-4-turbo |$10.00 / 1M tokens |$30.00 / 1M tokens |\n",
    " gpt-4-turbo-2024-04-09 |$10.00 / 1M tokens |$30.00 / 1M tokens |\n",
    " gpt-4 |$30.00 / 1M tokens |$60.00 / 1M tokens |\n",
    " gpt-4-32k |$60.00 / 1M tokens |$120.00 / 1M tokens\n",
    "\n",
    " Source: https://openai.com/api/pricing/\n",
    "\n",
    " All we need to do now is estimate the number of tokens this task is going to take on input & output.<br><br>\n",
    "\n",
    " Base assumptions:\n",
    " - output tokens are counted as 3 per eval (this is an upper bound accounting for malformatted cases)\n",
    " - the token count of the input is `prompt + quesition + answer`\n",
    " - the prompt used for g-eval: `g_eval_faithfulness.txt`"
   ]
  },
  {
   "cell_type": "code",
   "execution_count": 84,
   "metadata": {},
   "outputs": [],
   "source": [
    "input_cost = {\n",
    "     \"chatgpt-4o-latest\": 5.00,\n",
    "     \"gpt-4-turbo\": 10.00,\n",
    "     \"gpt-4-turbo-2024-04-09\": 10.00,\n",
    "     \"gpt-4\": 30.00,\n",
    "     \"gpt-4-32k\": 60.00,\n",
    "}\n",
    "\n",
    "output_cost = {\n",
    "    \"chatgpt-4o-latest\": 15.00,\n",
    "    \"gpt-4-turbo\": 30.00,\n",
    "    \"gpt-4-turbo-2024-04-09\": 30.00,\n",
    "    \"gpt-4\": 60.00,\n",
    "    \"gpt-4-32k\": 120.00,\n",
    "}"
   ]
  },
  {
   "cell_type": "code",
   "execution_count": 20,
   "metadata": {},
   "outputs": [],
   "source": [
    "_template = jinja2.Template(Path(\"../src/prompts/prompt_templates/evaluation/g_eval_faithfulness.txt\").open().read())"
   ]
  },
  {
   "cell_type": "code",
   "execution_count": 31,
   "metadata": {},
   "outputs": [],
   "source": [
    "enc = tiktoken.encoding_for_model(\"gpt-4o\")"
   ]
  },
  {
   "cell_type": "code",
   "execution_count": 76,
   "metadata": {},
   "outputs": [],
   "source": [
    "def get_token_count(encoder: tiktoken.Encoding, text: str) -> int:\n",
    "    \"\"\"Gets the count of tokens with the given encoder.\"\"\"\n",
    "    return len(encoder.encode(text))\n",
    "\n",
    "def get_encoder(model: str) -> tiktoken.Encoding:\n",
    "    \"\"\"Gets the encoder for the given model.\"\"\"\n",
    "    return tiktoken.encoding_for_model(model)\n",
    "\n",
    "def _get_retrieved_docs_from_row(row: pd.Series) -> list:\n",
    "    \"\"\"Gets the retrieved documents from the row.\"\"\"\n",
    "    return \"\\n\".join([i[\"page_content\"] for i in json.loads(row[\"generation\"])[\"rag_response\"][\"retrieved_documents\"]])\n",
    "\n",
    "def render_row(template: jinja2.Template, row: pd.Series) -> str:\n",
    "    \"\"\"Renders a row of the dataframe into a string.\"\"\"\n",
    "    return template.render(\n",
    "        sources=_get_retrieved_docs_from_row(row),\n",
    "        question=row[\"question\"],\n",
    "        answer=row[\"answer\"],\n",
    "    )\n",
    "\n",
    "def get_total_input_token_count_for_df(df: pd.DataFrame, template: jinja2.Template, encoder: tiktoken.Encoding) -> pd.Series:\n",
    "    \"\"\"Gets the total token count for the input of the dataframe.\"\"\"\n",
    "    _counts = df.apply(\n",
    "        lambda x: get_token_count(\n",
    "            encoder,\n",
    "            render_row(template, x)\n",
    "        )\n",
    "        , axis=1\n",
    "    )\n",
    "    return _counts"
   ]
  },
  {
   "cell_type": "code",
   "execution_count": 77,
   "metadata": {},
   "outputs": [
    {
     "data": {
      "image/png": "[encoded data removed]",
      "text/plain": [
       "<Figure size 640x480 with 1 Axes>"
      ]
     },
     "metadata": {},
     "output_type": "display_data"
    }
   ],
   "source": [
    "get_total_input_token_count_for_df(df, _template, enc).hist(grid=False)\n",
    "\n",
    "plt.title(\"Token Count Distribution for Evaluation Data\")\n",
    "plt.show()"
   ]
  },
  {
   "cell_type": "markdown",
   "metadata": {},
   "source": [
    "What I wanted to check above is that we're not overestimating due to truncation, but since all of the models' context should be 8192, we're on the safe side using these counts."
   ]
  },
  {
   "cell_type": "code",
   "execution_count": 86,
   "metadata": {},
   "outputs": [
    {
     "name": "stderr",
     "output_type": "stream",
     "text": [
      "  0%|          | 0/5 [00:00<?, ?it/s]"
     ]
    },
    {
     "name": "stdout",
     "output_type": "stream",
     "text": [
      "Falling back to gpt-4o tokenizer for chatgpt-4o-latest\n"
     ]
    },
    {
     "name": "stderr",
     "output_type": "stream",
     "text": [
      "100%|██████████| 5/5 [01:29<00:00, 17.83s/it]\n"
     ]
    }
   ],
   "source": [
    "total_cost = {}\n",
    "\n",
    "for model, ic in tqdm(input_cost.items()):\n",
    "    try:\n",
    "        _enc = get_encoder(model)\n",
    "    except KeyError:\n",
    "        print(f\"Falling back to gpt-4o tokenizer for {model}\")\n",
    "        _enc = get_encoder(\"gpt-4o\")\n",
    "    counts = get_total_input_token_count_for_df(df, _template, _enc)\n",
    "    total_cost[model] = counts.sum() * ic / 1e6 + counts.count() * 3 * output_cost[model] / 1e6  # number of tokens * cost per 1M token / 1M + number of outputs * cost per 1M output token * 3 / 1M\n",
    "\n"
   ]
  },
  {
   "cell_type": "code",
   "execution_count": 90,
   "metadata": {},
   "outputs": [
    {
     "name": "stdout",
     "output_type": "stream",
     "text": [
      "Total cost for the faithfulness evaluation\n"
     ]
    },
    {
     "data": {
      "text/plain": [
       "chatgpt-4o-latest          $166.48\n",
       "gpt-4-turbo                $335.74\n",
       "gpt-4-turbo-2024-04-09     $335.74\n",
       "gpt-4                     $1005.84\n",
       "gpt-4-32k                 $2011.69\n",
       "dtype: object"
      ]
     },
     "execution_count": 90,
     "metadata": {},
     "output_type": "execute_result"
    }
   ],
   "source": [
    "print(\"Total cost for the faithfulness evaluation\")\n",
    "pd.Series(total_cost).apply(lambda x: f\"${x:.2f}\")"
   ]
  }
 ],
 "metadata": {
  "kernelspec": {
   "display_name": ".venv",
   "language": "python",
   "name": "python3"
  },
  "language_info": {
   "codemirror_mode": {
    "name": "ipython",
    "version": 3
   },
   "file_extension": ".py",
   "mimetype": "text/x-python",
   "name": "python",
   "nbconvert_exporter": "python",
   "pygments_lexer": "ipython3",
   "version": "3.11.4"
  }
 },
 "nbformat": 4,
 "nbformat_minor": 2
}
