{
 "cells": [
  {
   "cell_type": "markdown",
   "metadata": {},
   "source": [
    "# Different rank profiles on Vespa\n",
    "\n",
    "This notebook provides examples for single-document passage retrieval for bm25, dense, hybrid-dense and hybrid-sparse retrieval in Vespa. It'll eventually be integrated directly into RAG, but this will also be useful as a playground for debugging.\n",
    "\n",
    "Note the following environment variables are needed to run this `VESPA_URL`, `VESPA_CERT_LOCATION`, `VESPA_KEY_LOCATION`."
   ]
  },
  {
   "cell_type": "code",
   "execution_count": 76,
   "metadata": {},
   "outputs": [
    {
     "data": {
      "text/plain": [
       "True"
      ]
     },
     "execution_count": 76,
     "metadata": {},
     "output_type": "execute_result"
    }
   ],
   "source": [
    "import os\n",
    "\n",
    "from vespa.application import Vespa\n",
    "from vespa.io import VespaQueryResponse\n",
    "from vespa.exceptions import VespaError\n",
    "from sentence_transformers import SentenceTransformer\n",
    "from tqdm.auto import tqdm\n",
    "\n",
    "from dotenv import load_dotenv, find_dotenv\n",
    "\n",
    "load_dotenv(find_dotenv(), override=True)"
   ]
  },
  {
   "cell_type": "code",
   "execution_count": 7,
   "metadata": {},
   "outputs": [
    {
     "name": "stdout",
     "output_type": "stream",
     "text": [
      "Using mTLS (key,cert) Authentication against endpoint https://a6a329f3.acc2de3b.z.vespa-app.cloud/ApplicationStatus\n"
     ]
    },
    {
     "data": {
      "text/plain": [
       "<Response [200]>"
      ]
     },
     "execution_count": 7,
     "metadata": {},
     "output_type": "execute_result"
    }
   ],
   "source": [
    "app = Vespa(\n",
    "    url=os.environ[\"VESPA_URL\"],\n",
    "    cert=os.environ[\"VESPA_CERT_LOCATION\"],\n",
    "    key=os.environ[\"VESPA_KEY_LOCATION\"],\n",
    ")\n",
    "\n",
    "app.get_application_status()"
   ]
  },
  {
   "cell_type": "markdown",
   "metadata": {},
   "source": [
    "## hybrid request"
   ]
  },
  {
   "cell_type": "code",
   "execution_count": 92,
   "metadata": {},
   "outputs": [
    {
     "name": "stderr",
     "output_type": "stream",
     "text": [
      "/Users/kalyan/Library/Caches/pypoetry/virtualenvs/rag-labs-4_BbfzMU-py3.9/lib/python3.9/site-packages/huggingface_hub/file_download.py:1132: FutureWarning: `resume_download` is deprecated and will be removed in version 1.0.0. Downloads always resume when possible. If you want to force a new download, use `force_download=True`.\n",
      "  warnings.warn(\n",
      "You try to use a model that was created with version 3.0.0.dev0, however, your version is 2.7.0. This might cause unexpected behavior or errors. In that case, try to update to the latest version.\n",
      "\n",
      "\n",
      "\n"
     ]
    }
   ],
   "source": [
    "models = dict()\n",
    "\n",
    "models[\"bge_small\"] = SentenceTransformer(\"BAAI/bge-small-en-v1.5\")\n",
    "models[\"bge_base\"] = SentenceTransformer(\"BAAI/bge-base-en-v1.5\")\n",
    "models[\"distilbert_dot_v5\"] = SentenceTransformer(\"sentence-transformers/msmarco-distilbert-dot-v5\")\n",
    "models[\"distilbert_base_tas_b\"] = SentenceTransformer(\"sentence-transformers/msmarco-distilbert-base-tas-b\")"
   ]
  },
  {
   "cell_type": "code",
   "execution_count": 1,
   "metadata": {},
   "outputs": [
    {
     "ename": "NameError",
     "evalue": "name 'models' is not defined",
     "output_type": "error",
     "traceback": [
      "\u001b[0;31m---------------------------------------------------------------------------\u001b[0m",
      "\u001b[0;31mNameError\u001b[0m                                 Traceback (most recent call last)",
      "Cell \u001b[0;32mIn[1], line 1\u001b[0m\n\u001b[0;32m----> 1\u001b[0m rank_profiles \u001b[38;5;241m=\u001b[39m [\u001b[38;5;124mf\u001b[39m\u001b[38;5;124m\"\u001b[39m\u001b[38;5;124mdense_\u001b[39m\u001b[38;5;132;01m{\u001b[39;00mmodel_name\u001b[38;5;132;01m}\u001b[39;00m\u001b[38;5;124m\"\u001b[39m \u001b[38;5;28;01mfor\u001b[39;00m model_name \u001b[38;5;129;01min\u001b[39;00m \u001b[43mmodels\u001b[49m\u001b[38;5;241m.\u001b[39mkeys()] \u001b[38;5;241m+\u001b[39m [\u001b[38;5;124mf\u001b[39m\u001b[38;5;124m\"\u001b[39m\u001b[38;5;124mhybrid_\u001b[39m\u001b[38;5;132;01m{\u001b[39;00mmodel_name\u001b[38;5;132;01m}\u001b[39;00m\u001b[38;5;124m\"\u001b[39m \u001b[38;5;28;01mfor\u001b[39;00m model_name \u001b[38;5;129;01min\u001b[39;00m models\u001b[38;5;241m.\u001b[39mkeys()] \u001b[38;5;241m+\u001b[39m [\u001b[38;5;124m\"\u001b[39m\u001b[38;5;124mbm25\u001b[39m\u001b[38;5;124m\"\u001b[39m, \u001b[38;5;124m\"\u001b[39m\u001b[38;5;124msplade\u001b[39m\u001b[38;5;124m\"\u001b[39m]\n\u001b[1;32m      3\u001b[0m \u001b[38;5;28;01mdef\u001b[39;00m \u001b[38;5;21mmake_request\u001b[39m(\n\u001b[1;32m      4\u001b[0m     query: \u001b[38;5;28mstr\u001b[39m, \n\u001b[1;32m      5\u001b[0m     document_id: \u001b[38;5;28mstr\u001b[39m,\n\u001b[0;32m   (...)\u001b[0m\n\u001b[1;32m      8\u001b[0m     hybrid_bm25_weight: \u001b[38;5;28mfloat\u001b[39m \u001b[38;5;241m=\u001b[39m \u001b[38;5;241m1\u001b[39m,\n\u001b[1;32m      9\u001b[0m ) \u001b[38;5;241m-\u001b[39m\u001b[38;5;241m>\u001b[39m \u001b[38;5;28mdict\u001b[39m:\n\u001b[1;32m     11\u001b[0m     \u001b[38;5;28;01mif\u001b[39;00m rank_profile \u001b[38;5;129;01mnot\u001b[39;00m \u001b[38;5;129;01min\u001b[39;00m rank_profiles:\n",
      "\u001b[0;31mNameError\u001b[0m: name 'models' is not defined"
     ]
    }
   ],
   "source": [
    "\n",
    "rank_profiles = [f\"dense_{model_name}\" for model_name in models.keys()] + [f\"hybrid_{model_name}\" for model_name in models.keys()] + [\"bm25\", \"splade\"]\n",
    "\n",
    "def make_request(\n",
    "    query: str, \n",
    "    document_id: str,\n",
    "    hits: int = 20, \n",
    "    rank_profile: str = \"hybrid_bge_small\",\n",
    "    hybrid_bm25_weight: float = 1,\n",
    ") -> dict:\n",
    "    \n",
    "    if rank_profile not in rank_profiles:\n",
    "        raise ValueError(f\"Invalid rank_profile. Must be one of {rank_profiles}\")\n",
    "    \n",
    "    if rank_profile not in {\"splade\", \"bm25\"}:\n",
    "        model_name = \"_\".join(rank_profile.split(\"_\")[1:])\n",
    "        embedding_model = models[model_name]\n",
    "        query_embedding = embedding_model.encode(query, convert_to_numpy=True, show_progress_bar=False).tolist()\n",
    "        query_body = {\n",
    "            \"input.query(query_embedding)\": query_embedding,\n",
    "        }\n",
    "        yql=f\"select text_block_id, text_block, text_block_window from sources document_passage where (userQuery() or ({{targetHits:1000}}nearestNeighbor(text_embedding_{model_name},query_embedding))) and (document_import_id in ('{document_id}'))\"\n",
    "        \n",
    "        if \"hybrid\" in rank_profile:\n",
    "            query_body[\"input.query(bm25_weight)\"] = hybrid_bm25_weight\n",
    "        \n",
    "    else:\n",
    "        query_body = None\n",
    "        yql = f\"select text_block_id, text_block from sources document_passage where userQuery() and (document_import_id in ('{document_id}'))\"\n",
    "        \n",
    "        \n",
    "    with app.syncio() as session:\n",
    "        response: VespaQueryResponse = session.query(\n",
    "            yql=yql,\n",
    "            hits=hits,\n",
    "            query=query,\n",
    "            ranking=rank_profile,\n",
    "            body=query_body\n",
    "        )\n",
    "\n",
    "    return response.json\n",
    "\n",
    "make_request(\n",
    "    \"how does the document define resilient development?\",\n",
    "    \"CCLW.executive.8737.1422\",\n",
    "    hits=2,\n",
    "    rank_profile=\"hybrid_bge_small\",\n",
    ")"
   ]
  },
  {
   "cell_type": "code",
   "execution_count": 104,
   "metadata": {},
   "outputs": [
    {
     "data": {
      "application/vnd.jupyter.widget-view+json": {
       "model_id": "35115871dff44ef698065464aa46fa5a",
       "version_major": 2,
       "version_minor": 0
      },
      "text/plain": [
       "  0%|          | 0/10 [00:00<?, ?it/s]"
      ]
     },
     "metadata": {},
     "output_type": "display_data"
    },
    {
     "name": "stdout",
     "output_type": "stream",
     "text": [
      "Results for rank profile *bm25*\n",
      "- Low Emission Climate Resilient Development\n",
      "- define\n",
      "- Towards Low Carbon Climate Resilient Development\n",
      "- BOX 1: Kenya's low carbon climate resilient development pathway\n",
      "- A low carbon climate resilient development pathway for Kenya emphasises:\n",
      "- Box 1: Kenya's low carbon climate resilient development pathway 5\n",
      "- Kenya's National Climate Change Response Strategy was the first national policy document on climate change. It sought to advance the integration of climate change adaptation and mitigation into all government planning, budgeting, and development objectives.\n",
      "- climate resilient\n",
      "- knowledge management refers to the organisation and sharing of climate change knowledge, while climate change-related capacity development is defined by the UNFCCC as \"enhancing the capacity and ability of countries to take effective climate change action.\"138 The priority actions on capacity development, presented in Table 10, emphasise the establishment of engendered\n",
      "- NCCAP 2018-2022 guides the climate actions of the National and County Governments, the private sector, civil society, and other actors, to enable Kenya transition to low carbon climate resilient development.\n",
      "\n",
      "\n",
      "Results for rank profile *splade*\n",
      "- The Counties in each of the Economic Blocs are listed hereafter:\n",
      "- Towards Low Carbon Climate Resilient Development\n",
      "- Knowledge Management and Capacity Development\n",
      "- Climate change is a major threat to Kenya's socio-economic wellbeing. Climate change, indeed, has the potential to roll back the development gains made over the years, and threatens the attainment of our Vision 2030 and my Government's Big Four Agenda.\n",
      "- Kenya is committed to the 2030 Agenda for Sustainable Development that was adopted by world leaders, including the President of the Republic of Kenya, in September 2015 at the United Nations (UN) Sustainable Development Summit. On 1st January, 2016, the 17 Sustainable Development Goals (SDGs) (see Box 6) officially came into force.\n",
      "- This National Climate Change Action Plan (NCCAP) 2018-2022 is a five- year Plan to guide Kenya's climate change actions, including the reduction of greenhouse gas emissions. The Planis a requirement bythe Climate Change Act, 2016, which seeks to further Kenya's development goals by providing mechanisms and measures to achieve low carbon climate resilient development, in a manner that prioritises adaptation. The Plan also sets out initiatives that foster movement towards the achievement of Kenya's Nationally Determined Contribution (NDC) under the Paris Agreement. The country's NDC include greenhouse gas emission reductions of 30% by 2030 from the \"business as usual\" scenario, mainstreaming of climate change adaptation into the Government's planning processes, and implementation of adaptation actions.\n",
      "- NCCAP 2018-2022 was prepared through an extensive consultation process. Over 1,000 stakeholders, including representatives from the National and County Governments, civil society, the academia, women's groups, youth groups, marginalised and minority groups, and the private sector, were consulted. These are gratefully acknowledged for their candid views that form the basis of this Plan. It is appreciated that effective implementation of NCCAP 2018-2022 will require continued input from these stakeholders, and increased partnerships and enhanced support from development partners.\n",
      "- SUSTAINABLE DEVELOPMENT\n",
      "- - Ministry of Transport, Infrastructure, Housing and Urban Development\n",
      ":unselected:\n",
      "- SUSTAINABLE DEVELOPMENT GOALS\n",
      "\n",
      "\n",
      "Results for rank profile *dense_bge_small*\n",
      "- Low Emission Climate Resilient Development\n",
      "- climate resilient\n",
      "- Towards Low Carbon Climate Resilient Development\n",
      "- Resilience refers to the capacity of social, economic and environmental systems to cope with a hazardous event, trend, or disturbance. It is manifested through responding or reorganizing in ways that assert the essential function, identity, and structure of the system, while also maintaining the capacity for adaptation, learning and transformation\n",
      "- 6. Enabling (capacity development)\n",
      "- generation that is climate resilient;\n",
      "- Enabling (capacity development)\n",
      "- resilience and preparedness measures, response interventions, and\n",
      "- · Develop strategies and coordinate actions for building resilience to climate change and enhancing adaptive capacity; and\n",
      "- A low carbon climate resilient development pathway for Kenya emphasises:\n",
      "\n",
      "\n",
      "Results for rank profile *dense_bge_base*\n",
      "- Low Emission Climate Resilient Development\n",
      "- Resilience refers to the capacity of social, economic and environmental systems to cope with a hazardous event, trend, or disturbance. It is manifested through responding or reorganizing in ways that assert the essential function, identity, and structure of the system, while also maintaining the capacity for adaptation, learning and transformation\n",
      "- Towards Low Carbon Climate Resilient Development\n",
      "- climate resilient\n",
      "- resilience and preparedness measures, response interventions, and\n",
      "- Improved resilience of households through livelihoods diversification\n",
      "- Environmental Conservation and protection is the foundation to sustainable development and resilience.\n",
      "- A low carbon climate resilient development pathway for Kenya emphasises:\n",
      "- generation that is climate resilient;\n",
      "- 50 Bakkegaard, R.K., Moller, L.R. & Bakhtuiarai, F. (2016). Joint Adaptation and Mitigation in Agriculture and Forestry. UNEP DTU working paper series, Climate Resilient Development Programme, Working Paper 2. Copenhagen: UNEP DTU.\n",
      "\n",
      "\n",
      "Results for rank profile *dense_distilbert_dot_v5*\n",
      "- Resilience refers to the capacity of social, economic and environmental systems to cope with a hazardous event, trend, or disturbance. It is manifested through responding or reorganizing in ways that assert the essential function, identity, and structure of the system, while also maintaining the capacity for adaptation, learning and transformation\n",
      "- climate resilient\n",
      "- generation that is climate resilient;\n",
      "- Towards Low Carbon Climate Resilient Development\n",
      "- Low Emission Climate Resilient Development\n",
      "- Sustainable Development - Reduced exposure and vulnerability of the country, especially of the poor and vulnerable groups, to climate disasters and shocks.\n",
      "- A low carbon climate resilient development pathway for Kenya emphasises:\n",
      "- Environmental Conservation and protection is the foundation to sustainable development and resilience.\n",
      "- At the regionallevel, the African Union's Agenda 2063 commits to climate change action that prioritises adaptation and calls on member countries to implement the Programme on Climate Action in Africa, including a climate resilient agricultural development programme. Agenda 2063 commits to building climate resilient economies and communities, and notes that participation in global efforts for climate change mitigation will support and broaden the policy space for sustainable development.\n",
      "- Sustainable Development - Restored and protected forests and rangelands, and their ecosystems and biodiversity; increased forest cover; improved food, nutrition, and water security; improved livelihoods of forest resource users; healthy wildlife populations and viable tourism operations; reduced poverty and inequality; and opportunities for timber industries and housing construction.\n",
      "\n",
      "\n",
      "Results for rank profile *dense_distilbert_base_tas_b*\n",
      "- climate resilient\n",
      "- Resilience refers to the capacity of social, economic and environmental systems to cope with a hazardous event, trend, or disturbance. It is manifested through responding or reorganizing in ways that assert the essential function, identity, and structure of the system, while also maintaining the capacity for adaptation, learning and transformation\n",
      "- Towards Low Carbon Climate Resilient Development\n",
      "- Low Emission Climate Resilient Development\n",
      "- generation that is climate resilient;\n",
      "- resilience and preparedness measures, response interventions, and\n",
      "- 6. Improve resilience of coastal communities\n",
      "- ■ Adaptation - Maintained or increased productivity and enhanced resilience of the agricultural systems through livelihood and crop diversification, increased water harvesting and storage, increased irrigation, sustainable land management, reduction in post-harvest losses, and uptake of insurance;\n",
      "- · Develop strategies and coordinate actions for building resilience to climate change and enhancing adaptive capacity; and\n",
      "- Improved resilience of households through livelihoods diversification\n",
      "\n",
      "\n",
      "Results for rank profile *hybrid_bge_small*\n",
      "- Low Emission Climate Resilient Development\n",
      "- Towards Low Carbon Climate Resilient Development\n",
      "- climate resilient\n",
      "- A low carbon climate resilient development pathway for Kenya emphasises:\n",
      "- BOX 1: Kenya's low carbon climate resilient development pathway\n",
      "- Box 1: Kenya's low carbon climate resilient development pathway 5\n",
      "- define\n",
      "- generation that is climate resilient;\n",
      "- knowledge management refers to the organisation and sharing of climate change knowledge, while climate change-related capacity development is defined by the UNFCCC as \"enhancing the capacity and ability of countries to take effective climate change action.\"138 The priority actions on capacity development, presented in Table 10, emphasise the establishment of engendered\n",
      "- Kenya's National Climate Change Response Strategy was the first national policy document on climate change. It sought to advance the integration of climate change adaptation and mitigation into all government planning, budgeting, and development objectives.\n",
      "\n",
      "\n",
      "Results for rank profile *hybrid_bge_base*\n",
      "- Low Emission Climate Resilient Development\n",
      "- Towards Low Carbon Climate Resilient Development\n",
      "- climate resilient\n",
      "- A low carbon climate resilient development pathway for Kenya emphasises:\n",
      "- BOX 1: Kenya's low carbon climate resilient development pathway\n",
      "- Box 1: Kenya's low carbon climate resilient development pathway 5\n",
      "- define\n",
      "- generation that is climate resilient;\n",
      "- NCCAP 2018-2022 seeks to further Kenya's development goals by providing mechanisms and measures to achieve low carbon climate resilient development, in a manner that prioritises adaptation, and recognises the essence of enhancing the climate resilience\n",
      "- At the regionallevel, the African Union's Agenda 2063 commits to climate change action that prioritises adaptation and calls on member countries to implement the Programme on Climate Action in Africa, including a climate resilient agricultural development programme. Agenda 2063 commits to building climate resilient economies and communities, and notes that participation in global efforts for climate change mitigation will support and broaden the policy space for sustainable development.\n",
      "\n",
      "\n",
      "Results for rank profile *hybrid_distilbert_dot_v5*\n",
      "- Low Emission Climate Resilient Development\n",
      "- Towards Low Carbon Climate Resilient Development\n",
      "- A low carbon climate resilient development pathway for Kenya emphasises:\n",
      "- define\n",
      "- climate resilient\n",
      "- BOX 1: Kenya's low carbon climate resilient development pathway\n",
      "- Box 1: Kenya's low carbon climate resilient development pathway 5\n",
      "- generation that is climate resilient;\n",
      "- knowledge management refers to the organisation and sharing of climate change knowledge, while climate change-related capacity development is defined by the UNFCCC as \"enhancing the capacity and ability of countries to take effective climate change action.\"138 The priority actions on capacity development, presented in Table 10, emphasise the establishment of engendered\n",
      "- NCCAP 2018-2022 seeks to further Kenya's development goals by providing mechanisms and measures to achieve low carbon climate resilient development, in a manner that prioritises adaptation, and recognises the essence of enhancing the climate resilience\n",
      "\n",
      "\n",
      "Results for rank profile *hybrid_distilbert_base_tas_b*\n",
      "- Low Emission Climate Resilient Development\n",
      "- Towards Low Carbon Climate Resilient Development\n",
      "- climate resilient\n",
      "- define\n",
      "- A low carbon climate resilient development pathway for Kenya emphasises:\n",
      "- BOX 1: Kenya's low carbon climate resilient development pathway\n",
      "- Box 1: Kenya's low carbon climate resilient development pathway 5\n",
      "- generation that is climate resilient;\n",
      "- NCCAP 2018-2022 seeks to further Kenya's development goals by providing mechanisms and measures to achieve low carbon climate resilient development, in a manner that prioritises adaptation, and recognises the essence of enhancing the climate resilience\n",
      "- knowledge management refers to the organisation and sharing of climate change knowledge, while climate change-related capacity development is defined by the UNFCCC as \"enhancing the capacity and ability of countries to take effective climate change action.\"138 The priority actions on capacity development, presented in Table 10, emphasise the establishment of engendered\n",
      "\n",
      "\n"
     ]
    }
   ],
   "source": [
    "def compare_requests(\n",
    "    query: str,\n",
    "    document_id: str,\n",
    "    hits: int = 10,\n",
    "    hybrid_bm25_weight: float = 0.02,\n",
    "):\n",
    "    rank_profiles = [\n",
    "        \"bm25\",\n",
    "        \"splade\",\n",
    "        \"dense_bge_small\", \n",
    "        \"dense_bge_base\", \n",
    "        \"dense_distilbert_dot_v5\", \n",
    "        \"dense_distilbert_base_tas_b\", \n",
    "        \"hybrid_bge_small\", \n",
    "        \"hybrid_bge_base\", \n",
    "        \"hybrid_distilbert_dot_v5\", \n",
    "        \"hybrid_distilbert_base_tas_b\", \n",
    "    ]\n",
    "    \n",
    "    results = dict()\n",
    "    \n",
    "    for profile in tqdm(rank_profiles):\n",
    "        try:\n",
    "            results[profile] = make_request(\n",
    "                query=query,\n",
    "                document_id=document_id,\n",
    "                hits=hits,\n",
    "                rank_profile=profile,\n",
    "                hybrid_bm25_weight=hybrid_bm25_weight,\n",
    "            )\n",
    "        except VespaError as e:\n",
    "            results[profile] = e\n",
    "            print(f\"Error with rank profile {profile}: {e}\")\n",
    "            \n",
    "    \n",
    "    for profile in rank_profiles:\n",
    "        print(f\"Results for rank profile *{profile}*\")\n",
    "        for idx in range(hits):\n",
    "            # print(f\"Hit {idx}\")\n",
    "            if isinstance(results[profile], VespaError):\n",
    "                print(f\"{profile}: {results[profile]}\")\n",
    "            else:\n",
    "                print(f\"- {results[profile]['root']['children'][idx]['fields']['text_block']}\")\n",
    "        print(\"\\n\")\n",
    "        \n",
    "    return results\n",
    "            \n",
    "results = compare_requests(\n",
    "    query=\"how does the document define resilient development?\",\n",
    "    document_id=\"CCLW.executive.8737.1422\",\n",
    ")"
   ]
  },
  {
   "cell_type": "code",
   "execution_count": null,
   "metadata": {},
   "outputs": [],
   "source": []
  }
 ],
 "metadata": {
  "kernelspec": {
   "display_name": "rag-labs-4_BbfzMU-py3.9",
   "language": "python",
   "name": "python3"
  },
  "language_info": {
   "codemirror_mode": {
    "name": "ipython",
    "version": 3
   },
   "file_extension": ".py",
   "mimetype": "text/x-python",
   "name": "python",
   "nbconvert_exporter": "python",
   "pygments_lexer": "ipython3",
   "version": "3.11.4"
  }
 },
 "nbformat": 4,
 "nbformat_minor": 2
}
