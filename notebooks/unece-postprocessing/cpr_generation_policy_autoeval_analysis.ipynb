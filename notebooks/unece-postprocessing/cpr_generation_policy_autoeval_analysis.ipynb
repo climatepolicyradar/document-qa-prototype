{
 "cells": [
  {
   "cell_type": "markdown",
   "metadata": {},
   "source": [
    "## CPR Generation Policy autoeval analysis\n",
    "\n",
    "The aim of this notebook is to analyse the various versions of the g-eval autoevaluator on CPR Generation Policy. "
   ]
  },
  {
   "cell_type": "code",
   "execution_count": 21,
   "metadata": {},
   "outputs": [],
   "source": [
    "import json\n",
    "import sys\n",
    "import pandas as pd\n",
    "import seaborn as sns\n",
    "import numpy as np\n",
    "import matplotlib.pyplot as plt\n",
    "\n",
    "from sklearn.metrics import f1_score, precision_score, recall_score, confusion_matrix, accuracy_score\n",
    "from pathlib import Path\n",
    "\n",
    "sys.path.append(Path(\".\").absolute().parent.parent.as_posix())\n",
    "\n",
    "from src.online.data_models import EndToEndGeneration\n",
    "from src.evaluation.evaluator import Score"
   ]
  },
  {
   "cell_type": "code",
   "execution_count": 4,
   "metadata": {},
   "outputs": [],
   "source": [
    "g_eval_generations_path = Path(\"../../data/eval/autoeval_results/results_filtered_by_retrieval_length_g_eval_binary_200_start_100.jsonl\")"
   ]
  },
  {
   "cell_type": "code",
   "execution_count": 12,
   "metadata": {},
   "outputs": [],
   "source": [
    "def true_and_pred_format(df: pd.DataFrame, human: list[Score], flip_score = True) -> tuple[list[float], list[float]]:\n",
    "    \"\"\"Reformats the Score objects and the dataframe into the sklearn format. Flips scores by default\"\"\"\n",
    "    ids = df[\"gen_uuid\"].tolist()\n",
    "\n",
    "    y_pred = df[\"score\"].tolist()\n",
    "    y_true = [next(score.score for score in human if score.gen_uuid == gen_uuid) for gen_uuid in ids]\n",
    "\n",
    "    if flip_score:\n",
    "        y_pred = [1 if y_pred == 0 else 0 for y_pred in y_pred]\n",
    "        y_true = [1 if y_true == 0 else 0 for y_true in y_true]\n",
    "\n",
    "    return y_true, y_pred"
   ]
  },
  {
   "cell_type": "code",
   "execution_count": 16,
   "metadata": {},
   "outputs": [],
   "source": [
    "def print_scores(y_true: list[float], y_pred: list[float]):\n",
    "    print(f\"F1 score: {round(f1_score(y_true, y_pred), 3)}\")\n",
    "    print(f\"Precision: {round(precision_score(y_true, y_pred), 3)}\")\n",
    "    print(f\"Recall: {round(recall_score(y_true, y_pred), 3)}\")\n",
    "    print(f\"Accuracy: {round(accuracy_score(y_true, y_pred), 3)}\")"
   ]
  },
  {
   "cell_type": "code",
   "execution_count": 36,
   "metadata": {},
   "outputs": [],
   "source": [
    "def merge_datasets(df: pd.DataFrame, human: list[Score]) -> pd.DataFrame:\n",
    "    merged = pd.concat([df, pd.DataFrame([score.model_dump() for score in human])], axis=0)\n",
    "\n",
    "    merged = merged.pivot(index=\"gen_uuid\", columns=\"name\", values=\"score\")\\\n",
    "        .dropna(subset=[\"g_eval\"]).reset_index().groupby([\"g_eval\", \"human\"])\\\n",
    "        .count()\\\n",
    "        .unstack()\n",
    "\n",
    "    merged.columns = merged.columns.droplevel(0)\n",
    "\n",
    "    return merged"
   ]
  },
  {
   "cell_type": "code",
   "execution_count": 8,
   "metadata": {},
   "outputs": [],
   "source": [
    "with open(\"../../data/eval/cpr_generation_policy_human_annotation_scores.jsonl\", \"r\") as f:\n",
    "    human_scores = [Score.model_validate_json(line) for line in f]\n",
    "\n",
    "human_score_ids = [score.gen_uuid for score in human_scores]\n",
    "\n",
    "generations = pd.read_json(\"../../data/final_2_all.jsonl\", lines=True)\n",
    "generations[\"uuid\"] = generations[\"generation\"].apply(lambda x: EndToEndGeneration.model_validate(x).uuid)\n",
    "\n",
    "cpr_generation_dataset = generations[generations[\"uuid\"].isin(human_score_ids)]"
   ]
  },
  {
   "cell_type": "code",
   "execution_count": 38,
   "metadata": {},
   "outputs": [],
   "source": [
    "df = pd.read_json(g_eval_generations_path, lines=True)\n",
    "df.drop_duplicates(subset=[\"gen_uuid\"], inplace=True)\n",
    "\n",
    "merged = merge_datasets(df, human_scores)"
   ]
  },
  {
   "cell_type": "code",
   "execution_count": 39,
   "metadata": {},
   "outputs": [
    {
     "name": "stdout",
     "output_type": "stream",
     "text": [
      "F1 score: 0.354\n",
      "Precision: 0.292\n",
      "Recall: 0.452\n",
      "Accuracy: 0.745\n"
     ]
    }
   ],
   "source": [
    "print_scores(\n",
    "    *true_and_pred_format(df, human_scores)\n",
    ")"
   ]
  },
  {
   "cell_type": "code",
   "execution_count": 40,
   "metadata": {},
   "outputs": [
    {
     "data": {
      "image/png": "[encoded data removed]",
      "text/plain": [
       "<Figure size 640x480 with 2 Axes>"
      ]
     },
     "metadata": {},
     "output_type": "display_data"
    }
   ],
   "source": [
    "sns.heatmap(merged, annot=True, fmt=\"d\", cmap=sns.cm.rocket_r)\n",
    "plt.show()"
   ]
  },
  {
   "cell_type": "code",
   "execution_count": 25,
   "metadata": {},
   "outputs": [],
   "source": [
    "# after looking through all 17 false negatives and 34 false positives, below are the comments\n",
    "# as to why they were misclassified\n",
    "\n",
    "false_negative_comments = {\n",
    "    'ef8f351e7a108a0a344d9c6a2c88ddfb': 'Citation shifted',\n",
    "    'aec7b4fe0d9c9df807b6735cbf11e095': 'No response case',\n",
    "    '8dea36738a5ed422dcf97dd733d8ebc6': 'No citation, hallucination (?), couldn’t have been answered — section headers',\n",
    "    'f22b006a3199318725f52abfc8338ab7': 'Hallucination couldn’t have been answered',\n",
    "    '2136b555b860a6dd3e9db982fff8e850': 'No response case',\n",
    "    'ee8a7bf1f71affd912ee640d81f6e843': 'Hallucination (maybe?) — annotator error?',\n",
    "    'ba00dbec47f21de3cfe1347bbb9c04da': 'Annotator error? Maybe some hallucination detected? Maybe unclear whether “observatory” is “National Observatory on Climate Change”?',\n",
    "    '9bd32d8907359a741885b43b6d56408d': 'No response case with explanation',\n",
    "    'd267e4cc5277bec5b527377750e89123': 'Very clear adversarial answer, should be picked up',\n",
    "    'b0912b1cb7be1d2589c999253f35e9d9': 'unclear?',\n",
    "    '985777a60afa0225d78e610c074bb181': 'No response (but later response)',\n",
    "    '90ccc1892096dbfb1e838c49cc6ed07d': 'No response',\n",
    "    '301e3937390885673ed1a3049545ce15': 'Hallucination (maybe? Unclear whether it’s talking about belarus)',\n",
    "    '80dbcb350d8818f7cc027884ec04588d': 'Unsupported claim (hallucination? Or the lack of information?)',\n",
    "    '39f48b78965e20c19c06be22d9c39cbe': 'Citations shifted',\n",
    "    '523f6620606da36036588c64b1bb0ad4': 'Citations shifted',\n",
    "    'c882048436962cf8f35e42adf9f60693': 'Tricky no response case “the document only”? '\n",
    "}\n",
    "\n",
    "false_positive_comments = {\n",
    "    'f885b10edcb595484060a69d9f668098': 'No response case',\n",
    "    '6cb567439c01a4fc4fe4682aff6a8316': 'No response case',\n",
    "    '7dc6390833e6cb44d567386f0e408a33': 'No response case',\n",
    "    '70fb542b20e95010d193b1145a16200c': 'Very strong hallucination ',\n",
    "    'f18431f695ebfa73b8c57fe4960af707': 'No response case',\n",
    "    'fefb85769e9ba94cbdc6ad6514e97605': 'No response case',\n",
    "    '7f6e36e93ef21881bd498ea9b8a29286': 'No response case',\n",
    "    '1288b401c44f4eebe987d704ffd3054f': 'Strong hallucination',\n",
    "    'd02e73092957dafeac050245f4d7e76f': 'No response case',\n",
    "    '8db51cea4b5e16deab560a2c57ad9ca1': 'Strong hallucination',\n",
    "    '8440565f6569fc7e01bc710dedbfc2eb': 'No response case',\n",
    "    'b523d5159667fe72caa353a31b89c0b6': 'Wrong answer (hallucination)',\n",
    "    '7bac54baf3ea1f5e42db5ab391f053b5': 'No response case',\n",
    "    '9cb462ef2adbc07e45b2844fcad98fb4': 'No response case',\n",
    "    'e29d81315d744a07a194d8f2409155dc': 'Citation shifted, unclear if it’s talking about the right thing',\n",
    "    'e4b9ac57303f391e2e798248c7c538ac': 'Unclear answer, bad citation (some hallucination)',\n",
    "    '6f821b139e0b9e48c8131ad470144f63': 'No response case',\n",
    "    '15a305899d03b190d1d37a1f9bf40f4e': 'No response case',\n",
    "    '27587d7966b391747f73f3bf8a74cfe3': 'No response case',\n",
    "    '3f964e1b88d464f837f947bc53b9d46c': 'No response case (but later responds)',\n",
    "    '70723363d12fbcb6d4e4a319543af924': 'No response case',\n",
    "    'f66369e9a7776f10581e5b769442a2b4': 'Hallucination',\n",
    "    '7170f95f5c68eb526bc07acb7535f658': 'No response case',\n",
    "    '74eff42140cbdb93532c5cc1a66b8b39': 'No response case',\n",
    "    '327f7d827de85879dc69aadf73e23d3b': 'No response case',\n",
    "    '9cf008dd3e58ddd7d6fad74b5b52ecb5': 'No response case',\n",
    "    '74cc104f4e8ef118c820bd54e0a4e340': 'No response case',\n",
    "    'e9959d99a5cddec58c7826f926bc881e': 'No response case',\n",
    "    '96c24d3acdfcc5bf3e616e070b1db11c': 'No response case',\n",
    "    'b406ffd703a7087ed56a6a31fe98d490': 'Hallucination, bad citations',\n",
    "    'f142ec1ead74e63eb03b4734ffe334f8': 'No response case',\n",
    "    '67bf4f64cf782e760b76da07ac928fde': 'Bad citations, says the plan doesn’t include something',\n",
    "    '95a819da0e32ce4be84252be0b12a150': 'Hallucination (contrary to info in context)',\n",
    "    '478a36c1218eef6d0338bbea2af21b8b': 'No response case'\n",
    "}"
   ]
  },
  {
   "cell_type": "markdown",
   "metadata": {},
   "source": [
    "## No response cases filtered, hallucination addressed\n",
    "Based on the above it seems like a large category issue is the no response cases. For the filtering, refer to:<br>\n",
    "`notebooks/unece-postprocessing/filtering_cpr_generation_policy_questions.ipynb`"
   ]
  },
  {
   "cell_type": "code",
   "execution_count": 53,
   "metadata": {},
   "outputs": [],
   "source": [
    "filtered_system_responds_path = Path(\"../../data/eval/autoeval_results/results_filtered_by_response_and_retrieval_length_g_eval_binary_300_hallucination.jsonl\")"
   ]
  },
  {
   "cell_type": "code",
   "execution_count": 54,
   "metadata": {},
   "outputs": [],
   "source": [
    "df = pd.read_json(filtered_system_responds_path, lines=True)\n",
    "df.drop_duplicates(subset=[\"gen_uuid\"], inplace=True)\n",
    "\n",
    "merged = merge_datasets(df, human_scores)"
   ]
  },
  {
   "cell_type": "code",
   "execution_count": 55,
   "metadata": {},
   "outputs": [
    {
     "name": "stdout",
     "output_type": "stream",
     "text": [
      "F1 score: 0.366\n",
      "Precision: 0.3\n",
      "Recall: 0.469\n",
      "Accuracy: 0.827\n"
     ]
    }
   ],
   "source": [
    "print_scores(\n",
    "    *true_and_pred_format(df, human_scores)\n",
    ")"
   ]
  },
  {
   "cell_type": "code",
   "execution_count": 56,
   "metadata": {},
   "outputs": [
    {
     "data": {
      "image/png": "[encoded data removed]",
      "text/plain": [
       "<Figure size 640x480 with 2 Axes>"
      ]
     },
     "metadata": {},
     "output_type": "display_data"
    }
   ],
   "source": [
    "sns.heatmap(merged, annot=True, fmt=\"d\", cmap=sns.cm.rocket_r)\n",
    "plt.show()"
   ]
  }
 ],
 "metadata": {
  "kernelspec": {
   "display_name": ".venv",
   "language": "python",
   "name": "python3"
  },
  "language_info": {
   "codemirror_mode": {
    "name": "ipython",
    "version": 3
   },
   "file_extension": ".py",
   "mimetype": "text/x-python",
   "name": "python",
   "nbconvert_exporter": "python",
   "pygments_lexer": "ipython3",
   "version": "3.11.4"
  }
 },
 "nbformat": 4,
 "nbformat_minor": 2
}
