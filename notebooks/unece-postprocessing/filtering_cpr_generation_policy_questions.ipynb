{
 "cells": [
  {
   "cell_type": "markdown",
   "metadata": {},
   "source": [
    "## Filtering CPR Generation Policy responses\n",
    "\n",
    "The aim of this notebook is to create a subset of the aggregated policy alignment human annotations using the other axes, namely:\n",
    "- should-have-responded\n",
    "- length of the retrieved results"
   ]
  },
  {
   "cell_type": "code",
   "execution_count": 104,
   "metadata": {},
   "outputs": [],
   "source": [
    "import sys\n",
    "import json\n",
    "import pandas as pd\n",
    "import seaborn as sns\n",
    "import matplotlib.pyplot as plt\n",
    "\n",
    "from pathlib import Path\n",
    "\n",
    "sys.path.append(Path(\".\").absolute().parent.parent.as_posix())\n",
    "\n",
    "from src.evaluation.evaluator import Score, EndToEndGeneration\n",
    "from src.evaluation.system_response import SystemResponse"
   ]
  },
  {
   "cell_type": "code",
   "execution_count": 16,
   "metadata": {},
   "outputs": [],
   "source": [
    "cpr_generation_policy_path = Path(\"../../data/eval/cpr_generation_policy_human_annotation_scores.jsonl\")\n",
    "should_have_responded_path = Path(\"../../data/eval/should_have_responded_human_annotation_scores_majority.jsonl\")\n",
    "\n",
    "output_path = Path(\"../../data/eval/cpr_generation_policy_filtered_by_should_have_responded.jsonl\")"
   ]
  },
  {
   "cell_type": "code",
   "execution_count": 82,
   "metadata": {},
   "outputs": [
    {
     "name": "stdout",
     "output_type": "stream",
     "text": [
      "994 1001\n"
     ]
    }
   ],
   "source": [
    "cpr_generation_policy_scores = [json.loads(line) for line in cpr_generation_policy_path.read_text().strip().split(\"\\n\")]\n",
    "should_have_responded_scores = [json.loads(line) for line in should_have_responded_path.read_text().strip().split(\"\\n\")]\n",
    "print(len(cpr_generation_policy_scores), len(should_have_responded_scores))"
   ]
  },
  {
   "cell_type": "code",
   "execution_count": 100,
   "metadata": {},
   "outputs": [],
   "source": [
    "policy_violation_ids = set(score[\"gen_uuid\"] for score in cpr_generation_policy_scores if score[\"score\"] == 0.0)"
   ]
  },
  {
   "cell_type": "code",
   "execution_count": 14,
   "metadata": {},
   "outputs": [
    {
     "data": {
      "text/plain": [
       "269"
      ]
     },
     "execution_count": 14,
     "metadata": {},
     "output_type": "execute_result"
    }
   ],
   "source": [
    "should_not_have_responded_ids = [score[\"gen_uuid\"] for score in should_have_responded_scores if score[\"score\"] == 0.0]\n",
    "len(should_not_have_responded_ids)"
   ]
  },
  {
   "cell_type": "code",
   "execution_count": 15,
   "metadata": {},
   "outputs": [
    {
     "data": {
      "text/plain": [
       "758"
      ]
     },
     "execution_count": 15,
     "metadata": {},
     "output_type": "execute_result"
    }
   ],
   "source": [
    "filtered_cpr_generation_policy_scores = [score for score in cpr_generation_policy_scores if score[\"gen_uuid\"] not in should_not_have_responded_ids]\n",
    "len(filtered_cpr_generation_policy_scores)"
   ]
  },
  {
   "cell_type": "code",
   "execution_count": 17,
   "metadata": {},
   "outputs": [],
   "source": [
    "with open(output_path, \"w\") as f:\n",
    "    for score in filtered_cpr_generation_policy_scores:\n",
    "        f.write(json.dumps(score) + \"\\n\")"
   ]
  },
  {
   "cell_type": "code",
   "execution_count": 20,
   "metadata": {},
   "outputs": [
    {
     "name": "stdout",
     "output_type": "stream",
     "text": [
      "(772, 9)\n"
     ]
    },
    {
     "name": "stderr",
     "output_type": "stream",
     "text": [
      "/var/folders/c1/skfn6y1s1432yhzx3z_2zrph0000gn/T/ipykernel_76440/3483973100.py:10: SettingWithCopyWarning: \n",
      "A value is trying to be set on a copy of a slice from a DataFrame\n",
      "\n",
      "See the caveats in the documentation: https://pandas.pydata.org/pandas-docs/stable/user_guide/indexing.html#returning-a-view-versus-a-copy\n",
      "  filtered_dataset.drop(columns=[\"uuid\"], inplace=True)\n"
     ]
    }
   ],
   "source": [
    "# create the relevant generations file\n",
    "\n",
    "ids = [score[\"gen_uuid\"] for score in filtered_cpr_generation_policy_scores]\n",
    "\n",
    "\n",
    "df = pd.read_json(\"../../data/final_2_all.jsonl\", lines=True)\n",
    "df[\"uuid\"] = df[\"generation\"].apply(lambda x: EndToEndGeneration.model_validate(x).uuid)\n",
    "\n",
    "filtered_by_should_not_have_responded = df[df[\"uuid\"].isin(ids)]\n",
    "filtered_by_should_not_have_responded.drop(columns=[\"uuid\"], inplace=True)\n",
    "print(filtered_by_should_not_have_responded.shape)"
   ]
  },
  {
   "cell_type": "code",
   "execution_count": 22,
   "metadata": {},
   "outputs": [],
   "source": [
    "filtered_by_should_not_have_responded.to_json(\"../../data/eval/generations/cpr_generation_policy_filtered_generations.jsonl\", orient=\"records\", lines=True)"
   ]
  },
  {
   "cell_type": "markdown",
   "metadata": {},
   "source": [
    "## Retrieved passage as indicator\n",
    "\n",
    "In the following, looking at the retrieved passage length as an indicator to whether the system could have responded.\n"
   ]
  },
  {
   "cell_type": "code",
   "execution_count": 55,
   "metadata": {},
   "outputs": [
    {
     "data": {
      "image/png": "[encoded data removed]",
      "text/plain": [
       "<Figure size 1500x600 with 2 Axes>"
      ]
     },
     "metadata": {},
     "output_type": "display_data"
    }
   ],
   "source": [
    "def get_length(x):\n",
    "    e2e_gen = EndToEndGeneration.model_validate(x[\"generation\"])\n",
    "    if e2e_gen.rag_response is not None:\n",
    "        return len(e2e_gen.rag_response.retrieved_passages_as_string())\n",
    "    return None\n",
    "\n",
    "lengths_df = df.apply(lambda x: get_length(x), axis=1)\n",
    "lengths_filtered = filtered_by_should_not_have_responded.apply(lambda x: get_length(x), axis=1)\n",
    "\n",
    "fig, ax = plt.subplots(1, 2, figsize=(15, 6))\n",
    "sns.histplot(lengths_df.dropna(), ax=ax[0])\n",
    "sns.histplot(lengths_filtered.dropna(), ax=ax[1])\n",
    "plt.show()"
   ]
  },
  {
   "cell_type": "markdown",
   "metadata": {},
   "source": [
    "The distribution seems different, which suggests that the should-have-responded filter removed a bunch of the very short retrievals."
   ]
  },
  {
   "cell_type": "code",
   "execution_count": 56,
   "metadata": {},
   "outputs": [],
   "source": [
    "df[\"retrieve_passage_length\"] = df.apply(lambda x: get_length(x), axis=1)\n",
    "\n",
    "short_retrieval = df[(~df[\"retrieve_passage_length\"].isna()) & (df[\"retrieve_passage_length\"] < 300)]"
   ]
  },
  {
   "cell_type": "code",
   "execution_count": 59,
   "metadata": {},
   "outputs": [],
   "source": [
    "def print_retrieval(x):\n",
    "    print(\"=\"*100)\n",
    "    e2e_gen = EndToEndGeneration.model_validate(x[\"generation\"])\n",
    "    if e2e_gen.rag_response is not None:\n",
    "        print(e2e_gen.rag_response.retrieved_passages_as_string())"
   ]
  },
  {
   "cell_type": "code",
   "execution_count": 61,
   "metadata": {},
   "outputs": [
    {
     "name": "stdout",
     "output_type": "stream",
     "text": [
      "====================================================================================================\n",
      "[1]: This policy examines the core concepts of Sustainable Development upon which the national definition was built and in light of which specific policy statements are made. The main objectives of this policy are:\n",
      "[2]: 4. Policy Objectives & Goals\n",
      "[3]: 4. POLICY OBJECTIVES & GOALS\n",
      "====================================================================================================\n",
      "[1]: 5.1.4. must be ensuring public participation.\n",
      "[2]: CHAPTER TWO. DEVELOPMENT POLICY DOCUMENTS\n",
      "[3]: Article. 6. Types of development policy documents\n",
      "====================================================================================================\n",
      "[1]: Renewable Fuels Regulations\n",
      "[2]: Renewable Fuels Regulations\n",
      "[3]: Renewable Fuels Regulations\n",
      "====================================================================================================\n",
      "[1]: opportunities for green growth implementation in Jordan;\n",
      "[2]: 2. Assessing Green Growth in Jordan's Agriculture Sector\n",
      "[3]: 2. Assessing Green Growth in Jordan's Agriculture Sector 07\n",
      "====================================================================================================\n",
      "[1]: Managing the transition to low-emissions power\n",
      "[2]: Chapter 2: Managing the transition to low-emissions power\n",
      "[3]: Chapter 2 | Managing the transition to low-emissions power\n",
      "====================================================================================================\n",
      "[1]: Functions, Duties and Powers of the National Disaster Controller\n",
      "[2]: 11. Functions, Duties & Powers of National Disaster Controller\n",
      "[3]: National Disaster Controller\n",
      "====================================================================================================\n",
      "[1]: Risks of delayed grid expansion\n",
      "[2]: Grid expansion projects are associated with a high risk of delays\n",
      "[3]: Delays in grid development would slow clean energy transitions, raise costs and heighten security concerns\n",
      "====================================================================================================\n",
      "[1]: (e) the Water Resources Act 1991.\n",
      "[2]: Flood and Water Management Act 2010\n",
      "[3]: Flood and Water Management Act 2010\n",
      "[4]: Flood and Water Management Act 2010 (c. 29)\n",
      "[5]: Flood and Water Management Act 2010 (c. 29)\n",
      "[6]: Flood and Water Management Act 2010 (c. 29)\n",
      "====================================================================================================\n",
      "[1]: Treasury Priority Adaptation Action Areas\n",
      "[2]: Treasury Priority Adaption Action Areas\n",
      "[3]: Climate Action Planning Topic Areas\n",
      "====================================================================================================\n",
      "[1]: CHAPTER III: PREVENTION AND MANAGEMENT OF TECHNOLOGICAL RISKS AND DISASTERS\n",
      "[2]: The government takes all necessary measures to prevent and effectively manage technological risks and natural or technological disasters.\n",
      "[3]: - prevention and satisfactory management of technological risks\n"
     ]
    }
   ],
   "source": [
    "_ = short_retrieval.sample(10).apply(lambda x: print_retrieval(x), axis=1)"
   ]
  },
  {
   "cell_type": "markdown",
   "metadata": {},
   "source": [
    "All of the above are of low quality, so the limit of 300 feels like a good place to start as a heuristic to say, the question is unlikely to be answerable based on this much information.<br><br>\n",
    "Quickly checking, how does this correlate with the \"should have responded\" answers."
   ]
  },
  {
   "cell_type": "code",
   "execution_count": 95,
   "metadata": {},
   "outputs": [
    {
     "name": "stdout",
     "output_type": "stream",
     "text": [
      "994\n"
     ]
    },
    {
     "name": "stderr",
     "output_type": "stream",
     "text": [
      "/var/folders/c1/skfn6y1s1432yhzx3z_2zrph0000gn/T/ipykernel_76440/3595548815.py:4: SettingWithCopyWarning: \n",
      "A value is trying to be set on a copy of a slice from a DataFrame\n",
      "\n",
      "See the caveats in the documentation: https://pandas.pydata.org/pandas-docs/stable/user_guide/indexing.html#returning-a-view-versus-a-copy\n",
      "  original_dataset.drop_duplicates(subset=[\"uuid\"], inplace=True)\n"
     ]
    }
   ],
   "source": [
    "# getting only those generations that were in the original CPR-generation-policy dataset\n",
    "original_ids = [score[\"gen_uuid\"] for score in cpr_generation_policy_scores]\n",
    "original_dataset = df[df[\"uuid\"].isin(original_ids)]\n",
    "original_dataset.drop_duplicates(subset=[\"uuid\"], inplace=True)\n",
    "print(original_dataset.shape[0])"
   ]
  },
  {
   "cell_type": "code",
   "execution_count": 96,
   "metadata": {},
   "outputs": [
    {
     "name": "stderr",
     "output_type": "stream",
     "text": [
      "/var/folders/c1/skfn6y1s1432yhzx3z_2zrph0000gn/T/ipykernel_76440/2686048241.py:2: SettingWithCopyWarning: \n",
      "A value is trying to be set on a copy of a slice from a DataFrame.\n",
      "Try using .loc[row_indexer,col_indexer] = value instead\n",
      "\n",
      "See the caveats in the documentation: https://pandas.pydata.org/pandas-docs/stable/user_guide/indexing.html#returning-a-view-versus-a-copy\n",
      "  original_dataset[\"retrieve_passage_length\"] = original_dataset.apply(lambda x: get_length(x), axis=1)\n"
     ]
    },
    {
     "data": {
      "text/plain": [
       "(994, 228)"
      ]
     },
     "execution_count": 96,
     "metadata": {},
     "output_type": "execute_result"
    }
   ],
   "source": [
    "# identifying those generations that are short (less than 300 characters)\n",
    "original_dataset[\"retrieve_passage_length\"] = original_dataset.apply(lambda x: get_length(x), axis=1)\n",
    "original_short_retrieval = original_dataset[(~original_dataset[\"retrieve_passage_length\"].isna()) & (original_dataset[\"retrieve_passage_length\"] < 300)]\n",
    "original_dataset.shape[0], original_short_retrieval.shape[0]"
   ]
  },
  {
   "cell_type": "code",
   "execution_count": 97,
   "metadata": {},
   "outputs": [
    {
     "name": "stdout",
     "output_type": "stream",
     "text": [
      "The intersection of short retrieved passages and should-not-have-responded: 93\n"
     ]
    }
   ],
   "source": [
    "print(f\"The intersection of short retrieved passages and should-not-have-responded: {len(set(original_short_retrieval['uuid'].tolist()).intersection(set(should_not_have_responded_ids)))}\")"
   ]
  },
  {
   "cell_type": "code",
   "execution_count": 103,
   "metadata": {},
   "outputs": [
    {
     "name": "stdout",
     "output_type": "stream",
     "text": [
      "All should-not-have-responded: 269, out of which policy violation ids: 46\n",
      "All short retrieved passages: 228, out of which policy violation ids: 35\n"
     ]
    }
   ],
   "source": [
    "print(f\"All should-not-have-responded: {len(should_not_have_responded_ids)}, out of which policy violation ids: {len(policy_violation_ids.intersection(should_not_have_responded_ids))}\")\n",
    "print(f\"All short retrieved passages: {original_short_retrieval.shape[0]}, out of which policy violation ids: {len(policy_violation_ids.intersection(set(original_short_retrieval['uuid'].tolist())))}\")"
   ]
  },
  {
   "cell_type": "code",
   "execution_count": 93,
   "metadata": {},
   "outputs": [],
   "source": [
    "filtered_by_retrieval_length = original_dataset[~original_dataset[\"uuid\"].isin(original_short_retrieval[\"uuid\"].tolist())]\n",
    "assert filtered_by_retrieval_length.shape[0] == 994 - 228"
   ]
  },
  {
   "cell_type": "code",
   "execution_count": 94,
   "metadata": {},
   "outputs": [],
   "source": [
    "filtered_by_retrieval_length.to_json(\n",
    "    \"../../data/eval/generations/cpr_generation_policy_filtered_by_retrieval_length.jsonl\",\n",
    "    orient=\"records\",\n",
    "    lines=True\n",
    ")"
   ]
  },
  {
   "cell_type": "markdown",
   "metadata": {},
   "source": [
    "## Filtering by no response cases"
   ]
  },
  {
   "cell_type": "code",
   "execution_count": 105,
   "metadata": {},
   "outputs": [],
   "source": [
    "system_response_evaluator = SystemResponse()"
   ]
  },
  {
   "cell_type": "code",
   "execution_count": 109,
   "metadata": {},
   "outputs": [
    {
     "name": "stderr",
     "output_type": "stream",
     "text": [
      "/var/folders/c1/skfn6y1s1432yhzx3z_2zrph0000gn/T/ipykernel_76440/108468017.py:1: SettingWithCopyWarning: \n",
      "A value is trying to be set on a copy of a slice from a DataFrame.\n",
      "Try using .loc[row_indexer,col_indexer] = value instead\n",
      "\n",
      "See the caveats in the documentation: https://pandas.pydata.org/pandas-docs/stable/user_guide/indexing.html#returning-a-view-versus-a-copy\n",
      "  original_dataset[\"system_response\"] = original_dataset[\"generation\"].apply(lambda x: system_response_evaluator.evaluate(EndToEndGeneration.model_validate(x)).score)\n"
     ]
    }
   ],
   "source": [
    "original_dataset[\"system_response\"] = original_dataset[\"generation\"].apply(lambda x: system_response_evaluator.evaluate(EndToEndGeneration.model_validate(x)).score)"
   ]
  },
  {
   "cell_type": "code",
   "execution_count": 114,
   "metadata": {},
   "outputs": [
    {
     "data": {
      "text/plain": [
       "610"
      ]
     },
     "execution_count": 114,
     "metadata": {},
     "output_type": "execute_result"
    }
   ],
   "source": [
    "filter_dataset_by_system_responds = original_dataset[original_dataset[\"system_response\"] == 1.0]\n",
    "filter_dataset_by_system_responds.shape[0]"
   ]
  },
  {
   "cell_type": "code",
   "execution_count": 115,
   "metadata": {},
   "outputs": [],
   "source": [
    "filter_dataset_by_system_responds.to_json(\n",
    "    \"../../data/eval/generations/cpr_generation_policy_filtered_by_system_responds.jsonl\",\n",
    "    orient=\"records\",\n",
    "    lines=True\n",
    ")"
   ]
  },
  {
   "cell_type": "markdown",
   "metadata": {},
   "source": [
    "## No response & short context"
   ]
  },
  {
   "cell_type": "code",
   "execution_count": 123,
   "metadata": {},
   "outputs": [
    {
     "data": {
      "text/plain": [
       "(228, 610)"
      ]
     },
     "execution_count": 123,
     "metadata": {},
     "output_type": "execute_result"
    }
   ],
   "source": [
    "original_short_retrieval.shape[0], filter_dataset_by_system_responds.shape[0]"
   ]
  },
  {
   "cell_type": "code",
   "execution_count": 124,
   "metadata": {},
   "outputs": [
    {
     "data": {
      "text/plain": [
       "98"
      ]
     },
     "execution_count": 124,
     "metadata": {},
     "output_type": "execute_result"
    }
   ],
   "source": [
    "len(set(original_short_retrieval[\"uuid\"].tolist()).intersection(set(filter_dataset_by_system_responds[\"uuid\"].tolist())))"
   ]
  },
  {
   "cell_type": "code",
   "execution_count": 125,
   "metadata": {},
   "outputs": [],
   "source": [
    "filtered_by_response_and_retrieval_length = filter_dataset_by_system_responds[\n",
    "    ~filter_dataset_by_system_responds[\"uuid\"].isin(original_short_retrieval[\"uuid\"].tolist())\n",
    "]\n",
    "\n",
    "assert filtered_by_response_and_retrieval_length.shape[0] == 610 - 98"
   ]
  },
  {
   "cell_type": "code",
   "execution_count": 126,
   "metadata": {},
   "outputs": [],
   "source": [
    "filtered_by_response_and_retrieval_length.to_json(\n",
    "    \"../../data/eval/generations/cpr_generation_policy_filtered_by_response_and_retrieval_length.jsonl\",\n",
    "    orient=\"records\",\n",
    "    lines=True\n",
    ")"
   ]
  },
  {
   "cell_type": "code",
   "execution_count": 129,
   "metadata": {},
   "outputs": [
    {
     "name": "stdout",
     "output_type": "stream",
     "text": [
      "Remaining items that break the policy: 51 and those that follow it: 461\n"
     ]
    }
   ],
   "source": [
    "remaining_scores = [score for score in cpr_generation_policy_scores if score[\"gen_uuid\"] in filtered_by_response_and_retrieval_length[\"uuid\"].tolist()]\n",
    "\n",
    "print(\n",
    "    f\"Remaining items that break the policy: {len([s for s in remaining_scores if s['score'] == 0.0])} \"\\\n",
    "    f\"and those that follow it: {len([s for s in remaining_scores if s['score'] == 1.0])}\"\n",
    ")"
   ]
  },
  {
   "cell_type": "code",
   "execution_count": null,
   "metadata": {},
   "outputs": [],
   "source": []
  }
 ],
 "metadata": {
  "kernelspec": {
   "display_name": ".venv",
   "language": "python",
   "name": "python3"
  },
  "language_info": {
   "codemirror_mode": {
    "name": "ipython",
    "version": 3
   },
   "file_extension": ".py",
   "mimetype": "text/x-python",
   "name": "python",
   "nbconvert_exporter": "python",
   "pygments_lexer": "ipython3",
   "version": "3.11.4"
  }
 },
 "nbformat": 4,
 "nbformat_minor": 2
}
